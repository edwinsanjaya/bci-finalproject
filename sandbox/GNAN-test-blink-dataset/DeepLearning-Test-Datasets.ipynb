{
 "cells": [
  {
   "cell_type": "markdown",
   "metadata": {
    "id": "uuutyCx4YTpX"
   },
   "source": [
    "# Data Mining Lab 2\n"
   ]
  },
  {
   "cell_type": "code",
   "execution_count": 1,
   "metadata": {
    "id": "anfjcPSSYTpX"
   },
   "outputs": [],
   "source": [
    "import scipy.io\n",
    "import pandas as pd\n",
    "import numpy as np\n",
    "from keras.models import Sequential\n",
    "from keras.layers import LSTM, Dense\n",
    "\n",
    "# Load the .mat files\n",
    "mat_invol = scipy.io.loadmat('epochs_blinks_ASR_invol.mat')\n",
    "mat_vol = scipy.io.loadmat('epochs_blinks_ASR_vol.mat')\n",
    "\n",
    "# Extract the data from the .mat files\n",
    "data_invol = mat_invol['epochs_blinks_ASR_invol']\n",
    "data_vol = mat_vol['epochs_blinks_ASR_vol']\n",
    "\n",
    "# Number of features ('FP1' and 'FP2'), time steps and samples\n",
    "n_features = data_invol.shape[0]\n",
    "n_timesteps = data_invol.shape[1]\n",
    "n_samples_invol = data_invol.shape[2]\n",
    "n_samples_vol = data_vol.shape[2]\n",
    "\n",
    "# Reshape the data to be of size (samples, timesteps, features)\n",
    "data_invol = np.transpose(data_invol, (2, 1, 0))\n",
    "data_vol = np.transpose(data_vol, (2, 1, 0))\n",
    "\n",
    "# Create labels for the involuntary (0) and voluntary (1) data\n",
    "labels_invol = np.zeros((n_samples_invol, 1))\n",
    "labels_vol = np.ones((n_samples_vol, 1))\n",
    "\n",
    "# Combine the involuntary and voluntary data and labels\n",
    "X = np.concatenate((data_invol, data_vol), axis=0)\n",
    "y = np.concatenate((labels_invol, labels_vol), axis=0)\n"
   ]
  },
  {
   "cell_type": "code",
   "execution_count": 2,
   "metadata": {
    "id": "yVc2T5MIYTpX"
   },
   "outputs": [],
   "source": [
    "from keras.models import Sequential\n",
    "from keras.layers import LSTM, Dense, Conv1D, Bidirectional\n",
    "from keras.layers import MaxPooling1D, Dropout, BatchNormalization\n",
    "from sklearn.model_selection import train_test_split\n",
    "\n",
    "# Split the data into training and temporary sets (70% training, 30% temporary)\n",
    "X_temp, X_train, y_temp, y_train = train_test_split(X, y, test_size=0.7, random_state=42, shuffle=True)\n",
    "\n",
    "# Split the temporary set into validation and test sets (50% validation, 50% test)\n",
    "X_val, X_test, y_val, y_test = train_test_split(X_temp, y_temp, test_size=0.5, random_state=42, shuffle=True)\n"
   ]
  },
  {
   "cell_type": "code",
   "execution_count": 4,
   "metadata": {
    "colab": {
     "base_uri": "https://localhost:8080/",
     "height": 206
    },
    "id": "Kw8bGMv7YTpX",
    "outputId": "9f6f7052-302e-4794-ef69-b84450b61b36"
   },
   "outputs": [
    {
     "name": "stdout",
     "output_type": "stream",
     "text": [
      "Epoch 1/15\n",
      "20/20 [==============================] - 9s 274ms/step - loss: 0.6448 - accuracy: 0.6268 - val_loss: 0.7479 - val_accuracy: 0.5662\n",
      "Epoch 2/15\n",
      "20/20 [==============================] - 5s 236ms/step - loss: 0.5675 - accuracy: 0.7039 - val_loss: 0.8176 - val_accuracy: 0.5735\n",
      "Epoch 3/15\n",
      "20/20 [==============================] - 4s 223ms/step - loss: 0.5474 - accuracy: 0.7197 - val_loss: 0.7133 - val_accuracy: 0.6029\n",
      "Epoch 4/15\n",
      "20/20 [==============================] - 4s 221ms/step - loss: 0.5014 - accuracy: 0.7559 - val_loss: 0.5992 - val_accuracy: 0.6912\n",
      "Epoch 5/15\n",
      "20/20 [==============================] - 4s 217ms/step - loss: 0.5084 - accuracy: 0.7480 - val_loss: 0.6624 - val_accuracy: 0.6324\n",
      "Epoch 6/15\n",
      "20/20 [==============================] - 4s 219ms/step - loss: 0.4654 - accuracy: 0.7780 - val_loss: 0.6094 - val_accuracy: 0.6765\n",
      "Epoch 7/15\n",
      "20/20 [==============================] - 4s 218ms/step - loss: 0.4638 - accuracy: 0.7827 - val_loss: 0.6873 - val_accuracy: 0.6324\n",
      "Epoch 8/15\n",
      "20/20 [==============================] - 4s 219ms/step - loss: 0.4462 - accuracy: 0.8079 - val_loss: 0.6046 - val_accuracy: 0.6765\n",
      "Epoch 9/15\n",
      "20/20 [==============================] - 4s 219ms/step - loss: 0.4152 - accuracy: 0.8142 - val_loss: 0.6345 - val_accuracy: 0.6985\n",
      "Epoch 10/15\n",
      "20/20 [==============================] - 4s 221ms/step - loss: 0.3992 - accuracy: 0.8252 - val_loss: 0.6491 - val_accuracy: 0.6471\n",
      "Epoch 11/15\n",
      "20/20 [==============================] - 4s 220ms/step - loss: 0.3513 - accuracy: 0.8661 - val_loss: 0.6871 - val_accuracy: 0.6618\n",
      "Epoch 12/15\n",
      "20/20 [==============================] - 4s 221ms/step - loss: 0.3950 - accuracy: 0.8362 - val_loss: 0.7165 - val_accuracy: 0.6471\n",
      "Epoch 13/15\n",
      "20/20 [==============================] - 4s 223ms/step - loss: 0.3834 - accuracy: 0.8441 - val_loss: 0.6018 - val_accuracy: 0.6838\n",
      "Epoch 14/15\n",
      "20/20 [==============================] - 4s 220ms/step - loss: 0.3254 - accuracy: 0.8598 - val_loss: 0.7009 - val_accuracy: 0.6544\n",
      "Epoch 15/15\n",
      "20/20 [==============================] - 4s 222ms/step - loss: 0.2887 - accuracy: 0.8929 - val_loss: 0.6614 - val_accuracy: 0.7059\n",
      "5/5 [==============================] - 0s 57ms/step - loss: 0.7067 - accuracy: 0.7132\n",
      "Test loss: 0.7067462801933289, Test accuracy: 0.7132353186607361\n"
     ]
    }
   ],
   "source": [
    "from keras.optimizers import Adam\n",
    "# Define the model\n",
    "model = Sequential()\n",
    "\n",
    "# Convolutional layer\n",
    "model.add(Conv1D(32, 5, activation='relu', input_shape=(n_timesteps, n_features)))\n",
    "model.add(MaxPooling1D(2))\n",
    "\n",
    "# Batch normalization layer\n",
    "model.add(BatchNormalization())\n",
    "\n",
    "# LSTM layer\n",
    "model.add(Bidirectional(LSTM(25, return_sequences=True)))  # Bidirectional LSTM layer with 50 units\n",
    "\n",
    "# Dropout for regularization\n",
    "model.add(Dropout(0.3))\n",
    "\n",
    "# LSTM layer\n",
    "model.add(Bidirectional(LSTM(50)))  # Another Bidirectional LSTM layer with 50 units\n",
    "\n",
    "# Output layer for binary classification\n",
    "model.add(Dense(1, activation='sigmoid'))  \n",
    "\n",
    "learning_rate = 0.002  # Set the learning rate\n",
    "optimizer = Adam(learning_rate=learning_rate)\n",
    "model.compile(loss='binary_crossentropy', optimizer=optimizer, metrics=['accuracy'])\n",
    "\n",
    "# Train the model on the training data and validate on the validation data\n",
    "history = model.fit(X_train, y_train, epochs=15, batch_size=32, validation_data=(X_val, y_val))\n",
    "\n",
    "# Test the model on the test data\n",
    "test_loss, test_accuracy = model.evaluate(X_test, y_test)\n",
    "print(f'Test loss: {test_loss}, Test accuracy: {test_accuracy}')"
   ]
  },
  {
   "cell_type": "code",
   "execution_count": 5,
   "metadata": {
    "id": "HBHwcL8sYTpX"
   },
   "outputs": [
    {
     "name": "stdout",
     "output_type": "stream",
     "text": [
      "5/5 [==============================] - 1s 59ms/step\n"
     ]
    },
    {
     "data": {
      "image/png": "[encoded data removed]",
      "text/plain": [
       "<Figure size 1000x700 with 2 Axes>"
      ]
     },
     "metadata": {},
     "output_type": "display_data"
    }
   ],
   "source": [
    "from sklearn.metrics import confusion_matrix\n",
    "import seaborn as sns\n",
    "import matplotlib.pyplot as plt\n",
    "from numpy import argmax\n",
    "\n",
    "# predict the values from the test dataset\n",
    "y_pred = model.predict(X_test)\n",
    "y_pred = [1 if y >= 0.5 else 0 for y in y_pred]  # transform probabilities into binary outputs\n",
    "\n",
    "# Compute the confusion matrix\n",
    "conf_mat = confusion_matrix(y_test, y_pred)\n",
    "\n",
    "# Plot the confusion matrix\n",
    "plt.figure(figsize=(10, 7))\n",
    "sns.heatmap(conf_mat, annot=True, fmt='d', cmap=\"Blues\")\n",
    "plt.title('Confusion matrix')\n",
    "plt.xlabel('Predicted Voluntary Blinking')\n",
    "plt.ylabel('True Voluntary Blinking')\n",
    "plt.show()"
   ]
  },
  {
   "cell_type": "code",
   "execution_count": 6,
   "metadata": {
    "colab": {
     "base_uri": "https://localhost:8080/"
    },
    "id": "9w_cDUwCYTpX",
    "outputId": "3582ac44-1f5f-4cb2-b833-d477f152461a",
    "scrolled": true
   },
   "outputs": [
    {
     "name": "stdout",
     "output_type": "stream",
     "text": [
      "              precision    recall  f1-score   support\n",
      "\n",
      "         0.0       0.71      0.70      0.70        66\n",
      "         1.0       0.72      0.73      0.72        70\n",
      "\n",
      "    accuracy                           0.71       136\n",
      "   macro avg       0.71      0.71      0.71       136\n",
      "weighted avg       0.71      0.71      0.71       136\n",
      "\n"
     ]
    }
   ],
   "source": [
    "from sklearn.metrics import classification_report\n",
    "\n",
    "# Generate the classification report\n",
    "report = classification_report(y_test, y_pred)\n",
    "\n",
    "print(report)"
   ]
  },
  {
   "cell_type": "code",
   "execution_count": 12,
   "metadata": {},
   "outputs": [],
   "source": [
    "import numpy as np\n",
    "from scipy import signal\n",
    "\n",
    "def calculate_psd(data, Fs):\n",
    "    \"\"\"\n",
    "    Calculate the power spectral density (PSD) for EEG data.\n",
    "\n",
    "    Parameters:\n",
    "    - data: array-like, EEG data with shape (channels, points, trials)\n",
    "    - Fs: int, the sampling frequency\n",
    "\n",
    "    Returns:\n",
    "    - psds: array-like, PSDs with shape (channels, frequencies, trials)\n",
    "    - freqs: array-like, frequencies for which the PSDs were computed\n",
    "    \"\"\"\n",
    "    # Initialize array to store the PSDs\n",
    "    psds = []\n",
    "\n",
    "    # Loop over the channels\n",
    "    for channel_data in data:\n",
    "        # Loop over the trials\n",
    "        channel_psds = []\n",
    "        for trial_data in channel_data.T:\n",
    "            # Calculate the PSD using Welch's method\n",
    "            freqs, psd = signal.welch(trial_data, Fs)\n",
    "            channel_psds.append(psd)\n",
    "        psds.append(channel_psds)\n",
    "    \n",
    "    return np.array(psds), freqs"
   ]
  },
  {
   "cell_type": "code",
   "execution_count": 13,
   "metadata": {},
   "outputs": [],
   "source": [
    "# Extract the data from the .mat files\n",
    "data_invol = mat_invol['epochs_blinks_ASR_invol']\n",
    "data_vol = mat_vol['epochs_blinks_ASR_vol']\n",
    "\n",
    "Fs=250; #sample frequency\n",
    "# Calculate the PSDs of the GNAN data\n",
    "psds_invol, freqs = calculate_psd(data_invol, Fs)\n",
    "psds_vol, _ = calculate_psd(data_vol, Fs)\n",
    "\n",
    "# Number of features ('FP1' and 'FP2'), time steps and samples\n",
    "n_features = psds_invol.shape[0]\n",
    "n_timesteps = psds_invol.shape[2]\n",
    "n_samples_invol = psds_invol.shape[1]\n",
    "n_samples_vol = psds_vol.shape[1]\n",
    "\n",
    "# Reshape the data to be of size (samples, timesteps, features)\n",
    "psds_invol = np.transpose(psds_invol, (1, 2, 0))\n",
    "psds_vol = np.transpose(psds_vol, (1, 2, 0))\n",
    "\n",
    "# Create labels for the involuntary (0) and voluntary (1) data\n",
    "labels_invol = np.zeros((n_samples_invol, 1))\n",
    "labels_vol = np.ones((n_samples_vol, 1))\n",
    "\n",
    "# Combine the involuntary and voluntary data and labels\n",
    "X = np.concatenate((psds_invol, psds_vol), axis=0)\n",
    "y = np.concatenate((labels_invol, labels_vol), axis=0)"
   ]
  },
  {
   "cell_type": "code",
   "execution_count": 14,
   "metadata": {},
   "outputs": [],
   "source": [
    "# Split the data into training and temporary sets (70% training, 30% temporary)\n",
    "X_temp, X_train, y_temp, y_train = train_test_split(X, y, test_size=0.7, random_state=42, shuffle=True)\n",
    "\n",
    "# Split the temporary set into validation and test sets (50% validation, 50% test)\n",
    "X_val, X_test, y_val, y_test = train_test_split(X_temp, y_temp, test_size=0.5, random_state=42, shuffle=True)"
   ]
  },
  {
   "cell_type": "code",
   "execution_count": 15,
   "metadata": {},
   "outputs": [
    {
     "name": "stdout",
     "output_type": "stream",
     "text": [
      "Epoch 1/50\n",
      "40/40 [==============================] - 5s 42ms/step - loss: 0.6811 - accuracy: 0.5606 - val_loss: 0.6978 - val_accuracy: 0.5074\n",
      "Epoch 2/50\n",
      "40/40 [==============================] - 1s 20ms/step - loss: 0.6747 - accuracy: 0.5465 - val_loss: 0.6853 - val_accuracy: 0.5221\n",
      "Epoch 3/50\n",
      "40/40 [==============================] - 1s 19ms/step - loss: 0.6652 - accuracy: 0.6047 - val_loss: 0.6938 - val_accuracy: 0.5368\n",
      "Epoch 4/50\n",
      "40/40 [==============================] - 1s 20ms/step - loss: 0.6502 - accuracy: 0.6346 - val_loss: 0.7236 - val_accuracy: 0.4926\n",
      "Epoch 5/50\n",
      "40/40 [==============================] - 1s 20ms/step - loss: 0.6568 - accuracy: 0.6173 - val_loss: 0.6767 - val_accuracy: 0.5809\n",
      "Epoch 6/50\n",
      "40/40 [==============================] - 1s 20ms/step - loss: 0.6238 - accuracy: 0.6472 - val_loss: 0.7063 - val_accuracy: 0.5221\n",
      "Epoch 7/50\n",
      "40/40 [==============================] - 1s 22ms/step - loss: 0.6390 - accuracy: 0.6299 - val_loss: 0.6752 - val_accuracy: 0.5515\n",
      "Epoch 8/50\n",
      "40/40 [==============================] - 1s 21ms/step - loss: 0.5933 - accuracy: 0.6898 - val_loss: 0.6646 - val_accuracy: 0.5882\n",
      "Epoch 9/50\n",
      "40/40 [==============================] - 1s 20ms/step - loss: 0.5916 - accuracy: 0.6913 - val_loss: 0.7933 - val_accuracy: 0.5221\n",
      "Epoch 10/50\n",
      "40/40 [==============================] - 1s 20ms/step - loss: 0.5982 - accuracy: 0.6803 - val_loss: 0.6394 - val_accuracy: 0.6544\n",
      "Epoch 11/50\n",
      "40/40 [==============================] - 1s 20ms/step - loss: 0.5700 - accuracy: 0.7118 - val_loss: 0.7111 - val_accuracy: 0.5588\n",
      "Epoch 12/50\n",
      "40/40 [==============================] - 1s 19ms/step - loss: 0.5634 - accuracy: 0.7039 - val_loss: 0.6375 - val_accuracy: 0.6250\n",
      "Epoch 13/50\n",
      "40/40 [==============================] - 1s 20ms/step - loss: 0.5737 - accuracy: 0.7102 - val_loss: 0.6522 - val_accuracy: 0.5882\n",
      "Epoch 14/50\n",
      "40/40 [==============================] - 1s 20ms/step - loss: 0.5648 - accuracy: 0.7165 - val_loss: 0.6406 - val_accuracy: 0.6103\n",
      "Epoch 15/50\n",
      "40/40 [==============================] - 1s 20ms/step - loss: 0.5533 - accuracy: 0.7071 - val_loss: 0.7425 - val_accuracy: 0.5956\n",
      "Epoch 16/50\n",
      "40/40 [==============================] - 1s 20ms/step - loss: 0.5888 - accuracy: 0.6913 - val_loss: 0.6356 - val_accuracy: 0.6103\n",
      "Epoch 17/50\n",
      "40/40 [==============================] - 1s 19ms/step - loss: 0.5484 - accuracy: 0.7291 - val_loss: 0.7260 - val_accuracy: 0.5956\n",
      "Epoch 18/50\n",
      "40/40 [==============================] - 1s 19ms/step - loss: 0.5897 - accuracy: 0.6898 - val_loss: 0.6556 - val_accuracy: 0.6324\n",
      "Epoch 19/50\n",
      "40/40 [==============================] - 1s 21ms/step - loss: 0.5440 - accuracy: 0.7244 - val_loss: 0.7233 - val_accuracy: 0.6250\n",
      "Epoch 20/50\n",
      "40/40 [==============================] - 1s 19ms/step - loss: 0.5456 - accuracy: 0.7339 - val_loss: 0.6227 - val_accuracy: 0.6691\n",
      "Epoch 21/50\n",
      "40/40 [==============================] - 1s 19ms/step - loss: 0.5359 - accuracy: 0.7307 - val_loss: 0.6733 - val_accuracy: 0.6029\n",
      "Epoch 22/50\n",
      "40/40 [==============================] - 1s 20ms/step - loss: 0.5302 - accuracy: 0.7496 - val_loss: 0.6551 - val_accuracy: 0.6471\n",
      "Epoch 23/50\n",
      "40/40 [==============================] - 1s 19ms/step - loss: 0.5169 - accuracy: 0.7260 - val_loss: 0.6171 - val_accuracy: 0.6985\n",
      "Epoch 24/50\n",
      "40/40 [==============================] - 1s 19ms/step - loss: 0.4996 - accuracy: 0.7575 - val_loss: 0.6128 - val_accuracy: 0.6985\n",
      "Epoch 25/50\n",
      "40/40 [==============================] - 1s 19ms/step - loss: 0.5269 - accuracy: 0.7276 - val_loss: 0.6955 - val_accuracy: 0.6324\n",
      "Epoch 26/50\n",
      "40/40 [==============================] - 1s 20ms/step - loss: 0.5156 - accuracy: 0.7512 - val_loss: 0.5943 - val_accuracy: 0.7132\n",
      "Epoch 27/50\n",
      "40/40 [==============================] - 1s 20ms/step - loss: 0.4823 - accuracy: 0.7732 - val_loss: 0.6627 - val_accuracy: 0.6176\n",
      "Epoch 28/50\n",
      "40/40 [==============================] - 1s 19ms/step - loss: 0.5010 - accuracy: 0.7591 - val_loss: 0.6396 - val_accuracy: 0.6912\n",
      "Epoch 29/50\n",
      "40/40 [==============================] - 1s 19ms/step - loss: 0.5234 - accuracy: 0.7291 - val_loss: 0.6532 - val_accuracy: 0.6471\n",
      "Epoch 30/50\n",
      "40/40 [==============================] - 1s 19ms/step - loss: 0.4968 - accuracy: 0.7764 - val_loss: 0.7468 - val_accuracy: 0.6029\n",
      "Epoch 31/50\n",
      "40/40 [==============================] - 1s 19ms/step - loss: 0.5141 - accuracy: 0.7339 - val_loss: 0.6408 - val_accuracy: 0.6838\n",
      "Epoch 32/50\n",
      "40/40 [==============================] - 1s 19ms/step - loss: 0.5201 - accuracy: 0.7386 - val_loss: 0.6134 - val_accuracy: 0.6838\n",
      "Epoch 33/50\n",
      "40/40 [==============================] - 1s 20ms/step - loss: 0.4609 - accuracy: 0.7795 - val_loss: 0.6489 - val_accuracy: 0.6618\n",
      "Epoch 34/50\n",
      "40/40 [==============================] - 1s 20ms/step - loss: 0.4771 - accuracy: 0.7701 - val_loss: 0.7945 - val_accuracy: 0.6029\n",
      "Epoch 35/50\n",
      "40/40 [==============================] - 1s 20ms/step - loss: 0.4842 - accuracy: 0.7701 - val_loss: 0.6602 - val_accuracy: 0.6618\n",
      "Epoch 36/50\n",
      "40/40 [==============================] - 1s 19ms/step - loss: 0.4496 - accuracy: 0.8031 - val_loss: 0.6849 - val_accuracy: 0.6471\n",
      "Epoch 37/50\n",
      "40/40 [==============================] - 1s 20ms/step - loss: 0.4724 - accuracy: 0.7827 - val_loss: 0.6217 - val_accuracy: 0.6838\n",
      "Epoch 38/50\n",
      "40/40 [==============================] - 1s 20ms/step - loss: 0.4535 - accuracy: 0.7937 - val_loss: 0.6838 - val_accuracy: 0.6324\n",
      "Epoch 39/50\n",
      "40/40 [==============================] - 1s 20ms/step - loss: 0.4024 - accuracy: 0.8252 - val_loss: 0.7481 - val_accuracy: 0.6544\n",
      "Epoch 40/50\n",
      "40/40 [==============================] - 1s 20ms/step - loss: 0.4479 - accuracy: 0.7764 - val_loss: 0.7651 - val_accuracy: 0.6250\n",
      "Epoch 41/50\n",
      "40/40 [==============================] - 1s 21ms/step - loss: 0.4458 - accuracy: 0.7906 - val_loss: 0.7329 - val_accuracy: 0.6250\n",
      "Epoch 42/50\n",
      "40/40 [==============================] - 1s 19ms/step - loss: 0.4382 - accuracy: 0.7890 - val_loss: 0.7427 - val_accuracy: 0.6250\n",
      "Epoch 43/50\n",
      "40/40 [==============================] - 1s 20ms/step - loss: 0.4513 - accuracy: 0.7890 - val_loss: 0.7512 - val_accuracy: 0.6471\n",
      "Epoch 44/50\n",
      "40/40 [==============================] - 1s 19ms/step - loss: 0.4091 - accuracy: 0.8157 - val_loss: 0.7796 - val_accuracy: 0.6250\n",
      "Epoch 45/50\n",
      "40/40 [==============================] - 1s 19ms/step - loss: 0.4311 - accuracy: 0.8173 - val_loss: 0.6732 - val_accuracy: 0.6471\n",
      "Epoch 46/50\n",
      "40/40 [==============================] - 1s 20ms/step - loss: 0.4231 - accuracy: 0.8378 - val_loss: 0.7106 - val_accuracy: 0.6397\n",
      "Epoch 47/50\n",
      "40/40 [==============================] - 1s 20ms/step - loss: 0.4089 - accuracy: 0.8079 - val_loss: 0.7306 - val_accuracy: 0.6618\n",
      "Epoch 48/50\n",
      "40/40 [==============================] - 1s 21ms/step - loss: 0.3787 - accuracy: 0.8394 - val_loss: 0.7711 - val_accuracy: 0.6397\n",
      "Epoch 49/50\n",
      "40/40 [==============================] - 1s 20ms/step - loss: 0.4086 - accuracy: 0.8173 - val_loss: 0.7174 - val_accuracy: 0.6618\n",
      "Epoch 50/50\n",
      "40/40 [==============================] - 1s 19ms/step - loss: 0.3828 - accuracy: 0.8299 - val_loss: 0.7695 - val_accuracy: 0.6176\n",
      "5/5 [==============================] - 0s 8ms/step - loss: 0.5846 - accuracy: 0.7132\n",
      "Test loss: 0.5845997929573059, Test accuracy: 0.7132353186607361\n"
     ]
    }
   ],
   "source": [
    "# Define the model\n",
    "model = Sequential()\n",
    "\n",
    "# Convolutional layer\n",
    "model.add(Conv1D(128, 3, activation='relu', input_shape=(n_timesteps, n_features)))\n",
    "model.add(MaxPooling1D(3))\n",
    "\n",
    "# Batch normalization layer\n",
    "model.add(BatchNormalization())\n",
    "\n",
    "# LSTM layer\n",
    "model.add(Bidirectional(LSTM(25, return_sequences=True)))  # Bidirectional LSTM layer with 50 units\n",
    "\n",
    "# Dropout for regularization\n",
    "model.add(Dropout(0.5))\n",
    "\n",
    "# LSTM layer\n",
    "model.add(Bidirectional(LSTM(75)))  # Another Bidirectional LSTM layer with 50 units\n",
    "\n",
    "# Output layer for binary classification\n",
    "model.add(Dense(1, activation='sigmoid'))  \n",
    "\n",
    "learning_rate = 0.003  # Set the learning rate\n",
    "optimizer = Adam(learning_rate=learning_rate)\n",
    "model.compile(loss='binary_crossentropy', optimizer=optimizer, metrics=['accuracy'])\n",
    "\n",
    "# Train the model on the training data and validate on the validation data\n",
    "history = model.fit(X_train, y_train, epochs=50, batch_size=16, validation_data=(X_val, y_val))\n",
    "\n",
    "# Test the model on the test data\n",
    "test_loss, test_accuracy = model.evaluate(X_test, y_test)\n",
    "print(f'Test loss: {test_loss}, Test accuracy: {test_accuracy}')"
   ]
  },
  {
   "cell_type": "code",
   "execution_count": null,
   "metadata": {},
   "outputs": [],
   "source": [
    "# predict the values from the test dataset\n",
    "y_pred = model.predict(X_test)\n",
    "y_pred = [1 if y >= 0.5 else 0 for y in y_pred]  # transform probabilities into binary outputs\n",
    "\n",
    "# Compute the confusion matrix\n",
    "conf_mat = confusion_matrix(y_test, y_pred)\n",
    "\n",
    "# Plot the confusion matrix\n",
    "plt.figure(figsize=(10, 7))\n",
    "sns.heatmap(conf_mat, annot=True, fmt='d', cmap=\"Blues\")\n",
    "plt.title('Confusion matrix')\n",
    "plt.xlabel('Predicted Voluntary Blinking')\n",
    "plt.ylabel('True Voluntary Blinking')\n",
    "plt.show()"
   ]
  },
  {
   "cell_type": "code",
   "execution_count": null,
   "metadata": {},
   "outputs": [],
   "source": [
    "# Generate the classification report\n",
    "report = classification_report(y_test, y_pred)\n",
    "\n",
    "print(report)"
   ]
  },
  {
   "cell_type": "code",
   "execution_count": null,
   "metadata": {},
   "outputs": [],
   "source": [
    "# Load the .mat files\n",
    "mat_invol_jap = scipy.io.loadmat('jap_blink_involuntary.mat')\n",
    "mat_vol_jap = scipy.io.loadmat('jap_blink_voluntary.mat')\n",
    "\n",
    "# Extract the data from the .mat files\n",
    "data_invol_jap = mat_invol_jap['jap_blink_involuntary']\n",
    "data_vol_jap = mat_vol_jap['jap_blink_voluntary']\n",
    "\n",
    "# Number of features ('FP1' and 'FP2'), time steps and samples\n",
    "n_features_jap = data_invol_jap.shape[0]\n",
    "n_timesteps_jap = data_invol_jap.shape[1]\n",
    "n_samples_invol_jap = data_invol_jap.shape[2]\n",
    "n_samples_vol_jap = data_vol_jap.shape[2]\n",
    "\n",
    "# Reshape the data to be of size (samples, timesteps, features)\n",
    "data_invol_jap = np.transpose(data_invol_jap, (2, 1, 0))\n",
    "data_vol_jap = np.transpose(data_vol_jap, (2, 1, 0))\n",
    "\n",
    "# Create labels for the involuntary (0) and voluntary (1) data\n",
    "labels_invol_jap = np.zeros((n_samples_invol_jap, 1))\n",
    "labels_vol_jap = np.ones((n_samples_vol_jap, 1))\n",
    "\n",
    "# Combine the involuntary and voluntary data and labels\n",
    "X_jap = np.concatenate((data_invol_jap, data_vol_jap), axis=0)\n",
    "y_jap = np.concatenate((labels_invol_jap, labels_vol_jap), axis=0)"
   ]
  },
  {
   "cell_type": "code",
   "execution_count": null,
   "metadata": {},
   "outputs": [],
   "source": [
    "# Split the data into training and temporary sets (70% training, 30% temporary)\n",
    "X_temp_jap, X_train_jap, y_temp_jap, y_train_jap = train_test_split(X_jap, y_jap, test_size=0.7, random_state=42, shuffle=True)\n",
    "\n",
    "# Split the temporary set into validation and test sets (50% validation, 50% test)\n",
    "X_val_jap, X_test_jap, y_val_jap, y_test_jap = train_test_split(X_temp_jap, y_temp_jap, test_size=0.5, random_state=42, shuffle=True)"
   ]
  },
  {
   "cell_type": "code",
   "execution_count": null,
   "metadata": {},
   "outputs": [],
   "source": [
    "# Define the model\n",
    "model_jap = Sequential()\n",
    "\n",
    "# Convolutional layer\n",
    "model_jap.add(Conv1D(64, 3, activation='relu', input_shape=(n_timesteps_jap, n_features_jap)))\n",
    "model_jap.add(MaxPooling1D(3))\n",
    "\n",
    "# Batch normalization layer\n",
    "model_jap.add(BatchNormalization())\n",
    "\n",
    "# LSTM layer\n",
    "model_jap.add(Bidirectional(LSTM(25, return_sequences=True)))  # Bidirectional LSTM layer with 50 units\n",
    "\n",
    "# Dropout for regularization\n",
    "model_jap.add(Dropout(0.5))\n",
    "\n",
    "# LSTM layer\n",
    "model_jap.add(Bidirectional(LSTM(50)))  # Another Bidirectional LSTM layer with 50 units\n",
    "\n",
    "# Output layer for binary classification\n",
    "model_jap.add(Dense(1, activation='sigmoid'))  \n",
    "\n",
    "learning_rate = 0.00021  # Set the learning rate\n",
    "optimizer_jap = Adam(learning_rate=learning_rate)\n",
    "model_jap.compile(loss='binary_crossentropy', optimizer=optimizer_jap, metrics=['accuracy'])\n",
    "\n",
    "# Train the model on the training data and validate on the validation data\n",
    "history_jap = model_jap.fit(X_train_jap, y_train_jap, epochs=100, batch_size=32, validation_data=(X_val_jap, y_val_jap))\n",
    "\n",
    "# Test the model on the test data\n",
    "test_loss_jap, test_accuracy_jap = model_jap.evaluate(X_test_jap, y_test_jap)\n",
    "print(f'Test loss: {test_loss_jap}, Test accuracy: {test_accuracy_jap}')"
   ]
  },
  {
   "cell_type": "code",
   "execution_count": null,
   "metadata": {},
   "outputs": [],
   "source": [
    "# predict the values from the test dataset\n",
    "y_pred_jap = model_jap.predict(X_test_jap)\n",
    "y_pred_jap = [1 if y_jap >= 0.5 else 0 for y_jap in y_pred_jap]  # transform probabilities into binary outputs\n",
    "\n",
    "# Compute the confusion matrix\n",
    "conf_mat_jap = confusion_matrix(y_test_jap, y_pred_jap)\n",
    "\n",
    "# Plot the confusion matrix\n",
    "plt.figure(figsize=(10, 7))\n",
    "sns.heatmap(conf_mat_jap, annot=True, fmt='d', cmap=\"Blues\")\n",
    "plt.title('Confusion matrix')\n",
    "plt.xlabel('Predicted Voluntary Blinking')\n",
    "plt.ylabel('True Voluntary Blinking')\n",
    "plt.show()"
   ]
  },
  {
   "cell_type": "code",
   "execution_count": null,
   "metadata": {},
   "outputs": [],
   "source": [
    "# Generate the classification report\n",
    "report_jap = classification_report(y_test_jap, y_pred_jap)\n",
    "\n",
    "print(report_jap)"
   ]
  }
 ],
 "metadata": {
  "colab": {
   "collapsed_sections": [
    "4e5eiVLOYTp5"
   ],
   "provenance": []
  },
  "kernelspec": {
   "display_name": "Python 3 (ipykernel)",
   "language": "python",
   "name": "python3"
  },
  "language_info": {
   "codemirror_mode": {
    "name": "ipython",
    "version": 3
   },
   "file_extension": ".py",
   "mimetype": "text/x-python",
   "name": "python",
   "nbconvert_exporter": "python",
   "pygments_lexer": "ipython3",
   "version": "3.9.6"
  },
  "varInspector": {
   "cols": {
    "lenName": 16,
    "lenType": 16,
    "lenVar": 40
   },
   "kernels_config": {
    "python": {
     "delete_cmd_postfix": "",
     "delete_cmd_prefix": "del ",
     "library": "var_list.py",
     "varRefreshCmd": "print(var_dic_list())"
    },
    "r": {
     "delete_cmd_postfix": ") ",
     "delete_cmd_prefix": "rm(",
     "library": "var_list.r",
     "varRefreshCmd": "cat(var_dic_list()) "
    }
   },
   "oldHeight": 594.85,
   "position": {
    "height": "40px",
    "left": "723px",
    "right": "20px",
    "top": "80px",
    "width": "250px"
   },
   "types_to_exclude": [
    "module",
    "function",
    "builtin_function_or_method",
    "instance",
    "_Feature"
   ],
   "varInspector_section_display": "none",
   "window_display": true
  }
 },
 "nbformat": 4,
 "nbformat_minor": 1
}
