{
 "cells": [
  {
   "cell_type": "code",
   "execution_count": 4,
   "metadata": {
    "collapsed": true
   },
   "outputs": [
    {
     "data": {
      "text/plain": "         Time (s)          FP1           FP2     Channel 3     Channel 4   \n0        0.000000  8267.955078  -8179.844238 -33746.996094 -187500.01563  \\\n1        0.003906  8077.987305  -8250.586914 -35346.332031 -187500.01563   \n2        0.007812  8480.788086  -8054.763672 -34270.945313 -187500.01563   \n3        0.011719  8714.296875  -7958.986328 -32953.109375 -187500.01563   \n4        0.015625  8337.893555  -8142.181641 -34229.640625 -187500.01563   \n...           ...          ...           ...           ...           ...   \n25563  102.251953  2029.337158 -11616.469727 -24644.898438 -187500.01563   \n25564  102.255859  2339.199463 -11479.810547 -23461.373047 -187500.01563   \n25565  102.259766  2480.663574 -11437.655273 -22287.548828 -187500.01563   \n25566  102.263672  2188.548584 -11564.725586 -23309.337891 -187500.01563   \n25567  102.267578  2008.795898 -11619.978516 -24611.013672 -187500.01563   \n\n       Channel 5  Channel 6     Channel 7  Channel 8  Channel 9  Channel 10   \n0       187500.0   187500.0 -187500.01563   187500.0        0.0         0.0  \\\n1       187500.0   187500.0 -187500.01563   187500.0        0.0         0.0   \n2       187500.0   187500.0 -187500.01563   187500.0        0.0         0.0   \n3       187500.0   187500.0 -187500.01563   187500.0        0.0         0.0   \n4       187500.0   187500.0 -187500.01563   187500.0        0.0         0.0   \n...          ...        ...           ...        ...        ...         ...   \n25563   187500.0   187500.0 -187500.01563   187500.0        0.0         0.0   \n25564   187500.0   187500.0 -187500.01563   187500.0     -224.0      -112.0   \n25565   187500.0   187500.0 -187500.01563   187500.0        0.0         0.0   \n25566   187500.0   187500.0 -187500.01563   187500.0        0.0         0.0   \n25567   187500.0   187500.0 -187500.01563   187500.0        0.0         0.0   \n\n       Channel 11  Sampling Rate  \n0             0.0          250.0  \n1             0.0            NaN  \n2             0.0            NaN  \n3             0.0            NaN  \n4             0.0            NaN  \n...           ...            ...  \n25563         0.0            NaN  \n25564      8656.0            NaN  \n25565         0.0            NaN  \n25566         0.0            NaN  \n25567         0.0            NaN  \n\n[25568 rows x 13 columns]",
      "text/html": "<div>\n<style scoped>\n    .dataframe tbody tr th:only-of-type {\n        vertical-align: middle;\n    }\n\n    .dataframe tbody tr th {\n        vertical-align: top;\n    }\n\n    .dataframe thead th {\n        text-align: right;\n    }\n</style>\n<table border=\"1\" class=\"dataframe\">\n  <thead>\n    <tr style=\"text-align: right;\">\n      <th></th>\n      <th>Time (s)</th>\n      <th>FP1</th>\n      <th>FP2</th>\n      <th>Channel 3</th>\n      <th>Channel 4</th>\n      <th>Channel 5</th>\n      <th>Channel 6</th>\n      <th>Channel 7</th>\n      <th>Channel 8</th>\n      <th>Channel 9</th>\n      <th>Channel 10</th>\n      <th>Channel 11</th>\n      <th>Sampling Rate</th>\n    </tr>\n  </thead>\n  <tbody>\n    <tr>\n      <th>0</th>\n      <td>0.000000</td>\n      <td>8267.955078</td>\n      <td>-8179.844238</td>\n      <td>-33746.996094</td>\n      <td>-187500.01563</td>\n      <td>187500.0</td>\n      <td>187500.0</td>\n      <td>-187500.01563</td>\n      <td>187500.0</td>\n      <td>0.0</td>\n      <td>0.0</td>\n      <td>0.0</td>\n      <td>250.0</td>\n    </tr>\n    <tr>\n      <th>1</th>\n      <td>0.003906</td>\n      <td>8077.987305</td>\n      <td>-8250.586914</td>\n      <td>-35346.332031</td>\n      <td>-187500.01563</td>\n      <td>187500.0</td>\n      <td>187500.0</td>\n      <td>-187500.01563</td>\n      <td>187500.0</td>\n      <td>0.0</td>\n      <td>0.0</td>\n      <td>0.0</td>\n      <td>NaN</td>\n    </tr>\n    <tr>\n      <th>2</th>\n      <td>0.007812</td>\n      <td>8480.788086</td>\n      <td>-8054.763672</td>\n      <td>-34270.945313</td>\n      <td>-187500.01563</td>\n      <td>187500.0</td>\n      <td>187500.0</td>\n      <td>-187500.01563</td>\n      <td>187500.0</td>\n      <td>0.0</td>\n      <td>0.0</td>\n      <td>0.0</td>\n      <td>NaN</td>\n    </tr>\n    <tr>\n      <th>3</th>\n      <td>0.011719</td>\n      <td>8714.296875</td>\n      <td>-7958.986328</td>\n      <td>-32953.109375</td>\n      <td>-187500.01563</td>\n      <td>187500.0</td>\n      <td>187500.0</td>\n      <td>-187500.01563</td>\n      <td>187500.0</td>\n      <td>0.0</td>\n      <td>0.0</td>\n      <td>0.0</td>\n      <td>NaN</td>\n    </tr>\n    <tr>\n      <th>4</th>\n      <td>0.015625</td>\n      <td>8337.893555</td>\n      <td>-8142.181641</td>\n      <td>-34229.640625</td>\n      <td>-187500.01563</td>\n      <td>187500.0</td>\n      <td>187500.0</td>\n      <td>-187500.01563</td>\n      <td>187500.0</td>\n      <td>0.0</td>\n      <td>0.0</td>\n      <td>0.0</td>\n      <td>NaN</td>\n    </tr>\n    <tr>\n      <th>...</th>\n      <td>...</td>\n      <td>...</td>\n      <td>...</td>\n      <td>...</td>\n      <td>...</td>\n      <td>...</td>\n      <td>...</td>\n      <td>...</td>\n      <td>...</td>\n      <td>...</td>\n      <td>...</td>\n      <td>...</td>\n      <td>...</td>\n    </tr>\n    <tr>\n      <th>25563</th>\n      <td>102.251953</td>\n      <td>2029.337158</td>\n      <td>-11616.469727</td>\n      <td>-24644.898438</td>\n      <td>-187500.01563</td>\n      <td>187500.0</td>\n      <td>187500.0</td>\n      <td>-187500.01563</td>\n      <td>187500.0</td>\n      <td>0.0</td>\n      <td>0.0</td>\n      <td>0.0</td>\n      <td>NaN</td>\n    </tr>\n    <tr>\n      <th>25564</th>\n      <td>102.255859</td>\n      <td>2339.199463</td>\n      <td>-11479.810547</td>\n      <td>-23461.373047</td>\n      <td>-187500.01563</td>\n      <td>187500.0</td>\n      <td>187500.0</td>\n      <td>-187500.01563</td>\n      <td>187500.0</td>\n      <td>-224.0</td>\n      <td>-112.0</td>\n      <td>8656.0</td>\n      <td>NaN</td>\n    </tr>\n    <tr>\n      <th>25565</th>\n      <td>102.259766</td>\n      <td>2480.663574</td>\n      <td>-11437.655273</td>\n      <td>-22287.548828</td>\n      <td>-187500.01563</td>\n      <td>187500.0</td>\n      <td>187500.0</td>\n      <td>-187500.01563</td>\n      <td>187500.0</td>\n      <td>0.0</td>\n      <td>0.0</td>\n      <td>0.0</td>\n      <td>NaN</td>\n    </tr>\n    <tr>\n      <th>25566</th>\n      <td>102.263672</td>\n      <td>2188.548584</td>\n      <td>-11564.725586</td>\n      <td>-23309.337891</td>\n      <td>-187500.01563</td>\n      <td>187500.0</td>\n      <td>187500.0</td>\n      <td>-187500.01563</td>\n      <td>187500.0</td>\n      <td>0.0</td>\n      <td>0.0</td>\n      <td>0.0</td>\n      <td>NaN</td>\n    </tr>\n    <tr>\n      <th>25567</th>\n      <td>102.267578</td>\n      <td>2008.795898</td>\n      <td>-11619.978516</td>\n      <td>-24611.013672</td>\n      <td>-187500.01563</td>\n      <td>187500.0</td>\n      <td>187500.0</td>\n      <td>-187500.01563</td>\n      <td>187500.0</td>\n      <td>0.0</td>\n      <td>0.0</td>\n      <td>0.0</td>\n      <td>NaN</td>\n    </tr>\n  </tbody>\n</table>\n<p>25568 rows × 13 columns</p>\n</div>"
     },
     "execution_count": 4,
     "metadata": {},
     "output_type": "execute_result"
    }
   ],
   "source": [
    "import os\n",
    "import pandas as pd\n",
    "import mne\n",
    "\n",
    "dataset_folder = os.path.join(os.getcwd(), 'dataset')\n",
    "\n",
    "def df_from_csv(filename, skiprows=0):\n",
    "    f = os.path.join(dataset_folder, filename)\n",
    "    return pd.read_csv(f, delimiter='\\t|\\n|,|;', engine='python', skiprows=skiprows)\n",
    "\n",
    "test_data = df_from_csv('S00_data.csv')\n",
    "test_data"
   ]
  },
  {
   "cell_type": "code",
   "execution_count": 5,
   "outputs": [
    {
     "data": {
      "text/plain": "        blinks\n4.42         1\n8.68         1\n12.47        1\n16.33        1\n20.35        1\n24.48        1\n28.84        1\n32.25        1\n36.25        1\n40.37        1\n44.44        1\n48.32        1\n52.43        1\n56.48        1\n60.50        1\n64.22        1\n68.34        1\n72.42        1\n76.30        1\n80.32        1\n84.34        1\n88.34        1\n92.25        1\n96.35        1\n100.45       1",
      "text/html": "<div>\n<style scoped>\n    .dataframe tbody tr th:only-of-type {\n        vertical-align: middle;\n    }\n\n    .dataframe tbody tr th {\n        vertical-align: top;\n    }\n\n    .dataframe thead th {\n        text-align: right;\n    }\n</style>\n<table border=\"1\" class=\"dataframe\">\n  <thead>\n    <tr style=\"text-align: right;\">\n      <th></th>\n      <th>blinks</th>\n    </tr>\n  </thead>\n  <tbody>\n    <tr>\n      <th>4.42</th>\n      <td>1</td>\n    </tr>\n    <tr>\n      <th>8.68</th>\n      <td>1</td>\n    </tr>\n    <tr>\n      <th>12.47</th>\n      <td>1</td>\n    </tr>\n    <tr>\n      <th>16.33</th>\n      <td>1</td>\n    </tr>\n    <tr>\n      <th>20.35</th>\n      <td>1</td>\n    </tr>\n    <tr>\n      <th>24.48</th>\n      <td>1</td>\n    </tr>\n    <tr>\n      <th>28.84</th>\n      <td>1</td>\n    </tr>\n    <tr>\n      <th>32.25</th>\n      <td>1</td>\n    </tr>\n    <tr>\n      <th>36.25</th>\n      <td>1</td>\n    </tr>\n    <tr>\n      <th>40.37</th>\n      <td>1</td>\n    </tr>\n    <tr>\n      <th>44.44</th>\n      <td>1</td>\n    </tr>\n    <tr>\n      <th>48.32</th>\n      <td>1</td>\n    </tr>\n    <tr>\n      <th>52.43</th>\n      <td>1</td>\n    </tr>\n    <tr>\n      <th>56.48</th>\n      <td>1</td>\n    </tr>\n    <tr>\n      <th>60.50</th>\n      <td>1</td>\n    </tr>\n    <tr>\n      <th>64.22</th>\n      <td>1</td>\n    </tr>\n    <tr>\n      <th>68.34</th>\n      <td>1</td>\n    </tr>\n    <tr>\n      <th>72.42</th>\n      <td>1</td>\n    </tr>\n    <tr>\n      <th>76.30</th>\n      <td>1</td>\n    </tr>\n    <tr>\n      <th>80.32</th>\n      <td>1</td>\n    </tr>\n    <tr>\n      <th>84.34</th>\n      <td>1</td>\n    </tr>\n    <tr>\n      <th>88.34</th>\n      <td>1</td>\n    </tr>\n    <tr>\n      <th>92.25</th>\n      <td>1</td>\n    </tr>\n    <tr>\n      <th>96.35</th>\n      <td>1</td>\n    </tr>\n    <tr>\n      <th>100.45</th>\n      <td>1</td>\n    </tr>\n  </tbody>\n</table>\n</div>"
     },
     "execution_count": 5,
     "metadata": {},
     "output_type": "execute_result"
    }
   ],
   "source": [
    "test_label = df_from_csv('S00_labels.csv', 2)\n",
    "test_label"
   ],
   "metadata": {
    "collapsed": false
   }
  },
  {
   "cell_type": "code",
   "execution_count": null,
   "outputs": [],
   "source": [],
   "metadata": {
    "collapsed": false
   }
  }
 ],
 "metadata": {
  "kernelspec": {
   "display_name": "Python 3",
   "language": "python",
   "name": "python3"
  },
  "language_info": {
   "codemirror_mode": {
    "name": "ipython",
    "version": 2
   },
   "file_extension": ".py",
   "mimetype": "text/x-python",
   "name": "python",
   "nbconvert_exporter": "python",
   "pygments_lexer": "ipython2",
   "version": "2.7.6"
  }
 },
 "nbformat": 4,
 "nbformat_minor": 0
}
