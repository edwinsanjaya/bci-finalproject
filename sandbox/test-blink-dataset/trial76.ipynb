{
 "cells": [
  {
   "cell_type": "code",
   "execution_count": 1,
   "metadata": {
    "collapsed": true
   },
   "outputs": [],
   "source": [
    "from scipy.io import loadmat\n",
    "from scipy.io import savemat\n",
    "from scipy.stats import kurtosis, skew, entropy\n",
    "from scipy import signal\n",
    "import pandas as pd\n",
    "import numpy as np\n",
    "\n",
    "mdata = loadmat('dataset/sample_wave.mat')['sample_wave']\n",
    "\n",
    "Fs = 256\n",
    "t_range = np.arange(0, 4, 1/Fs)\n",
    "f_range = np.arange(0, 128, 0.25)\n",
    "blink_types = mdata.dtype.names # voluntary & involuntary\n",
    "\n",
    "feature_names = [\n",
    "    'fp1_mean',\n",
    "    'fp1_median',\n",
    "    'fp1_min',\n",
    "    'fp1_max',\n",
    "    'fp1_range',\n",
    "    'fp1_kurtosis',\n",
    "    'fp1_skew',\n",
    "    # 'fp1_entropy',\n",
    "    'fp2_mean',\n",
    "    'fp2_median',\n",
    "    'fp2_min',\n",
    "    'fp2_max',\n",
    "    'fp2_range',\n",
    "    'fp2_kurtosis',\n",
    "    'fp2_skew',\n",
    "    # 'fp2_entropy',\n",
    "\n",
    "\n",
    "    'fp1_delta_mean',\n",
    "    'fp1_delta_min',\n",
    "    'fp1_delta_max',\n",
    "    'fp1_delta_range',\n",
    "    'fp1_theta_mean',\n",
    "    # 'fp1_theta_min',\n",
    "    # 'fp1_theta_max',\n",
    "    # 'fp1_theta_range',\n",
    "    # 'fp1_alpha_mean',\n",
    "    # 'fp1_beta_mean',\n",
    "    # 'fp1_gamma_mean',\n",
    "    'fp2_delta_mean',\n",
    "    'fp2_delta_min',\n",
    "    'fp2_delta_max',\n",
    "    'fp2_delta_range',\n",
    "    'fp2_theta_mean',\n",
    "    # 'fp2_theta_min',\n",
    "    # 'fp2_theta_max',\n",
    "    # 'fp2_theta_range',\n",
    "    # 'fp2_alpha_mean',\n",
    "    # 'fp2_beta_mean',\n",
    "    # 'fp2_gamma_mean',\n",
    "    'blink'\n",
    "]\n",
    "eeg_bands = {'delta': (0, 4),\n",
    "             'theta': (4, 8),\n",
    "             'alpha': (8, 12),\n",
    "             'beta': (12, 30),\n",
    "             'gamma': (30, 45)}\n",
    "features = pd.DataFrame(columns=feature_names)\n",
    "features['blink'] = features['blink'].astype(int)\n",
    "\n",
    "for blink_type in blink_types:\n",
    "\n",
    "    signals = mdata[blink_type][0,0]\n",
    "    epochs = signals.dtype.names # individual epoch struct\n",
    "\n",
    "    for epoch in epochs:\n",
    "        fp1 = signals[epoch][0,0][0]\n",
    "        fp2 = signals[epoch][0,0][1]\n",
    "\n",
    "\n",
    "        hist_fp1 = np.histogram(fp1, bins=100, density=True)[0]\n",
    "        hist_fp1 += 1e-12\n",
    "        hist_fp2 = np.histogram(fp2, bins=100, density=True)[0]\n",
    "        hist_fp2 += 1e-12\n",
    "\n",
    "        f, psd = signal.welch(fp1, Fs, nperseg=1024)\n",
    "\n",
    "        psd = 10 * np.log10(psd)\n",
    "\n",
    "        f_delta_indices = np.where((f >= eeg_bands['delta'][0]) & (f < eeg_bands['delta'][1]))\n",
    "        f_theta_indices = np.where((f >= eeg_bands['theta'][0]) & (f < eeg_bands['theta'][1]))\n",
    "        f_alpha_indices = np.where((f >= eeg_bands['alpha'][0]) & (f < eeg_bands['alpha'][1]))\n",
    "        f_beta_indices = np.where((f >= eeg_bands['beta'][0]) & (f < eeg_bands['beta'][1]))\n",
    "        f_gamma_indices = np.where((f >= eeg_bands['gamma'][0]) & (f < eeg_bands['gamma'][1]))\n",
    "\n",
    "        fp1_delta_mean = np.mean(psd[f_delta_indices])\n",
    "        fp1_delta_min = np.min(psd[f_delta_indices])\n",
    "        fp1_delta_max = np.max(psd[f_delta_indices])\n",
    "        fp1_delta_range = fp1_delta_max - fp1_delta_min\n",
    "\n",
    "        fp1_theta_mean = np.mean(psd[f_theta_indices])\n",
    "        fp1_theta_min = np.min(psd[f_theta_indices])\n",
    "        fp1_theta_max = np.max(psd[f_theta_indices])\n",
    "        fp1_theta_range = fp1_theta_max - fp1_theta_min\n",
    "\n",
    "        fp1_alpha_mean = np.mean(psd[f_alpha_indices])\n",
    "        fp1_beta_mean = np.mean(psd[f_beta_indices])\n",
    "        fp1_gamma_mean = np.mean(psd[f_gamma_indices])\n",
    "\n",
    "        f, psd = signal.welch(fp2, Fs, nperseg=1024)\n",
    "        f_delta_indices = np.where((f >= eeg_bands['delta'][0]) & (f < eeg_bands['delta'][1]))\n",
    "        f_theta_indices = np.where((f >= eeg_bands['theta'][0]) & (f < eeg_bands['theta'][1]))\n",
    "        f_alpha_indices = np.where((f >= eeg_bands['alpha'][0]) & (f < eeg_bands['alpha'][1]))\n",
    "        f_beta_indices = np.where((f >= eeg_bands['beta'][0]) & (f < eeg_bands['beta'][1]))\n",
    "        f_gamma_indices = np.where((f >= eeg_bands['gamma'][0]) & (f < eeg_bands['gamma'][1]))\n",
    "\n",
    "        fp2_delta_mean = np.mean(psd[f_delta_indices])\n",
    "        fp2_delta_min = np.min(psd[f_delta_indices])\n",
    "        fp2_delta_max = np.max(psd[f_delta_indices])\n",
    "        fp2_delta_range = fp2_delta_max - fp2_delta_min\n",
    "\n",
    "        fp2_theta_mean = np.mean(psd[f_theta_indices])\n",
    "        fp2_theta_min = np.min(psd[f_theta_indices])\n",
    "        fp2_theta_max = np.max(psd[f_theta_indices])\n",
    "        fp2_theta_range = fp2_theta_max - fp2_theta_min\n",
    "\n",
    "        fp2_alpha_mean = np.mean(psd[f_alpha_indices])\n",
    "        fp2_beta_mean = np.mean(psd[f_beta_indices])\n",
    "        fp2_gamma_mean = np.mean(psd[f_gamma_indices])\n",
    "\n",
    "        new_record = {\n",
    "            'fp1_mean': np.mean(fp1),\n",
    "            'fp1_median': np.median(fp1),\n",
    "            'fp1_min': np.min(fp1),\n",
    "            'fp1_max': np.max(fp1),\n",
    "            'fp1_var': np.var(fp1),\n",
    "            'fp1_range': np.max(fp1)- np.min(fp1),\n",
    "            'fp1_kurtosis': kurtosis(fp1),\n",
    "            'fp1_skew': skew(fp1),\n",
    "            # 'fp1_entropy': entropy(hist_fp1),\n",
    "            'fp2_mean': np.mean(fp2),\n",
    "            'fp2_median': np.median(fp2),\n",
    "            'fp2_min': np.min(fp2),\n",
    "            'fp2_max': np.max(fp2),\n",
    "            'fp2_var': np.var(fp2),\n",
    "            'fp2_range': np.max(fp2)- np.min(fp2),\n",
    "            'fp2_kurtosis': kurtosis(fp2),\n",
    "            'fp2_skew': skew(fp2),\n",
    "            # 'fp2_entropy': entropy(hist_fp2),\n",
    "\n",
    "            'fp1_delta_mean': fp1_delta_mean,\n",
    "            'fp1_delta_min': fp1_delta_min,\n",
    "            'fp1_delta_max': fp1_delta_max,\n",
    "            'fp1_delta_range': fp1_delta_range,\n",
    "            'fp1_theta_mean': fp1_theta_mean,\n",
    "            # 'fp1_theta_min': fp1_delta_min,\n",
    "            # 'fp1_theta_max': fp1_delta_max,\n",
    "            # 'fp1_theta_range': fp1_delta_range,\n",
    "            # 'fp1_alpha_mean': fp1_alpha_mean,\n",
    "            # 'fp1_beta_mean': fp1_beta_mean,\n",
    "            # 'fp1_gamma_mean': fp1_gamma_mean,\n",
    "            'fp2_delta_mean': fp2_delta_mean,\n",
    "            'fp2_delta_min': fp2_delta_min,\n",
    "            'fp2_delta_max': fp2_delta_max,\n",
    "            'fp2_delta_range': fp2_delta_range,\n",
    "            'fp2_theta_mean': fp2_theta_mean,\n",
    "            # 'fp2_theta_min': fp2_delta_min,\n",
    "            # 'fp2_theta_max': fp2_delta_max,\n",
    "            # 'fp2_theta_range': fp2_delta_range,\n",
    "            # 'fp2_alpha_mean': fp2_alpha_mean,\n",
    "            # 'fp2_beta_mean': fp2_beta_mean,\n",
    "            # 'fp2_gamma_mean': fp2_gamma_mean,\n",
    "            'blink': int(1) if blink_type == 'voluntary' else int(0),\n",
    "        }\n",
    "        features = pd.concat([features, pd.DataFrame([new_record])], ignore_index=True)\n"
   ]
  },
  {
   "cell_type": "code",
   "execution_count": 2,
   "outputs": [
    {
     "data": {
      "text/plain": "     fp1_mean  fp1_median     fp1_min     fp1_max   fp1_range  fp1_kurtosis   \n0    0.019418    0.570297 -153.152054  159.161428  312.313482      7.298035  \\\n1    0.035894    0.484288  -96.534364  134.752058  231.286422      9.168062   \n2   -0.166985    1.006762 -106.343849  113.392582  219.736431      8.007002   \n3   -0.331847    0.188234 -105.302602  115.957580  221.260182      5.830864   \n4    0.019691    0.748899 -105.534091  118.844261  224.378352      7.226644   \n..        ...         ...         ...         ...         ...           ...   \n856 -0.075876    0.393187  -80.309467  120.125675  200.435142      5.489655   \n857  0.293096    0.044543 -103.551569  142.618844  246.170413      8.273008   \n858 -0.456375    1.613479 -132.117488  123.142924  255.260412      4.590602   \n859 -0.276722    0.266537  -69.893409   79.104371  148.997780      4.228456   \n860 -1.971434   -2.674534  -69.987201   89.005634  158.992835      5.401312   \n\n     fp1_skew  fp2_mean  fp2_median     fp2_min  ...  fp1_delta_range   \n0   -0.549411  0.020885    0.613362 -164.717140  ...        60.873472  \\\n1    0.519797  0.038604    0.520858 -103.824036  ...        46.450340   \n2   -0.336855 -0.179595    1.082787 -114.374273  ...        36.629081   \n3   -0.359368 -0.356906    0.202448 -113.254397  ...        28.944818   \n4   -0.425924  0.021178    0.805451 -113.503367  ...        76.746334   \n..        ...       ...         ...         ...  ...              ...   \n856  0.333219 -0.077323    0.400683  -81.840374  ...        36.298181   \n857  0.383580  0.298683    0.045392 -105.525531  ...        30.709060   \n858 -0.763368 -0.465074    1.644236 -134.635991  ...        28.723694   \n859 -0.218180 -0.281997    0.271618  -71.225759  ...        39.848225   \n860  0.065194 -2.009014   -2.725517  -71.321339  ...        25.377183   \n\n     fp1_theta_mean  fp2_delta_mean  fp2_delta_min  fp2_delta_max   \n0         -4.947552       43.533272       0.000221     270.610774  \\\n1         -4.711949       22.816111       0.003643     160.874791   \n2         -1.697611       24.783825       0.038228     175.911650   \n3         -5.173714       46.858358       0.393883     308.922322   \n4         -4.527725       28.892254       0.000004     199.521143   \n..              ...             ...            ...            ...   \n856       -1.486205       36.332847       0.055045     234.714028   \n857       -2.103695       21.331765       0.119730     140.964519   \n858       -1.679138       76.167057       0.747666     557.284893   \n859       -4.362414       24.586609       0.020305     196.080046   \n860       -1.600783       22.165153       0.471823     162.741129   \n\n     fp2_delta_range  fp2_theta_mean  blink      fp1_var      fp2_var  \n0         270.610553        0.611648      1  1486.438554  1719.407826  \n1         160.871148        0.857499      1   717.773509   830.270034  \n2         175.873422        1.410353      1   678.215396   784.511985  \n3         308.528438        0.470305      1   784.584047   907.551776  \n4         199.521139        0.688159      1   738.594188   854.353935  \n..               ...             ...    ...          ...          ...  \n856       234.658982        1.003232      0   656.543608   681.813044  \n857       140.844789        0.884960      0   868.432769   901.857519  \n858       556.537226        0.809334      0  1317.265358  1367.965041  \n859       196.059741        0.631763      0   381.863331   396.560711  \n860       162.269306        0.934934      0   397.723939   413.031772  \n\n[861 rows x 27 columns]",
      "text/html": "<div>\n<style scoped>\n    .dataframe tbody tr th:only-of-type {\n        vertical-align: middle;\n    }\n\n    .dataframe tbody tr th {\n        vertical-align: top;\n    }\n\n    .dataframe thead th {\n        text-align: right;\n    }\n</style>\n<table border=\"1\" class=\"dataframe\">\n  <thead>\n    <tr style=\"text-align: right;\">\n      <th></th>\n      <th>fp1_mean</th>\n      <th>fp1_median</th>\n      <th>fp1_min</th>\n      <th>fp1_max</th>\n      <th>fp1_range</th>\n      <th>fp1_kurtosis</th>\n      <th>fp1_skew</th>\n      <th>fp2_mean</th>\n      <th>fp2_median</th>\n      <th>fp2_min</th>\n      <th>...</th>\n      <th>fp1_delta_range</th>\n      <th>fp1_theta_mean</th>\n      <th>fp2_delta_mean</th>\n      <th>fp2_delta_min</th>\n      <th>fp2_delta_max</th>\n      <th>fp2_delta_range</th>\n      <th>fp2_theta_mean</th>\n      <th>blink</th>\n      <th>fp1_var</th>\n      <th>fp2_var</th>\n    </tr>\n  </thead>\n  <tbody>\n    <tr>\n      <th>0</th>\n      <td>0.019418</td>\n      <td>0.570297</td>\n      <td>-153.152054</td>\n      <td>159.161428</td>\n      <td>312.313482</td>\n      <td>7.298035</td>\n      <td>-0.549411</td>\n      <td>0.020885</td>\n      <td>0.613362</td>\n      <td>-164.717140</td>\n      <td>...</td>\n      <td>60.873472</td>\n      <td>-4.947552</td>\n      <td>43.533272</td>\n      <td>0.000221</td>\n      <td>270.610774</td>\n      <td>270.610553</td>\n      <td>0.611648</td>\n      <td>1</td>\n      <td>1486.438554</td>\n      <td>1719.407826</td>\n    </tr>\n    <tr>\n      <th>1</th>\n      <td>0.035894</td>\n      <td>0.484288</td>\n      <td>-96.534364</td>\n      <td>134.752058</td>\n      <td>231.286422</td>\n      <td>9.168062</td>\n      <td>0.519797</td>\n      <td>0.038604</td>\n      <td>0.520858</td>\n      <td>-103.824036</td>\n      <td>...</td>\n      <td>46.450340</td>\n      <td>-4.711949</td>\n      <td>22.816111</td>\n      <td>0.003643</td>\n      <td>160.874791</td>\n      <td>160.871148</td>\n      <td>0.857499</td>\n      <td>1</td>\n      <td>717.773509</td>\n      <td>830.270034</td>\n    </tr>\n    <tr>\n      <th>2</th>\n      <td>-0.166985</td>\n      <td>1.006762</td>\n      <td>-106.343849</td>\n      <td>113.392582</td>\n      <td>219.736431</td>\n      <td>8.007002</td>\n      <td>-0.336855</td>\n      <td>-0.179595</td>\n      <td>1.082787</td>\n      <td>-114.374273</td>\n      <td>...</td>\n      <td>36.629081</td>\n      <td>-1.697611</td>\n      <td>24.783825</td>\n      <td>0.038228</td>\n      <td>175.911650</td>\n      <td>175.873422</td>\n      <td>1.410353</td>\n      <td>1</td>\n      <td>678.215396</td>\n      <td>784.511985</td>\n    </tr>\n    <tr>\n      <th>3</th>\n      <td>-0.331847</td>\n      <td>0.188234</td>\n      <td>-105.302602</td>\n      <td>115.957580</td>\n      <td>221.260182</td>\n      <td>5.830864</td>\n      <td>-0.359368</td>\n      <td>-0.356906</td>\n      <td>0.202448</td>\n      <td>-113.254397</td>\n      <td>...</td>\n      <td>28.944818</td>\n      <td>-5.173714</td>\n      <td>46.858358</td>\n      <td>0.393883</td>\n      <td>308.922322</td>\n      <td>308.528438</td>\n      <td>0.470305</td>\n      <td>1</td>\n      <td>784.584047</td>\n      <td>907.551776</td>\n    </tr>\n    <tr>\n      <th>4</th>\n      <td>0.019691</td>\n      <td>0.748899</td>\n      <td>-105.534091</td>\n      <td>118.844261</td>\n      <td>224.378352</td>\n      <td>7.226644</td>\n      <td>-0.425924</td>\n      <td>0.021178</td>\n      <td>0.805451</td>\n      <td>-113.503367</td>\n      <td>...</td>\n      <td>76.746334</td>\n      <td>-4.527725</td>\n      <td>28.892254</td>\n      <td>0.000004</td>\n      <td>199.521143</td>\n      <td>199.521139</td>\n      <td>0.688159</td>\n      <td>1</td>\n      <td>738.594188</td>\n      <td>854.353935</td>\n    </tr>\n    <tr>\n      <th>...</th>\n      <td>...</td>\n      <td>...</td>\n      <td>...</td>\n      <td>...</td>\n      <td>...</td>\n      <td>...</td>\n      <td>...</td>\n      <td>...</td>\n      <td>...</td>\n      <td>...</td>\n      <td>...</td>\n      <td>...</td>\n      <td>...</td>\n      <td>...</td>\n      <td>...</td>\n      <td>...</td>\n      <td>...</td>\n      <td>...</td>\n      <td>...</td>\n      <td>...</td>\n      <td>...</td>\n    </tr>\n    <tr>\n      <th>856</th>\n      <td>-0.075876</td>\n      <td>0.393187</td>\n      <td>-80.309467</td>\n      <td>120.125675</td>\n      <td>200.435142</td>\n      <td>5.489655</td>\n      <td>0.333219</td>\n      <td>-0.077323</td>\n      <td>0.400683</td>\n      <td>-81.840374</td>\n      <td>...</td>\n      <td>36.298181</td>\n      <td>-1.486205</td>\n      <td>36.332847</td>\n      <td>0.055045</td>\n      <td>234.714028</td>\n      <td>234.658982</td>\n      <td>1.003232</td>\n      <td>0</td>\n      <td>656.543608</td>\n      <td>681.813044</td>\n    </tr>\n    <tr>\n      <th>857</th>\n      <td>0.293096</td>\n      <td>0.044543</td>\n      <td>-103.551569</td>\n      <td>142.618844</td>\n      <td>246.170413</td>\n      <td>8.273008</td>\n      <td>0.383580</td>\n      <td>0.298683</td>\n      <td>0.045392</td>\n      <td>-105.525531</td>\n      <td>...</td>\n      <td>30.709060</td>\n      <td>-2.103695</td>\n      <td>21.331765</td>\n      <td>0.119730</td>\n      <td>140.964519</td>\n      <td>140.844789</td>\n      <td>0.884960</td>\n      <td>0</td>\n      <td>868.432769</td>\n      <td>901.857519</td>\n    </tr>\n    <tr>\n      <th>858</th>\n      <td>-0.456375</td>\n      <td>1.613479</td>\n      <td>-132.117488</td>\n      <td>123.142924</td>\n      <td>255.260412</td>\n      <td>4.590602</td>\n      <td>-0.763368</td>\n      <td>-0.465074</td>\n      <td>1.644236</td>\n      <td>-134.635991</td>\n      <td>...</td>\n      <td>28.723694</td>\n      <td>-1.679138</td>\n      <td>76.167057</td>\n      <td>0.747666</td>\n      <td>557.284893</td>\n      <td>556.537226</td>\n      <td>0.809334</td>\n      <td>0</td>\n      <td>1317.265358</td>\n      <td>1367.965041</td>\n    </tr>\n    <tr>\n      <th>859</th>\n      <td>-0.276722</td>\n      <td>0.266537</td>\n      <td>-69.893409</td>\n      <td>79.104371</td>\n      <td>148.997780</td>\n      <td>4.228456</td>\n      <td>-0.218180</td>\n      <td>-0.281997</td>\n      <td>0.271618</td>\n      <td>-71.225759</td>\n      <td>...</td>\n      <td>39.848225</td>\n      <td>-4.362414</td>\n      <td>24.586609</td>\n      <td>0.020305</td>\n      <td>196.080046</td>\n      <td>196.059741</td>\n      <td>0.631763</td>\n      <td>0</td>\n      <td>381.863331</td>\n      <td>396.560711</td>\n    </tr>\n    <tr>\n      <th>860</th>\n      <td>-1.971434</td>\n      <td>-2.674534</td>\n      <td>-69.987201</td>\n      <td>89.005634</td>\n      <td>158.992835</td>\n      <td>5.401312</td>\n      <td>0.065194</td>\n      <td>-2.009014</td>\n      <td>-2.725517</td>\n      <td>-71.321339</td>\n      <td>...</td>\n      <td>25.377183</td>\n      <td>-1.600783</td>\n      <td>22.165153</td>\n      <td>0.471823</td>\n      <td>162.741129</td>\n      <td>162.269306</td>\n      <td>0.934934</td>\n      <td>0</td>\n      <td>397.723939</td>\n      <td>413.031772</td>\n    </tr>\n  </tbody>\n</table>\n<p>861 rows × 27 columns</p>\n</div>"
     },
     "execution_count": 2,
     "metadata": {},
     "output_type": "execute_result"
    }
   ],
   "source": [
    "features"
   ],
   "metadata": {
    "collapsed": false
   }
  },
  {
   "cell_type": "code",
   "execution_count": 3,
   "outputs": [
    {
     "name": "stdout",
     "output_type": "stream",
     "text": [
      "fp1_mean           float64\n",
      "fp1_median         float64\n",
      "fp1_min            float64\n",
      "fp1_max            float64\n",
      "fp1_range          float64\n",
      "fp1_kurtosis       float64\n",
      "fp1_skew           float64\n",
      "fp2_mean           float64\n",
      "fp2_median         float64\n",
      "fp2_min            float64\n",
      "fp2_max            float64\n",
      "fp2_range          float64\n",
      "fp2_kurtosis       float64\n",
      "fp2_skew           float64\n",
      "fp1_delta_mean     float64\n",
      "fp1_delta_min      float64\n",
      "fp1_delta_max      float64\n",
      "fp1_delta_range    float64\n",
      "fp1_theta_mean     float64\n",
      "fp2_delta_mean     float64\n",
      "fp2_delta_min      float64\n",
      "fp2_delta_max      float64\n",
      "fp2_delta_range    float64\n",
      "fp2_theta_mean     float64\n",
      "blink                int64\n",
      "fp1_var            float64\n",
      "fp2_var            float64\n",
      "dtype: object\n"
     ]
    }
   ],
   "source": [
    "print(features.dtypes)"
   ],
   "metadata": {
    "collapsed": false
   }
  },
  {
   "cell_type": "code",
   "execution_count": 4,
   "outputs": [],
   "source": [
    "train_x = features.loc[:, features.columns != 'blink']\n",
    "train_y = features.loc[:, features.columns == 'blink']"
   ],
   "metadata": {
    "collapsed": false
   }
  },
  {
   "cell_type": "code",
   "execution_count": 5,
   "outputs": [
    {
     "data": {
      "text/plain": "     blink\n0        1\n1        1\n2        1\n3        1\n4        1\n..     ...\n856      0\n857      0\n858      0\n859      0\n860      0\n\n[861 rows x 1 columns]",
      "text/html": "<div>\n<style scoped>\n    .dataframe tbody tr th:only-of-type {\n        vertical-align: middle;\n    }\n\n    .dataframe tbody tr th {\n        vertical-align: top;\n    }\n\n    .dataframe thead th {\n        text-align: right;\n    }\n</style>\n<table border=\"1\" class=\"dataframe\">\n  <thead>\n    <tr style=\"text-align: right;\">\n      <th></th>\n      <th>blink</th>\n    </tr>\n  </thead>\n  <tbody>\n    <tr>\n      <th>0</th>\n      <td>1</td>\n    </tr>\n    <tr>\n      <th>1</th>\n      <td>1</td>\n    </tr>\n    <tr>\n      <th>2</th>\n      <td>1</td>\n    </tr>\n    <tr>\n      <th>3</th>\n      <td>1</td>\n    </tr>\n    <tr>\n      <th>4</th>\n      <td>1</td>\n    </tr>\n    <tr>\n      <th>...</th>\n      <td>...</td>\n    </tr>\n    <tr>\n      <th>856</th>\n      <td>0</td>\n    </tr>\n    <tr>\n      <th>857</th>\n      <td>0</td>\n    </tr>\n    <tr>\n      <th>858</th>\n      <td>0</td>\n    </tr>\n    <tr>\n      <th>859</th>\n      <td>0</td>\n    </tr>\n    <tr>\n      <th>860</th>\n      <td>0</td>\n    </tr>\n  </tbody>\n</table>\n<p>861 rows × 1 columns</p>\n</div>"
     },
     "execution_count": 5,
     "metadata": {},
     "output_type": "execute_result"
    }
   ],
   "source": [
    "from sklearn import preprocessing\n",
    "\n",
    "def normalize_mms(input_df):\n",
    "    scaler = preprocessing.MinMaxScaler()\n",
    "    result = scaler.fit_transform(input_df)\n",
    "    return pd.DataFrame(result, index=input_df.index, columns=input_df.columns)\n",
    "\n",
    "train_x = normalize_mms(train_x)\n",
    "train_x\n",
    "train_y"
   ],
   "metadata": {
    "collapsed": false
   }
  },
  {
   "cell_type": "code",
   "execution_count": 6,
   "outputs": [
    {
     "name": "stdout",
     "output_type": "stream",
     "text": [
      "Train acc: 0.7630813953488372\n",
      "[[226  87]\n",
      " [ 76 299]]\n",
      "              precision    recall  f1-score   support\n",
      "\n",
      "           0       0.75      0.72      0.73       313\n",
      "           1       0.77      0.80      0.79       375\n",
      "\n",
      "    accuracy                           0.76       688\n",
      "   macro avg       0.76      0.76      0.76       688\n",
      "weighted avg       0.76      0.76      0.76       688\n",
      "\n",
      "\n",
      "Test acc: 0.6994219653179191\n",
      "[[54 27]\n",
      " [25 67]]\n",
      "              precision    recall  f1-score   support\n",
      "\n",
      "           0       0.68      0.67      0.68        81\n",
      "           1       0.71      0.73      0.72        92\n",
      "\n",
      "    accuracy                           0.70       173\n",
      "   macro avg       0.70      0.70      0.70       173\n",
      "weighted avg       0.70      0.70      0.70       173\n",
      "\n"
     ]
    },
    {
     "data": {
      "text/plain": "<Figure size 640x480 with 2 Axes>",
      "image/png": "[encoded data removed]"
     },
     "metadata": {},
     "output_type": "display_data"
    }
   ],
   "source": [
    "import sys\n",
    "sys.path.append(\"../../function\")\n",
    "from sklearn.linear_model import LogisticRegression\n",
    "from sklearn.ensemble import RandomForestClassifier\n",
    "from function import classification\n",
    "\n",
    "LR = LogisticRegression(random_state=42)\n",
    "LR = classification.model_training(train_x, train_y.values.ravel(), LR)"
   ],
   "metadata": {
    "collapsed": false
   }
  },
  {
   "cell_type": "code",
   "execution_count": 7,
   "outputs": [
    {
     "name": "stderr",
     "output_type": "stream",
     "text": [
      "C:\\Users\\Edwin Sanjaya\\DataspellProjects\\bci-finalproject\\function\\classification.py:9: DataConversionWarning: A column-vector y was passed when a 1d array was expected. Please change the shape of y to (n_samples,), for example using ravel().\n",
      "  model.fit(x_train, y_train)\n"
     ]
    },
    {
     "name": "stdout",
     "output_type": "stream",
     "text": [
      "Train acc: 1.0\n",
      "[[313   0]\n",
      " [  0 375]]\n",
      "              precision    recall  f1-score   support\n",
      "\n",
      "           0       1.00      1.00      1.00       313\n",
      "           1       1.00      1.00      1.00       375\n",
      "\n",
      "    accuracy                           1.00       688\n",
      "   macro avg       1.00      1.00      1.00       688\n",
      "weighted avg       1.00      1.00      1.00       688\n",
      "\n",
      "\n",
      "Test acc: 0.7398843930635838\n",
      "[[61 20]\n",
      " [25 67]]\n",
      "              precision    recall  f1-score   support\n",
      "\n",
      "           0       0.71      0.75      0.73        81\n",
      "           1       0.77      0.73      0.75        92\n",
      "\n",
      "    accuracy                           0.74       173\n",
      "   macro avg       0.74      0.74      0.74       173\n",
      "weighted avg       0.74      0.74      0.74       173\n",
      "\n"
     ]
    },
    {
     "data": {
      "text/plain": "<Figure size 640x480 with 2 Axes>",
      "image/png": "[encoded data removed]"
     },
     "metadata": {},
     "output_type": "display_data"
    }
   ],
   "source": [
    "RF = RandomForestClassifier(random_state=42)\n",
    "RF = classification.model_training(train_x, train_y, RF)"
   ],
   "metadata": {
    "collapsed": false
   }
  },
  {
   "cell_type": "code",
   "execution_count": 8,
   "outputs": [
    {
     "name": "stdout",
     "output_type": "stream",
     "text": [
      "Index(['fp1_mean', 'fp1_median', 'fp1_min', 'fp1_max', 'fp1_range',\n",
      "       'fp1_kurtosis', 'fp1_skew', 'fp2_mean', 'fp2_median', 'fp2_min',\n",
      "       'fp2_max', 'fp2_range', 'fp2_kurtosis', 'fp2_skew', 'fp1_delta_mean',\n",
      "       'fp1_delta_min', 'fp1_delta_max', 'fp1_delta_range', 'fp1_theta_mean',\n",
      "       'fp2_delta_mean', 'fp2_delta_min', 'fp2_delta_max', 'fp2_delta_range',\n",
      "       'fp2_theta_mean', 'fp1_var', 'fp2_var'],\n",
      "      dtype='object')\n",
      "[ True False  True  True  True  True  True  True  True  True  True  True\n",
      "  True  True  True  True  True False False  True  True  True  True  True\n",
      "  True  True]\n",
      "[1 2 1 1 1 1 1 1 1 1 1 1 1 1 1 1 1 2 2 1 1 1 1 1 1 1]\n"
     ]
    },
    {
     "name": "stderr",
     "output_type": "stream",
     "text": [
      "C:\\Users\\Edwin Sanjaya\\DataspellProjects\\bci-finalproject\\function\\classification.py:9: DataConversionWarning: A column-vector y was passed when a 1d array was expected. Please change the shape of y to (n_samples,), for example using ravel().\n",
      "  model.fit(x_train, y_train)\n"
     ]
    },
    {
     "name": "stdout",
     "output_type": "stream",
     "text": [
      "Train acc: 1.0\n",
      "[[313   0]\n",
      " [  0 375]]\n",
      "              precision    recall  f1-score   support\n",
      "\n",
      "           0       1.00      1.00      1.00       313\n",
      "           1       1.00      1.00      1.00       375\n",
      "\n",
      "    accuracy                           1.00       688\n",
      "   macro avg       1.00      1.00      1.00       688\n",
      "weighted avg       1.00      1.00      1.00       688\n",
      "\n",
      "\n",
      "Test acc: 0.7514450867052023\n",
      "[[60 21]\n",
      " [22 70]]\n",
      "              precision    recall  f1-score   support\n",
      "\n",
      "           0       0.73      0.74      0.74        81\n",
      "           1       0.77      0.76      0.77        92\n",
      "\n",
      "    accuracy                           0.75       173\n",
      "   macro avg       0.75      0.75      0.75       173\n",
      "weighted avg       0.75      0.75      0.75       173\n",
      "\n"
     ]
    },
    {
     "data": {
      "text/plain": "<Figure size 640x480 with 2 Axes>",
      "image/png": "[encoded data removed]"
     },
     "metadata": {},
     "output_type": "display_data"
    }
   ],
   "source": [
    "rfe_columns = classification.RFE_analysis(train_x, train_y, RF, n_feature_to_select=0.9)\n",
    "train_x_rfe = train_x[train_x.columns[rfe_columns]]\n",
    "RF = classification.model_training(train_x_rfe, train_y, RF)"
   ],
   "metadata": {
    "collapsed": false
   }
  },
  {
   "cell_type": "code",
   "execution_count": 8,
   "outputs": [],
   "source": [],
   "metadata": {
    "collapsed": false
   }
  }
 ],
 "metadata": {
  "kernelspec": {
   "display_name": "Python 3",
   "language": "python",
   "name": "python3"
  },
  "language_info": {
   "codemirror_mode": {
    "name": "ipython",
    "version": 2
   },
   "file_extension": ".py",
   "mimetype": "text/x-python",
   "name": "python",
   "nbconvert_exporter": "python",
   "pygments_lexer": "ipython2",
   "version": "2.7.6"
  }
 },
 "nbformat": 4,
 "nbformat_minor": 0
}
