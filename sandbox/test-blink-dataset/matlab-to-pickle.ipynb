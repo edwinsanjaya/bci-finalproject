{
 "cells": [
  {
   "cell_type": "code",
   "execution_count": 1,
   "metadata": {
    "collapsed": true
   },
   "outputs": [],
   "source": [
    "from scipy.io import loadmat\n",
    "from scipy.io import savemat\n",
    "from scipy import signal\n",
    "import pandas as pd\n",
    "import numpy as np\n",
    "\n",
    "mdata = loadmat('dataset/sample_wave.mat')['sample_wave']\n",
    "\n",
    "Fs = 256\n",
    "t_range = np.arange(0, 4, 1/Fs)\n",
    "f_range = np.arange(0, 128, 0.25)\n",
    "blink_types = mdata.dtype.names # voluntary & involuntary\n",
    "\n",
    "feature_names = [\n",
    "    'fp1_mean',\n",
    "    'fp1_median',\n",
    "    'fp1_min',\n",
    "    'fp1_max',\n",
    "    'fp2_mean',\n",
    "    'fp2_median',\n",
    "    'fp2_min',\n",
    "    'fp2_max',\n",
    "    'fp1_delta_mean',\n",
    "    'fp1_theta_mean',\n",
    "    'fp1_alpha_mean',\n",
    "    'fp1_beta_mean',\n",
    "    'fp1_gamma_mean',\n",
    "    'fp2_delta_mean',\n",
    "    'fp2_theta_mean',\n",
    "    'fp2_alpha_mean',\n",
    "    'fp2_beta_mean',\n",
    "    'fp2_gamma_mean',\n",
    "    'blink'\n",
    "]\n",
    "eeg_bands = {'delta': (0, 4),\n",
    "             'theta': (4, 8),\n",
    "             'alpha': (8, 12),\n",
    "             'beta': (12, 30),\n",
    "             'gamma': (30, 45)}\n",
    "features = pd.DataFrame(columns=feature_names)\n",
    "features['blink'] = features['blink'].astype(int)\n",
    "\n",
    "for blink_type in blink_types:\n",
    "\n",
    "    signals = mdata[blink_type][0,0]\n",
    "    epochs = signals.dtype.names # individual epoch struct\n",
    "\n",
    "    for epoch in epochs:\n",
    "        fp1 = signals[epoch][0,0][0]\n",
    "        fp2 = signals[epoch][0,0][1]\n",
    "\n",
    "        f, psd = signal.welch(fp1, Fs, nperseg=1024)\n",
    "        f_delta_indices = np.where((f >= eeg_bands['delta'][0]) & (f < eeg_bands['delta'][1]))\n",
    "        f_theta_indices = np.where((f >= eeg_bands['theta'][0]) & (f < eeg_bands['theta'][1]))\n",
    "        f_alpha_indices = np.where((f >= eeg_bands['alpha'][0]) & (f < eeg_bands['alpha'][1]))\n",
    "        f_beta_indices = np.where((f >= eeg_bands['beta'][0]) & (f < eeg_bands['beta'][1]))\n",
    "        f_gamma_indices = np.where((f >= eeg_bands['gamma'][0]) & (f < eeg_bands['gamma'][1]))\n",
    "        fp1_delta_mean = np.mean(psd[f_delta_indices])\n",
    "        fp1_theta_mean = np.mean(psd[f_theta_indices])\n",
    "        fp1_alpha_mean = np.mean(psd[f_alpha_indices])\n",
    "        fp1_beta_mean = np.mean(psd[f_beta_indices])\n",
    "        fp1_gamma_mean = np.mean(psd[f_gamma_indices])\n",
    "\n",
    "        f, psd = signal.welch(fp2, Fs, nperseg=1024)\n",
    "        f_delta_indices = np.where((f >= eeg_bands['delta'][0]) & (f < eeg_bands['delta'][1]))\n",
    "        f_theta_indices = np.where((f >= eeg_bands['theta'][0]) & (f < eeg_bands['theta'][1]))\n",
    "        f_alpha_indices = np.where((f >= eeg_bands['alpha'][0]) & (f < eeg_bands['alpha'][1]))\n",
    "        f_beta_indices = np.where((f >= eeg_bands['beta'][0]) & (f < eeg_bands['beta'][1]))\n",
    "        f_gamma_indices = np.where((f >= eeg_bands['gamma'][0]) & (f < eeg_bands['gamma'][1]))\n",
    "        fp2_delta_mean = np.mean(psd[f_delta_indices])\n",
    "        fp2_theta_mean = np.mean(psd[f_theta_indices])\n",
    "        fp2_alpha_mean = np.mean(psd[f_alpha_indices])\n",
    "        fp2_beta_mean = np.mean(psd[f_beta_indices])\n",
    "        fp2_gamma_mean = np.mean(psd[f_gamma_indices])\n",
    "\n",
    "        new_record = {\n",
    "            'fp1_mean': np.mean(fp1),\n",
    "            'fp1_median': np.median(fp1),\n",
    "            'fp1_min': np.min(fp1),\n",
    "            'fp1_max': np.max(fp1),\n",
    "            'fp2_mean': np.mean(fp2),\n",
    "            'fp2_median': np.median(fp2),\n",
    "            'fp2_min': np.min(fp2),\n",
    "            'fp2_max': np.max(fp2),\n",
    "            'fp1_delta_mean': fp1_delta_mean,\n",
    "            'fp1_theta_mean': fp1_theta_mean,\n",
    "            'fp1_alpha_mean': fp1_alpha_mean,\n",
    "            'fp1_beta_mean': fp1_beta_mean,\n",
    "            'fp1_gamma_mean': fp1_gamma_mean,\n",
    "            'fp2_delta_mean': fp2_delta_mean,\n",
    "            'fp2_theta_mean': fp2_theta_mean,\n",
    "            'fp2_alpha_mean': fp2_alpha_mean,\n",
    "            'fp2_beta_mean': fp2_beta_mean,\n",
    "            'fp2_gamma_mean': fp2_gamma_mean,\n",
    "            'blink': int(1) if blink_type == 'voluntary' else int(0),\n",
    "        }\n",
    "        features = pd.concat([features, pd.DataFrame([new_record])], ignore_index=True)\n"
   ]
  },
  {
   "cell_type": "code",
   "execution_count": 2,
   "outputs": [
    {
     "data": {
      "text/plain": "     fp1_mean  fp1_median     fp1_min     fp1_max  fp2_mean  fp2_median   \n0    0.019418    0.570297 -153.152054  159.161428  0.020885    0.613362  \\\n1    0.035894    0.484288  -96.534364  134.752058  0.038604    0.520858   \n2   -0.166985    1.006762 -106.343849  113.392582 -0.179595    1.082787   \n3   -0.331847    0.188234 -105.302602  115.957580 -0.356906    0.202448   \n4    0.019691    0.748899 -105.534091  118.844261  0.021178    0.805451   \n..        ...         ...         ...         ...       ...         ...   \n856 -0.075876    0.393187  -80.309467  120.125675 -0.077323    0.400683   \n857  0.293096    0.044543 -103.551569  142.618844  0.298683    0.045392   \n858 -0.456375    1.613479 -132.117488  123.142924 -0.465074    1.644236   \n859 -0.276722    0.266537  -69.893409   79.104371 -0.281997    0.271618   \n860 -1.971434   -2.674534  -69.987201   89.005634 -2.009014   -2.725517   \n\n        fp2_min     fp2_max  fp1_delta_mean  fp1_theta_mean  fp1_alpha_mean   \n0   -164.717140  171.180305       37.634779        0.528774        0.504064  \\\n1   -103.824036  144.927691       19.724667        0.741313        0.358522   \n2   -114.374273  121.955281       21.425768        1.219259        0.305272   \n3   -113.254397  124.713972       40.509336        0.406582        0.297260   \n4   -113.503367  127.818637       24.977529        0.594918        0.409325   \n..          ...         ...             ...             ...             ...   \n856  -81.840374  122.415583       34.986274        0.966050        0.649709   \n857 -105.525531  145.337531       20.541165        0.852161        0.282139   \n858 -134.635991  125.490349       73.344145        0.779338        0.584506   \n859  -71.225759   80.612306       23.675377        0.608349        0.430466   \n860  -71.321339   90.702313       21.343665        0.900283        1.053511   \n\n     fp1_beta_mean  fp1_gamma_mean  fp2_delta_mean  fp2_theta_mean   \n0         0.134602        0.107407       43.533272        0.611648  \\\n1         0.145141        0.084654       22.816111        0.857499   \n2         0.116558        0.081505       24.783825        1.410353   \n3         0.126761        0.103454       46.858358        0.470305   \n4         0.168149        0.066423       28.892254        0.688159   \n..             ...             ...             ...             ...   \n856       0.191086        0.163132       36.332847        1.003232   \n857       0.190252        0.112212       21.331765        0.884960   \n858       0.326723        0.123853       76.167057        0.809334   \n859       0.237088        0.153009       24.586609        0.631763   \n860       0.227728        0.265024       22.165153        0.934934   \n\n     fp2_alpha_mean  fp2_beta_mean  fp2_gamma_mean  blink  \n0          0.583066       0.155698        0.124240      1  \n1          0.414713       0.167889        0.097922      1  \n2          0.353118       0.134826        0.094279      1  \n3          0.343849       0.146628        0.119668      1  \n4          0.473479       0.194503        0.076834      1  \n..              ...            ...             ...    ...  \n856        0.674716       0.198441        0.169411      0  \n857        0.292998       0.197575        0.116531      0  \n858        0.607003       0.339298        0.128620      0  \n859        0.447034       0.246213        0.158898      0  \n860        1.094059       0.236493        0.275225      0  \n\n[861 rows x 19 columns]",
      "text/html": "<div>\n<style scoped>\n    .dataframe tbody tr th:only-of-type {\n        vertical-align: middle;\n    }\n\n    .dataframe tbody tr th {\n        vertical-align: top;\n    }\n\n    .dataframe thead th {\n        text-align: right;\n    }\n</style>\n<table border=\"1\" class=\"dataframe\">\n  <thead>\n    <tr style=\"text-align: right;\">\n      <th></th>\n      <th>fp1_mean</th>\n      <th>fp1_median</th>\n      <th>fp1_min</th>\n      <th>fp1_max</th>\n      <th>fp2_mean</th>\n      <th>fp2_median</th>\n      <th>fp2_min</th>\n      <th>fp2_max</th>\n      <th>fp1_delta_mean</th>\n      <th>fp1_theta_mean</th>\n      <th>fp1_alpha_mean</th>\n      <th>fp1_beta_mean</th>\n      <th>fp1_gamma_mean</th>\n      <th>fp2_delta_mean</th>\n      <th>fp2_theta_mean</th>\n      <th>fp2_alpha_mean</th>\n      <th>fp2_beta_mean</th>\n      <th>fp2_gamma_mean</th>\n      <th>blink</th>\n    </tr>\n  </thead>\n  <tbody>\n    <tr>\n      <th>0</th>\n      <td>0.019418</td>\n      <td>0.570297</td>\n      <td>-153.152054</td>\n      <td>159.161428</td>\n      <td>0.020885</td>\n      <td>0.613362</td>\n      <td>-164.717140</td>\n      <td>171.180305</td>\n      <td>37.634779</td>\n      <td>0.528774</td>\n      <td>0.504064</td>\n      <td>0.134602</td>\n      <td>0.107407</td>\n      <td>43.533272</td>\n      <td>0.611648</td>\n      <td>0.583066</td>\n      <td>0.155698</td>\n      <td>0.124240</td>\n      <td>1</td>\n    </tr>\n    <tr>\n      <th>1</th>\n      <td>0.035894</td>\n      <td>0.484288</td>\n      <td>-96.534364</td>\n      <td>134.752058</td>\n      <td>0.038604</td>\n      <td>0.520858</td>\n      <td>-103.824036</td>\n      <td>144.927691</td>\n      <td>19.724667</td>\n      <td>0.741313</td>\n      <td>0.358522</td>\n      <td>0.145141</td>\n      <td>0.084654</td>\n      <td>22.816111</td>\n      <td>0.857499</td>\n      <td>0.414713</td>\n      <td>0.167889</td>\n      <td>0.097922</td>\n      <td>1</td>\n    </tr>\n    <tr>\n      <th>2</th>\n      <td>-0.166985</td>\n      <td>1.006762</td>\n      <td>-106.343849</td>\n      <td>113.392582</td>\n      <td>-0.179595</td>\n      <td>1.082787</td>\n      <td>-114.374273</td>\n      <td>121.955281</td>\n      <td>21.425768</td>\n      <td>1.219259</td>\n      <td>0.305272</td>\n      <td>0.116558</td>\n      <td>0.081505</td>\n      <td>24.783825</td>\n      <td>1.410353</td>\n      <td>0.353118</td>\n      <td>0.134826</td>\n      <td>0.094279</td>\n      <td>1</td>\n    </tr>\n    <tr>\n      <th>3</th>\n      <td>-0.331847</td>\n      <td>0.188234</td>\n      <td>-105.302602</td>\n      <td>115.957580</td>\n      <td>-0.356906</td>\n      <td>0.202448</td>\n      <td>-113.254397</td>\n      <td>124.713972</td>\n      <td>40.509336</td>\n      <td>0.406582</td>\n      <td>0.297260</td>\n      <td>0.126761</td>\n      <td>0.103454</td>\n      <td>46.858358</td>\n      <td>0.470305</td>\n      <td>0.343849</td>\n      <td>0.146628</td>\n      <td>0.119668</td>\n      <td>1</td>\n    </tr>\n    <tr>\n      <th>4</th>\n      <td>0.019691</td>\n      <td>0.748899</td>\n      <td>-105.534091</td>\n      <td>118.844261</td>\n      <td>0.021178</td>\n      <td>0.805451</td>\n      <td>-113.503367</td>\n      <td>127.818637</td>\n      <td>24.977529</td>\n      <td>0.594918</td>\n      <td>0.409325</td>\n      <td>0.168149</td>\n      <td>0.066423</td>\n      <td>28.892254</td>\n      <td>0.688159</td>\n      <td>0.473479</td>\n      <td>0.194503</td>\n      <td>0.076834</td>\n      <td>1</td>\n    </tr>\n    <tr>\n      <th>...</th>\n      <td>...</td>\n      <td>...</td>\n      <td>...</td>\n      <td>...</td>\n      <td>...</td>\n      <td>...</td>\n      <td>...</td>\n      <td>...</td>\n      <td>...</td>\n      <td>...</td>\n      <td>...</td>\n      <td>...</td>\n      <td>...</td>\n      <td>...</td>\n      <td>...</td>\n      <td>...</td>\n      <td>...</td>\n      <td>...</td>\n      <td>...</td>\n    </tr>\n    <tr>\n      <th>856</th>\n      <td>-0.075876</td>\n      <td>0.393187</td>\n      <td>-80.309467</td>\n      <td>120.125675</td>\n      <td>-0.077323</td>\n      <td>0.400683</td>\n      <td>-81.840374</td>\n      <td>122.415583</td>\n      <td>34.986274</td>\n      <td>0.966050</td>\n      <td>0.649709</td>\n      <td>0.191086</td>\n      <td>0.163132</td>\n      <td>36.332847</td>\n      <td>1.003232</td>\n      <td>0.674716</td>\n      <td>0.198441</td>\n      <td>0.169411</td>\n      <td>0</td>\n    </tr>\n    <tr>\n      <th>857</th>\n      <td>0.293096</td>\n      <td>0.044543</td>\n      <td>-103.551569</td>\n      <td>142.618844</td>\n      <td>0.298683</td>\n      <td>0.045392</td>\n      <td>-105.525531</td>\n      <td>145.337531</td>\n      <td>20.541165</td>\n      <td>0.852161</td>\n      <td>0.282139</td>\n      <td>0.190252</td>\n      <td>0.112212</td>\n      <td>21.331765</td>\n      <td>0.884960</td>\n      <td>0.292998</td>\n      <td>0.197575</td>\n      <td>0.116531</td>\n      <td>0</td>\n    </tr>\n    <tr>\n      <th>858</th>\n      <td>-0.456375</td>\n      <td>1.613479</td>\n      <td>-132.117488</td>\n      <td>123.142924</td>\n      <td>-0.465074</td>\n      <td>1.644236</td>\n      <td>-134.635991</td>\n      <td>125.490349</td>\n      <td>73.344145</td>\n      <td>0.779338</td>\n      <td>0.584506</td>\n      <td>0.326723</td>\n      <td>0.123853</td>\n      <td>76.167057</td>\n      <td>0.809334</td>\n      <td>0.607003</td>\n      <td>0.339298</td>\n      <td>0.128620</td>\n      <td>0</td>\n    </tr>\n    <tr>\n      <th>859</th>\n      <td>-0.276722</td>\n      <td>0.266537</td>\n      <td>-69.893409</td>\n      <td>79.104371</td>\n      <td>-0.281997</td>\n      <td>0.271618</td>\n      <td>-71.225759</td>\n      <td>80.612306</td>\n      <td>23.675377</td>\n      <td>0.608349</td>\n      <td>0.430466</td>\n      <td>0.237088</td>\n      <td>0.153009</td>\n      <td>24.586609</td>\n      <td>0.631763</td>\n      <td>0.447034</td>\n      <td>0.246213</td>\n      <td>0.158898</td>\n      <td>0</td>\n    </tr>\n    <tr>\n      <th>860</th>\n      <td>-1.971434</td>\n      <td>-2.674534</td>\n      <td>-69.987201</td>\n      <td>89.005634</td>\n      <td>-2.009014</td>\n      <td>-2.725517</td>\n      <td>-71.321339</td>\n      <td>90.702313</td>\n      <td>21.343665</td>\n      <td>0.900283</td>\n      <td>1.053511</td>\n      <td>0.227728</td>\n      <td>0.265024</td>\n      <td>22.165153</td>\n      <td>0.934934</td>\n      <td>1.094059</td>\n      <td>0.236493</td>\n      <td>0.275225</td>\n      <td>0</td>\n    </tr>\n  </tbody>\n</table>\n<p>861 rows × 19 columns</p>\n</div>"
     },
     "execution_count": 2,
     "metadata": {},
     "output_type": "execute_result"
    }
   ],
   "source": [
    "features"
   ],
   "metadata": {
    "collapsed": false
   }
  },
  {
   "cell_type": "code",
   "execution_count": 3,
   "outputs": [
    {
     "name": "stdout",
     "output_type": "stream",
     "text": [
      "fp1_mean          float64\n",
      "fp1_median        float64\n",
      "fp1_min           float64\n",
      "fp1_max           float64\n",
      "fp2_mean          float64\n",
      "fp2_median        float64\n",
      "fp2_min           float64\n",
      "fp2_max           float64\n",
      "fp1_delta_mean    float64\n",
      "fp1_theta_mean    float64\n",
      "fp1_alpha_mean    float64\n",
      "fp1_beta_mean     float64\n",
      "fp1_gamma_mean    float64\n",
      "fp2_delta_mean    float64\n",
      "fp2_theta_mean    float64\n",
      "fp2_alpha_mean    float64\n",
      "fp2_beta_mean     float64\n",
      "fp2_gamma_mean    float64\n",
      "blink               int64\n",
      "dtype: object\n"
     ]
    }
   ],
   "source": [
    "print(features.dtypes)"
   ],
   "metadata": {
    "collapsed": false
   }
  },
  {
   "cell_type": "code",
   "execution_count": 4,
   "outputs": [],
   "source": [
    "train_x = features.loc[:, features.columns != 'blink']\n",
    "train_y = features.loc[:, features.columns == 'blink']"
   ],
   "metadata": {
    "collapsed": false
   }
  },
  {
   "cell_type": "code",
   "execution_count": 5,
   "outputs": [
    {
     "data": {
      "text/plain": "     blink\n0        1\n1        1\n2        1\n3        1\n4        1\n..     ...\n856      0\n857      0\n858      0\n859      0\n860      0\n\n[861 rows x 1 columns]",
      "text/html": "<div>\n<style scoped>\n    .dataframe tbody tr th:only-of-type {\n        vertical-align: middle;\n    }\n\n    .dataframe tbody tr th {\n        vertical-align: top;\n    }\n\n    .dataframe thead th {\n        text-align: right;\n    }\n</style>\n<table border=\"1\" class=\"dataframe\">\n  <thead>\n    <tr style=\"text-align: right;\">\n      <th></th>\n      <th>blink</th>\n    </tr>\n  </thead>\n  <tbody>\n    <tr>\n      <th>0</th>\n      <td>1</td>\n    </tr>\n    <tr>\n      <th>1</th>\n      <td>1</td>\n    </tr>\n    <tr>\n      <th>2</th>\n      <td>1</td>\n    </tr>\n    <tr>\n      <th>3</th>\n      <td>1</td>\n    </tr>\n    <tr>\n      <th>4</th>\n      <td>1</td>\n    </tr>\n    <tr>\n      <th>...</th>\n      <td>...</td>\n    </tr>\n    <tr>\n      <th>856</th>\n      <td>0</td>\n    </tr>\n    <tr>\n      <th>857</th>\n      <td>0</td>\n    </tr>\n    <tr>\n      <th>858</th>\n      <td>0</td>\n    </tr>\n    <tr>\n      <th>859</th>\n      <td>0</td>\n    </tr>\n    <tr>\n      <th>860</th>\n      <td>0</td>\n    </tr>\n  </tbody>\n</table>\n<p>861 rows × 1 columns</p>\n</div>"
     },
     "execution_count": 5,
     "metadata": {},
     "output_type": "execute_result"
    }
   ],
   "source": [
    "from sklearn import preprocessing\n",
    "\n",
    "def normalize_mms(input_df):\n",
    "    scaler = preprocessing.MinMaxScaler()\n",
    "    result = scaler.fit_transform(input_df)\n",
    "    return pd.DataFrame(result, index=input_df.index, columns=input_df.columns)\n",
    "\n",
    "train_x = normalize_mms(train_x)\n",
    "train_x\n",
    "train_y"
   ],
   "metadata": {
    "collapsed": false
   }
  },
  {
   "cell_type": "code",
   "execution_count": 6,
   "outputs": [
    {
     "name": "stdout",
     "output_type": "stream",
     "text": [
      "Train acc: 0.7136627906976745\n",
      "[[200 113]\n",
      " [ 84 291]]\n",
      "              precision    recall  f1-score   support\n",
      "\n",
      "           0       0.70      0.64      0.67       313\n",
      "           1       0.72      0.78      0.75       375\n",
      "\n",
      "    accuracy                           0.71       688\n",
      "   macro avg       0.71      0.71      0.71       688\n",
      "weighted avg       0.71      0.71      0.71       688\n",
      "\n",
      "\n",
      "Test acc: 0.653179190751445\n",
      "[[54 27]\n",
      " [33 59]]\n",
      "              precision    recall  f1-score   support\n",
      "\n",
      "           0       0.62      0.67      0.64        81\n",
      "           1       0.69      0.64      0.66        92\n",
      "\n",
      "    accuracy                           0.65       173\n",
      "   macro avg       0.65      0.65      0.65       173\n",
      "weighted avg       0.66      0.65      0.65       173\n",
      "\n"
     ]
    },
    {
     "data": {
      "text/plain": "<Figure size 640x480 with 2 Axes>",
      "image/png": "[encoded data removed]"
     },
     "metadata": {},
     "output_type": "display_data"
    }
   ],
   "source": [
    "import sys\n",
    "sys.path.append(\"../../function\")\n",
    "from sklearn.linear_model import LogisticRegression\n",
    "from sklearn.ensemble import RandomForestClassifier\n",
    "from function import classification\n",
    "\n",
    "LR = LogisticRegression(random_state=42)\n",
    "LR = classification.model_training(train_x, train_y.values.ravel(), LR)"
   ],
   "metadata": {
    "collapsed": false
   }
  },
  {
   "cell_type": "code",
   "execution_count": 7,
   "outputs": [
    {
     "name": "stderr",
     "output_type": "stream",
     "text": [
      "C:\\Users\\Edwin Sanjaya\\DataspellProjects\\bci-finalproject\\function\\classification.py:13: DataConversionWarning: A column-vector y was passed when a 1d array was expected. Please change the shape of y to (n_samples,), for example using ravel().\n",
      "  model.fit(x_train, y_train)\n"
     ]
    },
    {
     "name": "stdout",
     "output_type": "stream",
     "text": [
      "Train acc: 1.0\n",
      "[[313   0]\n",
      " [  0 375]]\n",
      "              precision    recall  f1-score   support\n",
      "\n",
      "           0       1.00      1.00      1.00       313\n",
      "           1       1.00      1.00      1.00       375\n",
      "\n",
      "    accuracy                           1.00       688\n",
      "   macro avg       1.00      1.00      1.00       688\n",
      "weighted avg       1.00      1.00      1.00       688\n",
      "\n",
      "\n",
      "Test acc: 0.7283236994219653\n",
      "[[57 24]\n",
      " [23 69]]\n",
      "              precision    recall  f1-score   support\n",
      "\n",
      "           0       0.71      0.70      0.71        81\n",
      "           1       0.74      0.75      0.75        92\n",
      "\n",
      "    accuracy                           0.73       173\n",
      "   macro avg       0.73      0.73      0.73       173\n",
      "weighted avg       0.73      0.73      0.73       173\n",
      "\n"
     ]
    },
    {
     "data": {
      "text/plain": "<Figure size 640x480 with 2 Axes>",
      "image/png": "[encoded data removed]"
     },
     "metadata": {},
     "output_type": "display_data"
    }
   ],
   "source": [
    "RF = RandomForestClassifier(random_state=42)\n",
    "RF = classification.model_training(train_x, train_y, RF)"
   ],
   "metadata": {
    "collapsed": false
   }
  }
 ],
 "metadata": {
  "kernelspec": {
   "display_name": "Python 3",
   "language": "python",
   "name": "python3"
  },
  "language_info": {
   "codemirror_mode": {
    "name": "ipython",
    "version": 2
   },
   "file_extension": ".py",
   "mimetype": "text/x-python",
   "name": "python",
   "nbconvert_exporter": "python",
   "pygments_lexer": "ipython2",
   "version": "2.7.6"
  }
 },
 "nbformat": 4,
 "nbformat_minor": 0
}
