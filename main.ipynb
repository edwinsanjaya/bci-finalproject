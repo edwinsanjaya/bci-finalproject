{
 "cells": [
  {
   "cell_type": "code",
   "execution_count": 1,
   "metadata": {
    "collapsed": true
   },
   "outputs": [],
   "source": [
    "# Pre-processing dependencies\n",
    "\n",
    "from scipy.io import loadmat\n",
    "from scipy.io import savemat\n",
    "from scipy.stats import kurtosis, skew, entropy\n",
    "from scipy import signal\n",
    "import pandas as pd\n",
    "import numpy as np"
   ]
  },
  {
   "cell_type": "code",
   "execution_count": 2,
   "metadata": {},
   "outputs": [],
   "source": [
    "involuntary = loadmat('dataset/jap_blink_involuntary.mat')['jap_blink_involuntary']\n",
    "channels = [\"Fp1\",\"Fp2\", \"F3\", \"F4\", \"T3\", \"C3\", \"Cz\", \"C4\", \"T4\", \"P3\", \"Pz\", \"P4\", \"O1\", \"O2\"]\n",
    "\n",
    "Fs = 256\n",
    "eeg_bands = {'delta': (0, 4),\n",
    "             'eog': (3, 4),\n",
    "             'theta': (4, 8),\n",
    "             'alpha': (8, 12),\n",
    "             'beta': (12, 30),\n",
    "             'gamma': (30, 45)}"
   ]
  },
  {
   "cell_type": "code",
   "execution_count": 29,
   "metadata": {},
   "outputs": [],
   "source": [
    "features = pd.DataFrame()\n",
    "\n",
    "# channels x points x epochs (14x1024x394)\n",
    "def extract_data(filename, dataframe, is_voluntary):\n",
    "    data = loadmat('dataset/' + filename + '.mat')[filename]\n",
    "\n",
    "    # iterate per epoch\n",
    "    for i in range (data.shape[2]):\n",
    "        sub_data = data[:, :, i]\n",
    "        new_record = {}\n",
    "        # iterate per channel\n",
    "        for j in range (sub_data.shape[0]):\n",
    "\n",
    "            #sub2_data is the signal\n",
    "            sub2_data = data[j,:,i]\n",
    "            new_record[channels[j] + '_mean'] = np.mean(sub2_data)\n",
    "            new_record[channels[j] + '_median'] = np.median(sub2_data)\n",
    "            new_record[channels[j] + '_min'] = np.min(sub2_data)\n",
    "            new_record[channels[j] + '_max'] = np.max(sub2_data)\n",
    "            new_record[channels[j] + '_range'] = np.median(sub2_data)\n",
    "            new_record[channels[j] + '_std'] = np.std(sub2_data)\n",
    "            new_record[channels[j] + '_var'] = np.var(sub2_data)\n",
    "            new_record[channels[j] + '_kurtosis'] = np.median(sub2_data)\n",
    "            new_record[channels[j] + '_skew'] = np.std(sub2_data)\n",
    "            new_record[channels[j] + '_entropy'] = np.var(sub2_data)\n",
    "\n",
    "            if channels[j] in ['Fp1', 'Fp2']:\n",
    "                f, sub2_psd = signal.welch(sub2_data, Fs, nperseg=1024)\n",
    "                sub2_psd = 10 * np.log10(sub2_psd)\n",
    "\n",
    "                for band in ['delta', 'eog', 'theta']:\n",
    "                    f_indices = np.where((f >= eeg_bands[band][0]) & (f < eeg_bands[band][1]))\n",
    "\n",
    "        new_record['is_voluntary'] = is_voluntary\n",
    "        dataframe = pd.concat([dataframe, pd.DataFrame([new_record])], ignore_index=True)\n",
    "    return dataframe"
   ]
  },
  {
   "cell_type": "code",
   "execution_count": 30,
   "metadata": {},
   "outputs": [],
   "source": [
    "features = extract_data('jap_blink_involuntary', features, 0)"
   ]
  },
  {
   "cell_type": "code",
   "execution_count": 31,
   "outputs": [
    {
     "data": {
      "text/plain": "'Fp2_mean'"
     },
     "execution_count": 31,
     "metadata": {},
     "output_type": "execute_result"
    }
   ],
   "source": [
    "channels[1] + '_mean'"
   ],
   "metadata": {
    "collapsed": false
   }
  },
  {
   "cell_type": "code",
   "execution_count": 32,
   "metadata": {},
   "outputs": [
    {
     "data": {
      "text/plain": "     Fp1_mean  Fp1_median     Fp1_min     Fp1_max  Fp1_range    Fp1_std   \n0   -0.046735    0.063639  -53.271559   77.853305   0.063639  16.018676  \\\n1    0.001362    0.409763  -71.513945   88.395715   0.409763  18.830967   \n2   -0.895459   -0.579754  -89.130934   75.969075  -0.579754  22.821094   \n3   -0.339240    0.226092  -54.124587   96.766259   0.226092  14.960617   \n4    0.322526    0.802425  -98.213821  116.997612   0.802425  24.903827   \n..        ...         ...         ...         ...        ...        ...   \n389 -0.075876    0.393187  -80.309467  120.125675   0.393187  25.623107   \n390  0.293096    0.044543 -103.551569  142.618844   0.044543  29.469183   \n391 -0.456375    1.613479 -132.117488  123.142924   1.613479  36.294150   \n392 -0.276722    0.266537  -69.893409   79.104371   0.266537  19.541324   \n393 -1.971434   -2.674534  -69.987201   89.005634  -2.674534  19.943017   \n\n         Fp1_var  Fp2_mean  Fp2_median     Fp2_min  ...    O1_std     O1_var   \n0     256.597974 -0.049273    0.067095  -56.164710  ...  1.580956   2.499421  \\\n1     354.605317  0.001436    0.432017  -75.397831  ...  1.858514   3.454073   \n2     520.802351 -0.944091   -0.611240  -93.971590  ...  2.252317   5.072934   \n3     223.820072 -0.357664    0.238371  -57.064066  ...  1.476531   2.180145   \n4     620.200615  0.317513    0.244246  -94.452287  ...  1.533466   2.351519   \n..           ...       ...         ...         ...  ...       ...        ...   \n389   656.543608 -0.077323    0.400683  -81.840374  ...  2.789021   7.778638   \n390   868.432769  0.298683    0.045392 -105.525531  ...  3.207658  10.289071   \n391  1317.265358 -0.465074    1.644236 -134.635991  ...  3.950541  15.606777   \n392   381.863331 -0.281997    0.271618  -71.225759  ...  2.127032   4.524264   \n393   397.723939 -2.009014   -2.725517  -71.321339  ...  2.170755   4.712178   \n\n      O2_mean  O2_median     O2_min     O2_max  O2_range    O2_std     O2_var   \n0   -0.004607   0.006274  -5.251690   7.675041  0.006274  1.579175   2.493794  \\\n1    0.000134   0.040396  -7.050085   8.714347  0.040396  1.856420   3.446296   \n2   -0.088277  -0.057154  -8.786828   7.489287 -0.057154  2.249780   5.061512   \n3   -0.033443   0.022289  -5.335784   9.539544  0.022289  1.474868   2.175236   \n4    0.015638  -0.000732  -4.784915   7.036567 -0.000732  1.671210   2.792942   \n..        ...        ...        ...        ...       ...       ...        ...   \n389 -0.007952   0.041207  -8.416619  12.589450  0.041207  2.685361   7.211164   \n390  0.030717   0.004668 -10.852445  14.946786  0.004668  3.088439   9.538455   \n391 -0.047829   0.169096 -13.846220  12.905664  0.169096  3.803711  14.468219   \n392 -0.029001   0.027934  -7.324992   8.290322  0.027934  2.047976   4.194206   \n393 -0.206611  -0.280297  -7.334821   9.327997 -0.280297  2.090075   4.368412   \n\n     is_voluntary  \n0               0  \n1               0  \n2               0  \n3               0  \n4               0  \n..            ...  \n389             0  \n390             0  \n391             0  \n392             0  \n393             0  \n\n[394 rows x 99 columns]",
      "text/html": "<div>\n<style scoped>\n    .dataframe tbody tr th:only-of-type {\n        vertical-align: middle;\n    }\n\n    .dataframe tbody tr th {\n        vertical-align: top;\n    }\n\n    .dataframe thead th {\n        text-align: right;\n    }\n</style>\n<table border=\"1\" class=\"dataframe\">\n  <thead>\n    <tr style=\"text-align: right;\">\n      <th></th>\n      <th>Fp1_mean</th>\n      <th>Fp1_median</th>\n      <th>Fp1_min</th>\n      <th>Fp1_max</th>\n      <th>Fp1_range</th>\n      <th>Fp1_std</th>\n      <th>Fp1_var</th>\n      <th>Fp2_mean</th>\n      <th>Fp2_median</th>\n      <th>Fp2_min</th>\n      <th>...</th>\n      <th>O1_std</th>\n      <th>O1_var</th>\n      <th>O2_mean</th>\n      <th>O2_median</th>\n      <th>O2_min</th>\n      <th>O2_max</th>\n      <th>O2_range</th>\n      <th>O2_std</th>\n      <th>O2_var</th>\n      <th>is_voluntary</th>\n    </tr>\n  </thead>\n  <tbody>\n    <tr>\n      <th>0</th>\n      <td>-0.046735</td>\n      <td>0.063639</td>\n      <td>-53.271559</td>\n      <td>77.853305</td>\n      <td>0.063639</td>\n      <td>16.018676</td>\n      <td>256.597974</td>\n      <td>-0.049273</td>\n      <td>0.067095</td>\n      <td>-56.164710</td>\n      <td>...</td>\n      <td>1.580956</td>\n      <td>2.499421</td>\n      <td>-0.004607</td>\n      <td>0.006274</td>\n      <td>-5.251690</td>\n      <td>7.675041</td>\n      <td>0.006274</td>\n      <td>1.579175</td>\n      <td>2.493794</td>\n      <td>0</td>\n    </tr>\n    <tr>\n      <th>1</th>\n      <td>0.001362</td>\n      <td>0.409763</td>\n      <td>-71.513945</td>\n      <td>88.395715</td>\n      <td>0.409763</td>\n      <td>18.830967</td>\n      <td>354.605317</td>\n      <td>0.001436</td>\n      <td>0.432017</td>\n      <td>-75.397831</td>\n      <td>...</td>\n      <td>1.858514</td>\n      <td>3.454073</td>\n      <td>0.000134</td>\n      <td>0.040396</td>\n      <td>-7.050085</td>\n      <td>8.714347</td>\n      <td>0.040396</td>\n      <td>1.856420</td>\n      <td>3.446296</td>\n      <td>0</td>\n    </tr>\n    <tr>\n      <th>2</th>\n      <td>-0.895459</td>\n      <td>-0.579754</td>\n      <td>-89.130934</td>\n      <td>75.969075</td>\n      <td>-0.579754</td>\n      <td>22.821094</td>\n      <td>520.802351</td>\n      <td>-0.944091</td>\n      <td>-0.611240</td>\n      <td>-93.971590</td>\n      <td>...</td>\n      <td>2.252317</td>\n      <td>5.072934</td>\n      <td>-0.088277</td>\n      <td>-0.057154</td>\n      <td>-8.786828</td>\n      <td>7.489287</td>\n      <td>-0.057154</td>\n      <td>2.249780</td>\n      <td>5.061512</td>\n      <td>0</td>\n    </tr>\n    <tr>\n      <th>3</th>\n      <td>-0.339240</td>\n      <td>0.226092</td>\n      <td>-54.124587</td>\n      <td>96.766259</td>\n      <td>0.226092</td>\n      <td>14.960617</td>\n      <td>223.820072</td>\n      <td>-0.357664</td>\n      <td>0.238371</td>\n      <td>-57.064066</td>\n      <td>...</td>\n      <td>1.476531</td>\n      <td>2.180145</td>\n      <td>-0.033443</td>\n      <td>0.022289</td>\n      <td>-5.335784</td>\n      <td>9.539544</td>\n      <td>0.022289</td>\n      <td>1.474868</td>\n      <td>2.175236</td>\n      <td>0</td>\n    </tr>\n    <tr>\n      <th>4</th>\n      <td>0.322526</td>\n      <td>0.802425</td>\n      <td>-98.213821</td>\n      <td>116.997612</td>\n      <td>0.802425</td>\n      <td>24.903827</td>\n      <td>620.200615</td>\n      <td>0.317513</td>\n      <td>0.244246</td>\n      <td>-94.452287</td>\n      <td>...</td>\n      <td>1.533466</td>\n      <td>2.351519</td>\n      <td>0.015638</td>\n      <td>-0.000732</td>\n      <td>-4.784915</td>\n      <td>7.036567</td>\n      <td>-0.000732</td>\n      <td>1.671210</td>\n      <td>2.792942</td>\n      <td>0</td>\n    </tr>\n    <tr>\n      <th>...</th>\n      <td>...</td>\n      <td>...</td>\n      <td>...</td>\n      <td>...</td>\n      <td>...</td>\n      <td>...</td>\n      <td>...</td>\n      <td>...</td>\n      <td>...</td>\n      <td>...</td>\n      <td>...</td>\n      <td>...</td>\n      <td>...</td>\n      <td>...</td>\n      <td>...</td>\n      <td>...</td>\n      <td>...</td>\n      <td>...</td>\n      <td>...</td>\n      <td>...</td>\n      <td>...</td>\n    </tr>\n    <tr>\n      <th>389</th>\n      <td>-0.075876</td>\n      <td>0.393187</td>\n      <td>-80.309467</td>\n      <td>120.125675</td>\n      <td>0.393187</td>\n      <td>25.623107</td>\n      <td>656.543608</td>\n      <td>-0.077323</td>\n      <td>0.400683</td>\n      <td>-81.840374</td>\n      <td>...</td>\n      <td>2.789021</td>\n      <td>7.778638</td>\n      <td>-0.007952</td>\n      <td>0.041207</td>\n      <td>-8.416619</td>\n      <td>12.589450</td>\n      <td>0.041207</td>\n      <td>2.685361</td>\n      <td>7.211164</td>\n      <td>0</td>\n    </tr>\n    <tr>\n      <th>390</th>\n      <td>0.293096</td>\n      <td>0.044543</td>\n      <td>-103.551569</td>\n      <td>142.618844</td>\n      <td>0.044543</td>\n      <td>29.469183</td>\n      <td>868.432769</td>\n      <td>0.298683</td>\n      <td>0.045392</td>\n      <td>-105.525531</td>\n      <td>...</td>\n      <td>3.207658</td>\n      <td>10.289071</td>\n      <td>0.030717</td>\n      <td>0.004668</td>\n      <td>-10.852445</td>\n      <td>14.946786</td>\n      <td>0.004668</td>\n      <td>3.088439</td>\n      <td>9.538455</td>\n      <td>0</td>\n    </tr>\n    <tr>\n      <th>391</th>\n      <td>-0.456375</td>\n      <td>1.613479</td>\n      <td>-132.117488</td>\n      <td>123.142924</td>\n      <td>1.613479</td>\n      <td>36.294150</td>\n      <td>1317.265358</td>\n      <td>-0.465074</td>\n      <td>1.644236</td>\n      <td>-134.635991</td>\n      <td>...</td>\n      <td>3.950541</td>\n      <td>15.606777</td>\n      <td>-0.047829</td>\n      <td>0.169096</td>\n      <td>-13.846220</td>\n      <td>12.905664</td>\n      <td>0.169096</td>\n      <td>3.803711</td>\n      <td>14.468219</td>\n      <td>0</td>\n    </tr>\n    <tr>\n      <th>392</th>\n      <td>-0.276722</td>\n      <td>0.266537</td>\n      <td>-69.893409</td>\n      <td>79.104371</td>\n      <td>0.266537</td>\n      <td>19.541324</td>\n      <td>381.863331</td>\n      <td>-0.281997</td>\n      <td>0.271618</td>\n      <td>-71.225759</td>\n      <td>...</td>\n      <td>2.127032</td>\n      <td>4.524264</td>\n      <td>-0.029001</td>\n      <td>0.027934</td>\n      <td>-7.324992</td>\n      <td>8.290322</td>\n      <td>0.027934</td>\n      <td>2.047976</td>\n      <td>4.194206</td>\n      <td>0</td>\n    </tr>\n    <tr>\n      <th>393</th>\n      <td>-1.971434</td>\n      <td>-2.674534</td>\n      <td>-69.987201</td>\n      <td>89.005634</td>\n      <td>-2.674534</td>\n      <td>19.943017</td>\n      <td>397.723939</td>\n      <td>-2.009014</td>\n      <td>-2.725517</td>\n      <td>-71.321339</td>\n      <td>...</td>\n      <td>2.170755</td>\n      <td>4.712178</td>\n      <td>-0.206611</td>\n      <td>-0.280297</td>\n      <td>-7.334821</td>\n      <td>9.327997</td>\n      <td>-0.280297</td>\n      <td>2.090075</td>\n      <td>4.368412</td>\n      <td>0</td>\n    </tr>\n  </tbody>\n</table>\n<p>394 rows × 99 columns</p>\n</div>"
     },
     "execution_count": 32,
     "metadata": {},
     "output_type": "execute_result"
    }
   ],
   "source": [
    "features"
   ]
  },
  {
   "cell_type": "code",
   "execution_count": 6,
   "metadata": {},
   "outputs": [],
   "source": [
    "involuntary = loadmat('dataset/jap_blink_involuntary.mat')['jap_blink_involuntary']\n",
    "test = involuntary[0,:,0]"
   ]
  },
  {
   "cell_type": "code",
   "execution_count": 7,
   "metadata": {},
   "outputs": [
    {
     "data": {
      "text/plain": "77.85330513175879"
     },
     "execution_count": 7,
     "metadata": {},
     "output_type": "execute_result"
    }
   ],
   "source": [
    "np.max(test)"
   ]
  },
  {
   "cell_type": "code",
   "execution_count": 8,
   "metadata": {},
   "outputs": [
    {
     "name": "stdout",
     "output_type": "stream",
     "text": [
      "a\n"
     ]
    }
   ],
   "source": [
    "print('a')"
   ]
  },
  {
   "cell_type": "code",
   "execution_count": 8,
   "metadata": {},
   "outputs": [],
   "source": []
  }
 ],
 "metadata": {
  "kernelspec": {
   "display_name": "Python 3 (ipykernel)",
   "language": "python",
   "name": "python3"
  },
  "language_info": {
   "codemirror_mode": {
    "name": "ipython",
    "version": 3
   },
   "file_extension": ".py",
   "mimetype": "text/x-python",
   "name": "python",
   "nbconvert_exporter": "python",
   "pygments_lexer": "ipython3",
   "version": "3.9.6"
  }
 },
 "nbformat": 4,
 "nbformat_minor": 1
}
