{
 "cells": [
  {
   "cell_type": "markdown",
   "metadata": {
    "id": "uuutyCx4YTpX"
   },
   "source": [
    "# RNN applied to the Neurocomputing Dataset \n"
   ]
  },
  {
   "cell_type": "code",
   "execution_count": 5,
   "metadata": {
    "id": "anfjcPSSYTpX"
   },
   "outputs": [],
   "source": [
    "import scipy.io\n",
    "import pandas as pd\n",
    "import numpy as np\n",
    "from keras.models import Sequential\n",
    "from keras.layers import LSTM, Dense\n",
    "\n",
    "# Load the .mat files\n",
    "mat_invol_jap = scipy.io.loadmat('dataset/jap_blink_involuntary.mat')\n",
    "mat_vol_jap = scipy.io.loadmat('dataset/jap_blink_voluntary.mat')\n",
    "\n",
    "# Extract the data from the .mat files\n",
    "data_invol_jap = mat_invol_jap['jap_blink_involuntary']\n",
    "data_vol_jap = mat_vol_jap['jap_blink_voluntary']\n",
    "\n",
    "# Number of features ('FP1' and 'FP2'), time steps and samples\n",
    "n_features_jap = data_invol_jap.shape[0]\n",
    "n_timesteps_jap = data_invol_jap.shape[1]\n",
    "n_samples_invol_jap = data_invol_jap.shape[2]\n",
    "n_samples_vol_jap = data_vol_jap.shape[2]\n",
    "\n",
    "# Reshape the data to be of size (samples, timesteps, features)\n",
    "data_invol_jap = np.transpose(data_invol_jap, (2, 1, 0))\n",
    "data_vol_jap = np.transpose(data_vol_jap, (2, 1, 0))\n",
    "\n",
    "# Create labels for the involuntary (0) and voluntary (1) data\n",
    "labels_invol_jap = np.zeros((n_samples_invol_jap, 1))\n",
    "labels_vol_jap = np.ones((n_samples_vol_jap, 1))\n",
    "\n",
    "# Combine the involuntary and voluntary data and labels\n",
    "X_jap = np.concatenate((data_invol_jap, data_vol_jap), axis=0)\n",
    "y_jap = np.concatenate((labels_invol_jap, labels_vol_jap), axis=0)\n"
   ]
  },
  {
   "cell_type": "code",
   "execution_count": 6,
   "metadata": {
    "id": "yVc2T5MIYTpX"
   },
   "outputs": [],
   "source": [
    "from keras.models import Sequential\n",
    "from keras.layers import LSTM, Dense, Conv1D, Bidirectional\n",
    "from keras.layers import MaxPooling1D, Dropout, BatchNormalization\n",
    "from sklearn.model_selection import train_test_split\n",
    "\n",
    "# Split the data into training and temporary sets (70% training, 30% temporary)\n",
    "X_temp_jap, X_train_jap, y_temp_jap, y_train_jap = train_test_split(X_jap, y_jap, test_size=0.7, random_state=42, shuffle=True)\n",
    "\n",
    "# Split the temporary set into validation and test sets (50% validation, 50% test)\n",
    "X_val_jap, X_test_jap, y_val_jap, y_test_jap = train_test_split(X_temp_jap, y_temp_jap, test_size=0.5, random_state=42, shuffle=True)\n"
   ]
  },
  {
   "cell_type": "code",
   "execution_count": 7,
   "metadata": {
    "colab": {
     "base_uri": "https://localhost:8080/",
     "height": 206
    },
    "id": "Kw8bGMv7YTpX",
    "outputId": "9f6f7052-302e-4794-ef69-b84450b61b36"
   },
   "outputs": [
    {
     "name": "stdout",
     "output_type": "stream",
     "text": [
      "Epoch 1/100\n",
      "19/19 [==============================] - 9s 251ms/step - loss: 0.6899 - accuracy: 0.5390 - val_loss: 0.6724 - val_accuracy: 0.6357\n",
      "Epoch 2/100\n",
      "19/19 [==============================] - 4s 198ms/step - loss: 0.6789 - accuracy: 0.5688 - val_loss: 0.6607 - val_accuracy: 0.6434\n",
      "Epoch 3/100\n",
      "19/19 [==============================] - 4s 199ms/step - loss: 0.6647 - accuracy: 0.6119 - val_loss: 0.6444 - val_accuracy: 0.6434\n",
      "Epoch 4/100\n",
      "19/19 [==============================] - 6s 320ms/step - loss: 0.6373 - accuracy: 0.6833 - val_loss: 0.6103 - val_accuracy: 0.6279\n",
      "Epoch 5/100\n",
      "19/19 [==============================] - 5s 252ms/step - loss: 0.5878 - accuracy: 0.7197 - val_loss: 0.5275 - val_accuracy: 0.7442\n",
      "Epoch 6/100\n",
      "19/19 [==============================] - 3s 175ms/step - loss: 0.5190 - accuracy: 0.7745 - val_loss: 0.4959 - val_accuracy: 0.7674\n",
      "Epoch 7/100\n",
      "19/19 [==============================] - 3s 184ms/step - loss: 0.5000 - accuracy: 0.7711 - val_loss: 0.5040 - val_accuracy: 0.7209\n",
      "Epoch 8/100\n",
      "19/19 [==============================] - 4s 194ms/step - loss: 0.4695 - accuracy: 0.7894 - val_loss: 0.4651 - val_accuracy: 0.7907\n",
      "Epoch 9/100\n",
      "19/19 [==============================] - 4s 208ms/step - loss: 0.4478 - accuracy: 0.8076 - val_loss: 0.4007 - val_accuracy: 0.8372\n",
      "Epoch 10/100\n",
      "19/19 [==============================] - 4s 197ms/step - loss: 0.4340 - accuracy: 0.8176 - val_loss: 0.3374 - val_accuracy: 0.8837\n",
      "Epoch 11/100\n",
      "19/19 [==============================] - 3s 182ms/step - loss: 0.4050 - accuracy: 0.8226 - val_loss: 0.3111 - val_accuracy: 0.8837\n",
      "Epoch 12/100\n",
      "19/19 [==============================] - 4s 188ms/step - loss: 0.4379 - accuracy: 0.8043 - val_loss: 0.3467 - val_accuracy: 0.8760\n",
      "Epoch 13/100\n",
      "19/19 [==============================] - 4s 198ms/step - loss: 0.3855 - accuracy: 0.8375 - val_loss: 0.3486 - val_accuracy: 0.8372\n",
      "Epoch 14/100\n",
      "19/19 [==============================] - 4s 208ms/step - loss: 0.3983 - accuracy: 0.8259 - val_loss: 0.4002 - val_accuracy: 0.8217\n",
      "Epoch 15/100\n",
      "19/19 [==============================] - 4s 201ms/step - loss: 0.3749 - accuracy: 0.8408 - val_loss: 0.3989 - val_accuracy: 0.8140\n",
      "Epoch 16/100\n",
      "19/19 [==============================] - 4s 190ms/step - loss: 0.4253 - accuracy: 0.8109 - val_loss: 0.4866 - val_accuracy: 0.7364\n",
      "Epoch 17/100\n",
      "19/19 [==============================] - 4s 188ms/step - loss: 0.3607 - accuracy: 0.8524 - val_loss: 0.2877 - val_accuracy: 0.8992\n",
      "Epoch 18/100\n",
      "19/19 [==============================] - 4s 192ms/step - loss: 0.3396 - accuracy: 0.8607 - val_loss: 0.3069 - val_accuracy: 0.8915\n",
      "Epoch 19/100\n",
      "19/19 [==============================] - 4s 195ms/step - loss: 0.3690 - accuracy: 0.8491 - val_loss: 0.3308 - val_accuracy: 0.8527\n",
      "Epoch 20/100\n",
      "19/19 [==============================] - 4s 201ms/step - loss: 0.3339 - accuracy: 0.8640 - val_loss: 0.3561 - val_accuracy: 0.8217\n",
      "Epoch 21/100\n",
      "19/19 [==============================] - 4s 193ms/step - loss: 0.3162 - accuracy: 0.8740 - val_loss: 0.2423 - val_accuracy: 0.8992\n",
      "Epoch 22/100\n",
      "19/19 [==============================] - 4s 196ms/step - loss: 0.3000 - accuracy: 0.8789 - val_loss: 0.2994 - val_accuracy: 0.8682\n",
      "Epoch 23/100\n",
      "19/19 [==============================] - 4s 189ms/step - loss: 0.2915 - accuracy: 0.8789 - val_loss: 0.2344 - val_accuracy: 0.9147\n",
      "Epoch 24/100\n",
      "19/19 [==============================] - 4s 203ms/step - loss: 0.3357 - accuracy: 0.8624 - val_loss: 0.4708 - val_accuracy: 0.7752\n",
      "Epoch 25/100\n",
      "19/19 [==============================] - 4s 200ms/step - loss: 0.2995 - accuracy: 0.8640 - val_loss: 0.1965 - val_accuracy: 0.9380\n",
      "Epoch 26/100\n",
      "19/19 [==============================] - 4s 188ms/step - loss: 0.2693 - accuracy: 0.9005 - val_loss: 0.2363 - val_accuracy: 0.9147\n",
      "Epoch 27/100\n",
      "19/19 [==============================] - 4s 190ms/step - loss: 0.2764 - accuracy: 0.8856 - val_loss: 0.3690 - val_accuracy: 0.8217\n",
      "Epoch 28/100\n",
      "19/19 [==============================] - 4s 186ms/step - loss: 0.2577 - accuracy: 0.9022 - val_loss: 0.2421 - val_accuracy: 0.9147\n",
      "Epoch 29/100\n",
      "19/19 [==============================] - 3s 185ms/step - loss: 0.2309 - accuracy: 0.9204 - val_loss: 0.1534 - val_accuracy: 0.9535\n",
      "Epoch 30/100\n",
      "19/19 [==============================] - 3s 184ms/step - loss: 0.2293 - accuracy: 0.9104 - val_loss: 0.2321 - val_accuracy: 0.8992\n",
      "Epoch 31/100\n",
      "19/19 [==============================] - 4s 192ms/step - loss: 0.2307 - accuracy: 0.8988 - val_loss: 0.3038 - val_accuracy: 0.8450\n",
      "Epoch 32/100\n",
      "19/19 [==============================] - 4s 192ms/step - loss: 0.2442 - accuracy: 0.9055 - val_loss: 0.1466 - val_accuracy: 0.9612\n",
      "Epoch 33/100\n",
      "19/19 [==============================] - 4s 203ms/step - loss: 0.2307 - accuracy: 0.9237 - val_loss: 0.1208 - val_accuracy: 0.9767\n",
      "Epoch 34/100\n",
      "19/19 [==============================] - 4s 202ms/step - loss: 0.1955 - accuracy: 0.9353 - val_loss: 0.1430 - val_accuracy: 0.9535\n",
      "Epoch 35/100\n",
      "19/19 [==============================] - 4s 196ms/step - loss: 0.2032 - accuracy: 0.9187 - val_loss: 0.1804 - val_accuracy: 0.9380\n",
      "Epoch 36/100\n",
      "19/19 [==============================] - 3s 185ms/step - loss: 0.2231 - accuracy: 0.9303 - val_loss: 0.1776 - val_accuracy: 0.9302\n",
      "Epoch 37/100\n",
      "19/19 [==============================] - 4s 185ms/step - loss: 0.2519 - accuracy: 0.8988 - val_loss: 0.2025 - val_accuracy: 0.9302\n",
      "Epoch 38/100\n",
      "19/19 [==============================] - 4s 190ms/step - loss: 0.2459 - accuracy: 0.8922 - val_loss: 0.1484 - val_accuracy: 0.9535\n",
      "Epoch 39/100\n",
      "19/19 [==============================] - 4s 189ms/step - loss: 0.2064 - accuracy: 0.9303 - val_loss: 0.1154 - val_accuracy: 0.9690\n",
      "Epoch 40/100\n",
      "19/19 [==============================] - 4s 188ms/step - loss: 0.1558 - accuracy: 0.9502 - val_loss: 0.1457 - val_accuracy: 0.9457\n",
      "Epoch 41/100\n",
      "19/19 [==============================] - 4s 188ms/step - loss: 0.2076 - accuracy: 0.9154 - val_loss: 0.2011 - val_accuracy: 0.9225\n",
      "Epoch 42/100\n",
      "19/19 [==============================] - 4s 192ms/step - loss: 0.1795 - accuracy: 0.9386 - val_loss: 0.1275 - val_accuracy: 0.9690\n",
      "Epoch 43/100\n",
      "19/19 [==============================] - 4s 191ms/step - loss: 0.1660 - accuracy: 0.9386 - val_loss: 0.1090 - val_accuracy: 0.9767\n",
      "Epoch 44/100\n",
      "19/19 [==============================] - 4s 194ms/step - loss: 0.1725 - accuracy: 0.9386 - val_loss: 0.1956 - val_accuracy: 0.9225\n",
      "Epoch 45/100\n",
      "19/19 [==============================] - 4s 191ms/step - loss: 0.1744 - accuracy: 0.9403 - val_loss: 0.1163 - val_accuracy: 0.9690\n",
      "Epoch 46/100\n",
      "19/19 [==============================] - 3s 182ms/step - loss: 0.2138 - accuracy: 0.9204 - val_loss: 0.3362 - val_accuracy: 0.8605\n",
      "Epoch 47/100\n",
      "19/19 [==============================] - 4s 196ms/step - loss: 0.2294 - accuracy: 0.9071 - val_loss: 0.1627 - val_accuracy: 0.9535\n",
      "Epoch 48/100\n",
      "19/19 [==============================] - 4s 198ms/step - loss: 0.1763 - accuracy: 0.9403 - val_loss: 0.1353 - val_accuracy: 0.9612\n",
      "Epoch 49/100\n",
      "19/19 [==============================] - 4s 187ms/step - loss: 0.1579 - accuracy: 0.9502 - val_loss: 0.1920 - val_accuracy: 0.9070\n",
      "Epoch 50/100\n",
      "19/19 [==============================] - 4s 192ms/step - loss: 0.1283 - accuracy: 0.9602 - val_loss: 0.0821 - val_accuracy: 0.9690\n",
      "Epoch 51/100\n",
      "19/19 [==============================] - 4s 191ms/step - loss: 0.1606 - accuracy: 0.9469 - val_loss: 0.3767 - val_accuracy: 0.8527\n",
      "Epoch 52/100\n",
      "19/19 [==============================] - 4s 190ms/step - loss: 0.1648 - accuracy: 0.9403 - val_loss: 0.0947 - val_accuracy: 0.9767\n",
      "Epoch 53/100\n",
      "19/19 [==============================] - 4s 202ms/step - loss: 0.1407 - accuracy: 0.9403 - val_loss: 0.0689 - val_accuracy: 0.9922\n",
      "Epoch 54/100\n",
      "19/19 [==============================] - 4s 198ms/step - loss: 0.1091 - accuracy: 0.9619 - val_loss: 0.1113 - val_accuracy: 0.9535\n",
      "Epoch 55/100\n",
      "19/19 [==============================] - 4s 190ms/step - loss: 0.1393 - accuracy: 0.9569 - val_loss: 0.0689 - val_accuracy: 0.9922\n",
      "Epoch 56/100\n",
      "19/19 [==============================] - 4s 193ms/step - loss: 0.1607 - accuracy: 0.9337 - val_loss: 0.1730 - val_accuracy: 0.9302\n",
      "Epoch 57/100\n",
      "19/19 [==============================] - 4s 195ms/step - loss: 0.1427 - accuracy: 0.9519 - val_loss: 0.0959 - val_accuracy: 0.9690\n"
     ]
    },
    {
     "name": "stdout",
     "output_type": "stream",
     "text": [
      "Epoch 58/100\n",
      "19/19 [==============================] - 4s 192ms/step - loss: 0.1338 - accuracy: 0.9486 - val_loss: 0.1626 - val_accuracy: 0.9380\n",
      "Epoch 59/100\n",
      "19/19 [==============================] - 4s 185ms/step - loss: 0.1127 - accuracy: 0.9585 - val_loss: 0.0691 - val_accuracy: 0.9845\n",
      "Epoch 60/100\n",
      "19/19 [==============================] - 4s 190ms/step - loss: 0.1077 - accuracy: 0.9652 - val_loss: 0.0785 - val_accuracy: 0.9767\n",
      "Epoch 61/100\n",
      "19/19 [==============================] - 4s 188ms/step - loss: 0.1059 - accuracy: 0.9652 - val_loss: 0.1098 - val_accuracy: 0.9690\n",
      "Epoch 62/100\n",
      "19/19 [==============================] - 4s 188ms/step - loss: 0.0989 - accuracy: 0.9685 - val_loss: 0.1352 - val_accuracy: 0.9612\n",
      "Epoch 63/100\n",
      "19/19 [==============================] - 4s 196ms/step - loss: 0.1390 - accuracy: 0.9519 - val_loss: 0.0692 - val_accuracy: 0.9767\n",
      "Epoch 64/100\n",
      "19/19 [==============================] - 4s 193ms/step - loss: 0.0996 - accuracy: 0.9735 - val_loss: 0.0700 - val_accuracy: 0.9767\n",
      "Epoch 65/100\n",
      "19/19 [==============================] - 4s 199ms/step - loss: 0.0950 - accuracy: 0.9685 - val_loss: 0.0814 - val_accuracy: 0.9767\n",
      "Epoch 66/100\n",
      "19/19 [==============================] - 4s 190ms/step - loss: 0.1127 - accuracy: 0.9569 - val_loss: 0.2871 - val_accuracy: 0.8992\n",
      "Epoch 67/100\n",
      "19/19 [==============================] - 4s 191ms/step - loss: 0.1739 - accuracy: 0.9303 - val_loss: 0.3286 - val_accuracy: 0.8837\n",
      "Epoch 68/100\n",
      "19/19 [==============================] - 4s 193ms/step - loss: 0.1083 - accuracy: 0.9652 - val_loss: 0.1166 - val_accuracy: 0.9457\n",
      "Epoch 69/100\n",
      "19/19 [==============================] - 4s 198ms/step - loss: 0.0882 - accuracy: 0.9768 - val_loss: 0.1035 - val_accuracy: 0.9612\n",
      "Epoch 70/100\n",
      "19/19 [==============================] - 4s 213ms/step - loss: 0.1315 - accuracy: 0.9585 - val_loss: 0.0706 - val_accuracy: 0.9922\n",
      "Epoch 71/100\n",
      "19/19 [==============================] - 4s 215ms/step - loss: 0.1525 - accuracy: 0.9453 - val_loss: 0.1506 - val_accuracy: 0.9535\n",
      "Epoch 72/100\n",
      "19/19 [==============================] - 4s 205ms/step - loss: 0.1498 - accuracy: 0.9403 - val_loss: 0.2379 - val_accuracy: 0.9225\n",
      "Epoch 73/100\n",
      "19/19 [==============================] - 4s 187ms/step - loss: 0.1074 - accuracy: 0.9602 - val_loss: 0.0885 - val_accuracy: 0.9767\n",
      "Epoch 74/100\n",
      "19/19 [==============================] - 4s 187ms/step - loss: 0.1088 - accuracy: 0.9619 - val_loss: 0.0443 - val_accuracy: 0.9922\n",
      "Epoch 75/100\n",
      "19/19 [==============================] - 3s 185ms/step - loss: 0.1128 - accuracy: 0.9569 - val_loss: 0.0742 - val_accuracy: 0.9845\n",
      "Epoch 76/100\n",
      "19/19 [==============================] - 3s 182ms/step - loss: 0.1034 - accuracy: 0.9652 - val_loss: 0.0844 - val_accuracy: 0.9767\n",
      "Epoch 77/100\n",
      "19/19 [==============================] - 3s 182ms/step - loss: 0.0750 - accuracy: 0.9784 - val_loss: 0.0507 - val_accuracy: 0.9845\n",
      "Epoch 78/100\n",
      "19/19 [==============================] - 4s 189ms/step - loss: 0.1101 - accuracy: 0.9602 - val_loss: 0.1018 - val_accuracy: 0.9612\n",
      "Epoch 79/100\n",
      "19/19 [==============================] - 4s 188ms/step - loss: 0.1184 - accuracy: 0.9619 - val_loss: 0.0740 - val_accuracy: 0.9845\n",
      "Epoch 80/100\n",
      "19/19 [==============================] - 3s 184ms/step - loss: 0.0833 - accuracy: 0.9718 - val_loss: 0.0729 - val_accuracy: 0.9767\n",
      "Epoch 81/100\n",
      "19/19 [==============================] - 4s 188ms/step - loss: 0.0943 - accuracy: 0.9701 - val_loss: 0.0522 - val_accuracy: 0.9845\n",
      "Epoch 82/100\n",
      "19/19 [==============================] - 4s 187ms/step - loss: 0.0988 - accuracy: 0.9635 - val_loss: 0.0801 - val_accuracy: 0.9690\n",
      "Epoch 83/100\n",
      "19/19 [==============================] - 4s 190ms/step - loss: 0.1017 - accuracy: 0.9569 - val_loss: 0.1228 - val_accuracy: 0.9612\n",
      "Epoch 84/100\n",
      "19/19 [==============================] - 3s 182ms/step - loss: 0.0961 - accuracy: 0.9735 - val_loss: 0.0779 - val_accuracy: 0.9690\n",
      "Epoch 85/100\n",
      "19/19 [==============================] - 4s 196ms/step - loss: 0.0883 - accuracy: 0.9751 - val_loss: 0.1186 - val_accuracy: 0.9690\n",
      "Epoch 86/100\n",
      "19/19 [==============================] - 4s 196ms/step - loss: 0.0823 - accuracy: 0.9701 - val_loss: 0.1089 - val_accuracy: 0.9535\n",
      "Epoch 87/100\n",
      "19/19 [==============================] - 4s 191ms/step - loss: 0.0564 - accuracy: 0.9851 - val_loss: 0.0811 - val_accuracy: 0.9767\n",
      "Epoch 88/100\n",
      "19/19 [==============================] - 4s 187ms/step - loss: 0.0594 - accuracy: 0.9768 - val_loss: 0.0858 - val_accuracy: 0.9457\n",
      "Epoch 89/100\n",
      "19/19 [==============================] - 4s 190ms/step - loss: 0.0757 - accuracy: 0.9701 - val_loss: 0.1420 - val_accuracy: 0.9302\n",
      "Epoch 90/100\n",
      "19/19 [==============================] - 3s 183ms/step - loss: 0.0992 - accuracy: 0.9685 - val_loss: 0.1374 - val_accuracy: 0.9302\n",
      "Epoch 91/100\n",
      "19/19 [==============================] - 3s 183ms/step - loss: 0.0979 - accuracy: 0.9552 - val_loss: 0.0684 - val_accuracy: 0.9767\n",
      "Epoch 92/100\n",
      "19/19 [==============================] - 3s 181ms/step - loss: 0.0536 - accuracy: 0.9884 - val_loss: 0.0772 - val_accuracy: 0.9767\n",
      "Epoch 93/100\n",
      "19/19 [==============================] - 3s 184ms/step - loss: 0.0551 - accuracy: 0.9851 - val_loss: 0.0546 - val_accuracy: 0.9845\n",
      "Epoch 94/100\n",
      "19/19 [==============================] - 3s 184ms/step - loss: 0.0570 - accuracy: 0.9818 - val_loss: 0.1280 - val_accuracy: 0.9535\n",
      "Epoch 95/100\n",
      "19/19 [==============================] - 3s 184ms/step - loss: 0.0699 - accuracy: 0.9751 - val_loss: 0.0507 - val_accuracy: 0.9767\n",
      "Epoch 96/100\n",
      "19/19 [==============================] - 3s 184ms/step - loss: 0.0824 - accuracy: 0.9718 - val_loss: 0.0631 - val_accuracy: 0.9767\n",
      "Epoch 97/100\n",
      "19/19 [==============================] - 3s 185ms/step - loss: 0.0756 - accuracy: 0.9718 - val_loss: 0.0571 - val_accuracy: 0.9767\n",
      "Epoch 98/100\n",
      "19/19 [==============================] - 3s 184ms/step - loss: 0.0552 - accuracy: 0.9900 - val_loss: 0.0554 - val_accuracy: 0.9845\n",
      "Epoch 99/100\n",
      "19/19 [==============================] - 4s 186ms/step - loss: 0.0538 - accuracy: 0.9818 - val_loss: 0.0912 - val_accuracy: 0.9690\n",
      "Epoch 100/100\n",
      "19/19 [==============================] - 4s 187ms/step - loss: 0.0608 - accuracy: 0.9801 - val_loss: 0.0809 - val_accuracy: 0.9612\n",
      "5/5 [==============================] - 0s 40ms/step - loss: 0.1677 - accuracy: 0.9535\n",
      "Test loss: 0.16769738495349884, Test accuracy: 0.9534883499145508\n"
     ]
    }
   ],
   "source": [
    "from keras.optimizers import Adam\n",
    "# Define the model\n",
    "model_jap = Sequential()\n",
    "\n",
    "# Convolutional layer\n",
    "model_jap.add(Conv1D(64, 3, activation='relu', input_shape=(n_timesteps_jap, n_features_jap)))\n",
    "model_jap.add(MaxPooling1D(3))\n",
    "\n",
    "# Batch normalization layer\n",
    "model_jap.add(BatchNormalization())\n",
    "\n",
    "# LSTM layer\n",
    "model_jap.add(Bidirectional(LSTM(25, return_sequences=True)))  # Bidirectional LSTM layer with 50 units\n",
    "\n",
    "# Dropout for regularization\n",
    "model_jap.add(Dropout(0.5))\n",
    "\n",
    "# LSTM layer\n",
    "model_jap.add(Bidirectional(LSTM(50)))  # Another Bidirectional LSTM layer with 50 units\n",
    "\n",
    "# Output layer for binary classification\n",
    "model_jap.add(Dense(1, activation='sigmoid'))  \n",
    "\n",
    "learning_rate = 0.00021  # Set the learning rate\n",
    "optimizer_jap = Adam(learning_rate=learning_rate)\n",
    "model_jap.compile(loss='binary_crossentropy', optimizer=optimizer_jap, metrics=['accuracy'])\n",
    "\n",
    "# Train the model on the training data and validate on the validation data\n",
    "history_jap = model_jap.fit(X_train_jap, y_train_jap, epochs=100, batch_size=32, validation_data=(X_val_jap, y_val_jap))\n",
    "\n",
    "# Test the model on the test data\n",
    "test_loss_jap, test_accuracy_jap = model_jap.evaluate(X_test_jap, y_test_jap)\n",
    "print(f'Test loss: {test_loss_jap}, Test accuracy: {test_accuracy_jap}')"
   ]
  },
  {
   "cell_type": "code",
   "execution_count": 8,
   "metadata": {
    "id": "HBHwcL8sYTpX"
   },
   "outputs": [
    {
     "name": "stdout",
     "output_type": "stream",
     "text": [
      "5/5 [==============================] - 2s 62ms/step\n"
     ]
    },
    {
     "data": {
      "image/png": "[encoded data removed]",
      "text/plain": [
       "<Figure size 1000x700 with 2 Axes>"
      ]
     },
     "metadata": {},
     "output_type": "display_data"
    }
   ],
   "source": [
    "from sklearn.metrics import confusion_matrix\n",
    "import seaborn as sns\n",
    "import matplotlib.pyplot as plt\n",
    "from numpy import argmax\n",
    "\n",
    "# predict the values from the test dataset\n",
    "y_pred_jap = model_jap.predict(X_test_jap)\n",
    "y_pred_jap = [1 if y_jap >= 0.5 else 0 for y_jap in y_pred_jap]  # transform probabilities into binary outputs\n",
    "\n",
    "# Compute the confusion matrix\n",
    "conf_mat_jap = confusion_matrix(y_test_jap, y_pred_jap)\n",
    "\n",
    "# Plot the confusion matrix\n",
    "plt.figure(figsize=(10, 7))\n",
    "sns.heatmap(conf_mat_jap, annot=True, fmt='d', cmap=\"Blues\")\n",
    "plt.title('Confusion matrix')\n",
    "plt.xlabel('Predicted Voluntary Blinking')\n",
    "plt.ylabel('True Voluntary Blinking')\n",
    "plt.show()"
   ]
  },
  {
   "cell_type": "code",
   "execution_count": 9,
   "metadata": {
    "colab": {
     "base_uri": "https://localhost:8080/"
    },
    "id": "9w_cDUwCYTpX",
    "outputId": "3582ac44-1f5f-4cb2-b833-d477f152461a",
    "scrolled": true
   },
   "outputs": [
    {
     "name": "stdout",
     "output_type": "stream",
     "text": [
      "              precision    recall  f1-score   support\n",
      "\n",
      "         0.0       0.96      0.93      0.95        56\n",
      "         1.0       0.95      0.97      0.96        73\n",
      "\n",
      "    accuracy                           0.95       129\n",
      "   macro avg       0.95      0.95      0.95       129\n",
      "weighted avg       0.95      0.95      0.95       129\n",
      "\n"
     ]
    }
   ],
   "source": [
    "from sklearn.metrics import classification_report\n",
    "\n",
    "# Generate the classification report\n",
    "report_jap = classification_report(y_test_jap, y_pred_jap)\n",
    "\n",
    "print(report_jap)"
   ]
  }
 ],
 "metadata": {
  "colab": {
   "collapsed_sections": [
    "4e5eiVLOYTp5"
   ],
   "provenance": []
  },
  "kernelspec": {
   "display_name": "Python 3 (ipykernel)",
   "language": "python",
   "name": "python3"
  },
  "language_info": {
   "codemirror_mode": {
    "name": "ipython",
    "version": 3
   },
   "file_extension": ".py",
   "mimetype": "text/x-python",
   "name": "python",
   "nbconvert_exporter": "python",
   "pygments_lexer": "ipython3",
   "version": "3.9.6"
  },
  "varInspector": {
   "cols": {
    "lenName": 16,
    "lenType": 16,
    "lenVar": 40
   },
   "kernels_config": {
    "python": {
     "delete_cmd_postfix": "",
     "delete_cmd_prefix": "del ",
     "library": "var_list.py",
     "varRefreshCmd": "print(var_dic_list())"
    },
    "r": {
     "delete_cmd_postfix": ") ",
     "delete_cmd_prefix": "rm(",
     "library": "var_list.r",
     "varRefreshCmd": "cat(var_dic_list()) "
    }
   },
   "oldHeight": 594.85,
   "position": {
    "height": "40px",
    "left": "723px",
    "right": "20px",
    "top": "80px",
    "width": "250px"
   },
   "types_to_exclude": [
    "module",
    "function",
    "builtin_function_or_method",
    "instance",
    "_Feature"
   ],
   "varInspector_section_display": "none",
   "window_display": true
  }
 },
 "nbformat": 4,
 "nbformat_minor": 1
}
