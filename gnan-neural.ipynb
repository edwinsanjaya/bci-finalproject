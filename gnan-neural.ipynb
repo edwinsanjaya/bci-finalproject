{
 "cells": [
  {
   "cell_type": "markdown",
   "metadata": {
    "id": "uuutyCx4YTpX"
   },
   "source": [
    "# RNN applied to the GNAN Dataset \n"
   ]
  },
  {
   "cell_type": "code",
   "execution_count": 1,
   "metadata": {
    "id": "anfjcPSSYTpX"
   },
   "outputs": [],
   "source": [
    "import scipy.io\n",
    "import pandas as pd\n",
    "import numpy as np\n",
    "from keras.models import Sequential\n",
    "from keras.layers import LSTM, Dense\n",
    "\n",
    "# Load the .mat files\n",
    "mat_invol = scipy.io.loadmat('dataset/epochs_blinks_ASR_invol.mat')\n",
    "mat_vol = scipy.io.loadmat('dataset/epochs_blinks_ASR_vol.mat')\n",
    "\n",
    "# Extract the data from the .mat files\n",
    "data_invol = mat_invol['epochs_blinks_ASR_invol']\n",
    "data_vol = mat_vol['epochs_blinks_ASR_vol']\n",
    "\n",
    "# Number of features ('FP1' and 'FP2'), time steps and samples\n",
    "n_features = data_invol.shape[0]\n",
    "n_timesteps = data_invol.shape[1]\n",
    "n_samples_invol = data_invol.shape[2]\n",
    "n_samples_vol = data_vol.shape[2]\n",
    "\n",
    "# Reshape the data to be of size (samples, timesteps, features)\n",
    "data_invol = np.transpose(data_invol, (2, 1, 0))\n",
    "data_vol = np.transpose(data_vol, (2, 1, 0))\n",
    "\n",
    "# Create labels for the involuntary (0) and voluntary (1) data\n",
    "labels_invol = np.zeros((n_samples_invol, 1))\n",
    "labels_vol = np.ones((n_samples_vol, 1))\n",
    "\n",
    "# Combine the involuntary and voluntary data and labels\n",
    "X = np.concatenate((data_invol, data_vol), axis=0)\n",
    "y = np.concatenate((labels_invol, labels_vol), axis=0)\n"
   ]
  },
  {
   "cell_type": "code",
   "execution_count": 2,
   "metadata": {
    "id": "yVc2T5MIYTpX"
   },
   "outputs": [],
   "source": [
    "from keras.models import Sequential\n",
    "from keras.layers import LSTM, Dense, Conv1D, Bidirectional\n",
    "from keras.layers import MaxPooling1D, Dropout, BatchNormalization\n",
    "from sklearn.model_selection import train_test_split\n",
    "\n",
    "# Split the data into training and temporary sets (70% training, 30% temporary)\n",
    "X_temp, X_train, y_temp, y_train = train_test_split(X, y, test_size=0.7, random_state=42, shuffle=True)\n",
    "\n",
    "# Split the temporary set into validation and test sets (50% validation, 50% test)\n",
    "X_val, X_test, y_val, y_test = train_test_split(X_temp, y_temp, test_size=0.5, random_state=42, shuffle=True)\n"
   ]
  },
  {
   "cell_type": "code",
   "execution_count": 3,
   "metadata": {
    "colab": {
     "base_uri": "https://localhost:8080/",
     "height": 206
    },
    "id": "Kw8bGMv7YTpX",
    "outputId": "9f6f7052-302e-4794-ef69-b84450b61b36"
   },
   "outputs": [
    {
     "name": "stdout",
     "output_type": "stream",
     "text": [
      "Epoch 1/15\n",
      "20/20 [==============================] - 12s 368ms/step - loss: 0.6493 - accuracy: 0.6094 - val_loss: 0.7918 - val_accuracy: 0.5368\n",
      "Epoch 2/15\n",
      "20/20 [==============================] - 6s 301ms/step - loss: 0.5758 - accuracy: 0.6992 - val_loss: 0.7626 - val_accuracy: 0.5515\n",
      "Epoch 3/15\n",
      "20/20 [==============================] - 6s 299ms/step - loss: 0.5554 - accuracy: 0.7260 - val_loss: 0.7756 - val_accuracy: 0.6029\n",
      "Epoch 4/15\n",
      "20/20 [==============================] - 6s 312ms/step - loss: 0.5265 - accuracy: 0.7339 - val_loss: 0.7116 - val_accuracy: 0.5882\n",
      "Epoch 5/15\n",
      "20/20 [==============================] - 7s 334ms/step - loss: 0.5142 - accuracy: 0.7480 - val_loss: 0.6857 - val_accuracy: 0.5882\n",
      "Epoch 6/15\n",
      "20/20 [==============================] - 6s 315ms/step - loss: 0.4753 - accuracy: 0.7622 - val_loss: 0.6541 - val_accuracy: 0.6471\n",
      "Epoch 7/15\n",
      "20/20 [==============================] - 6s 315ms/step - loss: 0.4518 - accuracy: 0.7937 - val_loss: 0.6192 - val_accuracy: 0.6691\n",
      "Epoch 8/15\n",
      "20/20 [==============================] - 6s 295ms/step - loss: 0.4232 - accuracy: 0.8094 - val_loss: 0.6026 - val_accuracy: 0.6544\n",
      "Epoch 9/15\n",
      "20/20 [==============================] - 6s 309ms/step - loss: 0.4054 - accuracy: 0.8126 - val_loss: 0.6329 - val_accuracy: 0.6618\n",
      "Epoch 10/15\n",
      "20/20 [==============================] - 6s 307ms/step - loss: 0.3883 - accuracy: 0.8331 - val_loss: 0.6268 - val_accuracy: 0.6838\n",
      "Epoch 11/15\n",
      "20/20 [==============================] - 6s 297ms/step - loss: 0.3707 - accuracy: 0.8441 - val_loss: 0.6506 - val_accuracy: 0.6471\n",
      "Epoch 12/15\n",
      "20/20 [==============================] - 6s 300ms/step - loss: 0.4080 - accuracy: 0.8173 - val_loss: 0.5747 - val_accuracy: 0.6765\n",
      "Epoch 13/15\n",
      "20/20 [==============================] - 6s 301ms/step - loss: 0.3522 - accuracy: 0.8488 - val_loss: 0.6539 - val_accuracy: 0.6838\n",
      "Epoch 14/15\n",
      "20/20 [==============================] - 6s 311ms/step - loss: 0.3329 - accuracy: 0.8646 - val_loss: 0.6711 - val_accuracy: 0.6912\n",
      "Epoch 15/15\n",
      "20/20 [==============================] - 6s 308ms/step - loss: 0.2824 - accuracy: 0.8850 - val_loss: 0.6440 - val_accuracy: 0.6765\n",
      "5/5 [==============================] - 0s 78ms/step - loss: 0.6325 - accuracy: 0.7132\n",
      "Test loss: 0.6325098872184753, Test accuracy: 0.7132353186607361\n"
     ]
    }
   ],
   "source": [
    "from keras.optimizers import Adam\n",
    "# Define the model\n",
    "model = Sequential()\n",
    "\n",
    "# Convolutional layer\n",
    "model.add(Conv1D(32, 5, activation='relu', input_shape=(n_timesteps, n_features)))\n",
    "model.add(MaxPooling1D(2))\n",
    "\n",
    "# Batch normalization layer\n",
    "model.add(BatchNormalization())\n",
    "\n",
    "# LSTM layer\n",
    "model.add(Bidirectional(LSTM(25, return_sequences=True)))  # Bidirectional LSTM layer with 50 units\n",
    "\n",
    "# Dropout for regularization\n",
    "model.add(Dropout(0.3))\n",
    "\n",
    "# LSTM layer\n",
    "model.add(Bidirectional(LSTM(50)))  # Another Bidirectional LSTM layer with 50 units\n",
    "\n",
    "# Output layer for binary classification\n",
    "model.add(Dense(1, activation='sigmoid'))  \n",
    "\n",
    "learning_rate = 0.002  # Set the learning rate\n",
    "optimizer = Adam(learning_rate=learning_rate)\n",
    "model.compile(loss='binary_crossentropy', optimizer=optimizer, metrics=['accuracy'])\n",
    "\n",
    "# Train the model on the training data and validate on the validation data\n",
    "history = model.fit(X_train, y_train, epochs=15, batch_size=32, validation_data=(X_val, y_val))\n",
    "\n",
    "# Test the model on the test data\n",
    "test_loss, test_accuracy = model.evaluate(X_test, y_test)\n",
    "print(f'Test loss: {test_loss}, Test accuracy: {test_accuracy}')"
   ]
  },
  {
   "cell_type": "code",
   "execution_count": 4,
   "metadata": {
    "id": "HBHwcL8sYTpX"
   },
   "outputs": [
    {
     "name": "stdout",
     "output_type": "stream",
     "text": [
      "5/5 [==============================] - 2s 76ms/step\n"
     ]
    },
    {
     "data": {
      "image/png": "[encoded data removed]",
      "text/plain": [
       "<Figure size 1000x700 with 2 Axes>"
      ]
     },
     "metadata": {},
     "output_type": "display_data"
    }
   ],
   "source": [
    "from sklearn.metrics import confusion_matrix\n",
    "import seaborn as sns\n",
    "import matplotlib.pyplot as plt\n",
    "from numpy import argmax\n",
    "\n",
    "# predict the values from the test dataset\n",
    "y_pred = model.predict(X_test)\n",
    "y_pred = [1 if y >= 0.5 else 0 for y in y_pred]  # transform probabilities into binary outputs\n",
    "\n",
    "# Compute the confusion matrix\n",
    "conf_mat = confusion_matrix(y_test, y_pred)\n",
    "\n",
    "# Plot the confusion matrix\n",
    "plt.figure(figsize=(10, 7))\n",
    "sns.heatmap(conf_mat, annot=True, fmt='d', cmap=\"Blues\")\n",
    "plt.title('Confusion matrix')\n",
    "plt.xlabel('Predicted Voluntary Blinking')\n",
    "plt.ylabel('True Voluntary Blinking')\n",
    "plt.show()"
   ]
  },
  {
   "cell_type": "code",
   "execution_count": 5,
   "metadata": {
    "colab": {
     "base_uri": "https://localhost:8080/"
    },
    "id": "9w_cDUwCYTpX",
    "outputId": "3582ac44-1f5f-4cb2-b833-d477f152461a",
    "scrolled": true
   },
   "outputs": [
    {
     "name": "stdout",
     "output_type": "stream",
     "text": [
      "              precision    recall  f1-score   support\n",
      "\n",
      "         0.0       0.68      0.76      0.72        66\n",
      "         1.0       0.75      0.67      0.71        70\n",
      "\n",
      "    accuracy                           0.71       136\n",
      "   macro avg       0.72      0.71      0.71       136\n",
      "weighted avg       0.72      0.71      0.71       136\n",
      "\n"
     ]
    }
   ],
   "source": [
    "from sklearn.metrics import classification_report\n",
    "\n",
    "# Generate the classification report\n",
    "report = classification_report(y_test, y_pred)\n",
    "\n",
    "print(report)"
   ]
  },
  {
   "cell_type": "code",
   "execution_count": 6,
   "metadata": {},
   "outputs": [],
   "source": [
    "import numpy as np\n",
    "from scipy import signal\n",
    "\n",
    "def calculate_psd(data, Fs):\n",
    "    \"\"\"\n",
    "    Calculate the power spectral density (PSD) for EEG data.\n",
    "\n",
    "    Parameters:\n",
    "    - data: array-like, EEG data with shape (channels, points, trials)\n",
    "    - Fs: int, the sampling frequency\n",
    "\n",
    "    Returns:\n",
    "    - psds: array-like, PSDs with shape (channels, frequencies, trials)\n",
    "    - freqs: array-like, frequencies for which the PSDs were computed\n",
    "    \"\"\"\n",
    "    # Initialize array to store the PSDs\n",
    "    psds = []\n",
    "\n",
    "    # Loop over the channels\n",
    "    for channel_data in data:\n",
    "        # Loop over the trials\n",
    "        channel_psds = []\n",
    "        for trial_data in channel_data.T:\n",
    "            # Calculate the PSD using Welch's method\n",
    "            freqs, psd = signal.welch(trial_data, Fs)\n",
    "            channel_psds.append(psd)\n",
    "        psds.append(channel_psds)\n",
    "    \n",
    "    return np.array(psds), freqs"
   ]
  },
  {
   "cell_type": "code",
   "execution_count": 7,
   "metadata": {},
   "outputs": [],
   "source": [
    "# Extract the data from the .mat files\n",
    "data_invol = mat_invol['epochs_blinks_ASR_invol']\n",
    "data_vol = mat_vol['epochs_blinks_ASR_vol']\n",
    "\n",
    "Fs=250; #sample frequency\n",
    "# Calculate the PSDs of the GNAN data\n",
    "psds_invol, freqs = calculate_psd(data_invol, Fs)\n",
    "psds_vol, _ = calculate_psd(data_vol, Fs)\n",
    "\n",
    "# Number of features ('FP1' and 'FP2'), time steps and samples\n",
    "n_features = psds_invol.shape[0]\n",
    "n_timesteps = psds_invol.shape[2]\n",
    "n_samples_invol = psds_invol.shape[1]\n",
    "n_samples_vol = psds_vol.shape[1]\n",
    "\n",
    "# Reshape the data to be of size (samples, timesteps, features)\n",
    "psds_invol = np.transpose(psds_invol, (1, 2, 0))\n",
    "psds_vol = np.transpose(psds_vol, (1, 2, 0))\n",
    "\n",
    "# Create labels for the involuntary (0) and voluntary (1) data\n",
    "labels_invol = np.zeros((n_samples_invol, 1))\n",
    "labels_vol = np.ones((n_samples_vol, 1))\n",
    "\n",
    "# Combine the involuntary and voluntary data and labels\n",
    "X = np.concatenate((psds_invol, psds_vol), axis=0)\n",
    "y = np.concatenate((labels_invol, labels_vol), axis=0)"
   ]
  },
  {
   "cell_type": "code",
   "execution_count": 8,
   "metadata": {},
   "outputs": [],
   "source": [
    "# Split the data into training and temporary sets (70% training, 30% temporary)\n",
    "X_temp, X_train, y_temp, y_train = train_test_split(X, y, test_size=0.7, random_state=42, shuffle=True)\n",
    "\n",
    "# Split the temporary set into validation and test sets (50% validation, 50% test)\n",
    "X_val, X_test, y_val, y_test = train_test_split(X_temp, y_temp, test_size=0.5, random_state=42, shuffle=True)"
   ]
  },
  {
   "cell_type": "code",
   "execution_count": 9,
   "metadata": {},
   "outputs": [
    {
     "name": "stdout",
     "output_type": "stream",
     "text": [
      "Epoch 1/50\n",
      "40/40 [==============================] - 8s 59ms/step - loss: 0.6880 - accuracy: 0.5402 - val_loss: 0.6937 - val_accuracy: 0.5221\n",
      "Epoch 2/50\n",
      "40/40 [==============================] - 1s 27ms/step - loss: 0.6665 - accuracy: 0.5701 - val_loss: 0.7376 - val_accuracy: 0.5221\n",
      "Epoch 3/50\n",
      "40/40 [==============================] - 1s 28ms/step - loss: 0.6681 - accuracy: 0.6047 - val_loss: 0.6893 - val_accuracy: 0.5294\n",
      "Epoch 4/50\n",
      "40/40 [==============================] - 1s 30ms/step - loss: 0.6515 - accuracy: 0.6016 - val_loss: 0.6876 - val_accuracy: 0.5809\n",
      "Epoch 5/50\n",
      "40/40 [==============================] - 1s 28ms/step - loss: 0.6550 - accuracy: 0.6126 - val_loss: 0.7181 - val_accuracy: 0.5147\n",
      "Epoch 6/50\n",
      "40/40 [==============================] - 1s 28ms/step - loss: 0.6532 - accuracy: 0.6189 - val_loss: 0.7074 - val_accuracy: 0.5441\n",
      "Epoch 7/50\n",
      "40/40 [==============================] - 1s 30ms/step - loss: 0.6424 - accuracy: 0.6110 - val_loss: 0.6666 - val_accuracy: 0.5662\n",
      "Epoch 8/50\n",
      "40/40 [==============================] - 1s 29ms/step - loss: 0.6335 - accuracy: 0.6268 - val_loss: 0.6749 - val_accuracy: 0.6176\n",
      "Epoch 9/50\n",
      "40/40 [==============================] - 1s 29ms/step - loss: 0.6388 - accuracy: 0.6425 - val_loss: 0.6788 - val_accuracy: 0.5588\n",
      "Epoch 10/50\n",
      "40/40 [==============================] - 1s 29ms/step - loss: 0.6348 - accuracy: 0.6220 - val_loss: 0.6620 - val_accuracy: 0.6029\n",
      "Epoch 11/50\n",
      "40/40 [==============================] - 1s 29ms/step - loss: 0.5920 - accuracy: 0.6913 - val_loss: 0.7620 - val_accuracy: 0.5074\n",
      "Epoch 12/50\n",
      "40/40 [==============================] - 1s 30ms/step - loss: 0.6557 - accuracy: 0.6110 - val_loss: 0.6757 - val_accuracy: 0.5515\n",
      "Epoch 13/50\n",
      "40/40 [==============================] - 1s 28ms/step - loss: 0.6329 - accuracy: 0.6126 - val_loss: 0.6766 - val_accuracy: 0.5515\n",
      "Epoch 14/50\n",
      "40/40 [==============================] - 1s 27ms/step - loss: 0.6031 - accuracy: 0.6819 - val_loss: 0.6733 - val_accuracy: 0.6250\n",
      "Epoch 15/50\n",
      "40/40 [==============================] - 1s 28ms/step - loss: 0.5871 - accuracy: 0.6976 - val_loss: 0.7058 - val_accuracy: 0.6029\n",
      "Epoch 16/50\n",
      "40/40 [==============================] - 1s 29ms/step - loss: 0.6263 - accuracy: 0.6346 - val_loss: 0.6706 - val_accuracy: 0.6029\n",
      "Epoch 17/50\n",
      "40/40 [==============================] - 1s 28ms/step - loss: 0.5987 - accuracy: 0.6740 - val_loss: 0.6593 - val_accuracy: 0.6250\n",
      "Epoch 18/50\n",
      "40/40 [==============================] - 1s 28ms/step - loss: 0.5924 - accuracy: 0.6709 - val_loss: 0.6697 - val_accuracy: 0.6176\n",
      "Epoch 19/50\n",
      "40/40 [==============================] - 1s 29ms/step - loss: 0.6010 - accuracy: 0.6614 - val_loss: 0.6436 - val_accuracy: 0.6691\n",
      "Epoch 20/50\n",
      "40/40 [==============================] - 1s 28ms/step - loss: 0.5295 - accuracy: 0.7417 - val_loss: 0.6752 - val_accuracy: 0.6029\n",
      "Epoch 21/50\n",
      "40/40 [==============================] - 1s 29ms/step - loss: 0.5732 - accuracy: 0.6929 - val_loss: 0.6491 - val_accuracy: 0.6618\n",
      "Epoch 22/50\n",
      "40/40 [==============================] - 1s 27ms/step - loss: 0.5758 - accuracy: 0.6898 - val_loss: 0.6753 - val_accuracy: 0.6176\n",
      "Epoch 23/50\n",
      "40/40 [==============================] - 1s 27ms/step - loss: 0.5799 - accuracy: 0.6850 - val_loss: 0.6507 - val_accuracy: 0.6324\n",
      "Epoch 24/50\n",
      "40/40 [==============================] - 1s 28ms/step - loss: 0.5484 - accuracy: 0.7228 - val_loss: 0.6892 - val_accuracy: 0.6103\n",
      "Epoch 25/50\n",
      "40/40 [==============================] - 1s 27ms/step - loss: 0.5889 - accuracy: 0.6945 - val_loss: 0.6422 - val_accuracy: 0.6618\n",
      "Epoch 26/50\n",
      "40/40 [==============================] - 1s 27ms/step - loss: 0.5643 - accuracy: 0.6961 - val_loss: 0.6088 - val_accuracy: 0.6691\n",
      "Epoch 27/50\n",
      "40/40 [==============================] - 1s 27ms/step - loss: 0.5331 - accuracy: 0.7276 - val_loss: 0.6601 - val_accuracy: 0.6397\n",
      "Epoch 28/50\n",
      "40/40 [==============================] - 1s 28ms/step - loss: 0.5257 - accuracy: 0.7433 - val_loss: 0.7248 - val_accuracy: 0.5588\n",
      "Epoch 29/50\n",
      "40/40 [==============================] - 1s 28ms/step - loss: 0.5566 - accuracy: 0.7291 - val_loss: 0.7122 - val_accuracy: 0.6176\n",
      "Epoch 30/50\n",
      "40/40 [==============================] - 1s 28ms/step - loss: 0.5349 - accuracy: 0.7150 - val_loss: 0.6038 - val_accuracy: 0.6838\n",
      "Epoch 31/50\n",
      "40/40 [==============================] - 1s 28ms/step - loss: 0.5398 - accuracy: 0.7276 - val_loss: 0.6972 - val_accuracy: 0.6029\n",
      "Epoch 32/50\n",
      "40/40 [==============================] - 1s 28ms/step - loss: 0.5234 - accuracy: 0.7512 - val_loss: 0.6934 - val_accuracy: 0.6471\n",
      "Epoch 33/50\n",
      "40/40 [==============================] - 1s 28ms/step - loss: 0.5279 - accuracy: 0.7244 - val_loss: 0.6375 - val_accuracy: 0.6618\n",
      "Epoch 34/50\n",
      "40/40 [==============================] - 1s 30ms/step - loss: 0.5009 - accuracy: 0.7559 - val_loss: 0.6314 - val_accuracy: 0.6544\n",
      "Epoch 35/50\n",
      "40/40 [==============================] - 1s 29ms/step - loss: 0.4875 - accuracy: 0.7685 - val_loss: 0.6555 - val_accuracy: 0.6691\n",
      "Epoch 36/50\n",
      "40/40 [==============================] - 1s 27ms/step - loss: 0.5035 - accuracy: 0.7654 - val_loss: 0.6440 - val_accuracy: 0.6691\n",
      "Epoch 37/50\n",
      "40/40 [==============================] - 1s 27ms/step - loss: 0.4811 - accuracy: 0.7764 - val_loss: 0.6662 - val_accuracy: 0.6691\n",
      "Epoch 38/50\n",
      "40/40 [==============================] - 1s 27ms/step - loss: 0.4950 - accuracy: 0.7496 - val_loss: 0.6823 - val_accuracy: 0.6471\n",
      "Epoch 39/50\n",
      "40/40 [==============================] - 1s 27ms/step - loss: 0.4821 - accuracy: 0.7685 - val_loss: 0.7040 - val_accuracy: 0.6103\n",
      "Epoch 40/50\n",
      "40/40 [==============================] - 1s 29ms/step - loss: 0.4692 - accuracy: 0.7795 - val_loss: 0.6578 - val_accuracy: 0.6397\n",
      "Epoch 41/50\n",
      "40/40 [==============================] - 1s 30ms/step - loss: 0.4756 - accuracy: 0.7795 - val_loss: 0.6346 - val_accuracy: 0.6544\n",
      "Epoch 42/50\n",
      "40/40 [==============================] - 1s 28ms/step - loss: 0.4545 - accuracy: 0.7795 - val_loss: 0.6175 - val_accuracy: 0.7206\n",
      "Epoch 43/50\n",
      "40/40 [==============================] - 1s 28ms/step - loss: 0.4418 - accuracy: 0.7906 - val_loss: 0.7430 - val_accuracy: 0.6176\n",
      "Epoch 44/50\n",
      "40/40 [==============================] - 1s 27ms/step - loss: 0.4696 - accuracy: 0.7764 - val_loss: 0.6752 - val_accuracy: 0.6176\n",
      "Epoch 45/50\n",
      "40/40 [==============================] - 1s 28ms/step - loss: 0.4416 - accuracy: 0.8000 - val_loss: 0.6387 - val_accuracy: 0.6912\n",
      "Epoch 46/50\n",
      "40/40 [==============================] - 1s 28ms/step - loss: 0.4342 - accuracy: 0.8000 - val_loss: 0.6135 - val_accuracy: 0.6618\n",
      "Epoch 47/50\n",
      "40/40 [==============================] - 1s 27ms/step - loss: 0.4199 - accuracy: 0.8063 - val_loss: 0.6262 - val_accuracy: 0.6765\n",
      "Epoch 48/50\n",
      "40/40 [==============================] - 1s 28ms/step - loss: 0.4536 - accuracy: 0.7953 - val_loss: 0.6044 - val_accuracy: 0.7206\n",
      "Epoch 49/50\n",
      "40/40 [==============================] - 1s 27ms/step - loss: 0.4310 - accuracy: 0.8126 - val_loss: 0.5660 - val_accuracy: 0.6912\n",
      "Epoch 50/50\n",
      "40/40 [==============================] - 1s 28ms/step - loss: 0.4239 - accuracy: 0.8157 - val_loss: 0.6907 - val_accuracy: 0.6765\n",
      "5/5 [==============================] - 0s 10ms/step - loss: 0.5200 - accuracy: 0.7500\n",
      "Test loss: 0.5199833512306213, Test accuracy: 0.75\n"
     ]
    }
   ],
   "source": [
    "# Define the model\n",
    "model = Sequential()\n",
    "\n",
    "# Convolutional layer\n",
    "model.add(Conv1D(128, 3, activation='relu', input_shape=(n_timesteps, n_features)))\n",
    "model.add(MaxPooling1D(3))\n",
    "\n",
    "# Batch normalization layer\n",
    "model.add(BatchNormalization())\n",
    "\n",
    "# LSTM layer\n",
    "model.add(Bidirectional(LSTM(25, return_sequences=True)))  # Bidirectional LSTM layer with 50 units\n",
    "\n",
    "# Dropout for regularization\n",
    "model.add(Dropout(0.5))\n",
    "\n",
    "# LSTM layer\n",
    "model.add(Bidirectional(LSTM(75)))  # Another Bidirectional LSTM layer with 50 units\n",
    "\n",
    "# Output layer for binary classification\n",
    "model.add(Dense(1, activation='sigmoid'))  \n",
    "\n",
    "learning_rate = 0.003  # Set the learning rate\n",
    "optimizer = Adam(learning_rate=learning_rate)\n",
    "model.compile(loss='binary_crossentropy', optimizer=optimizer, metrics=['accuracy'])\n",
    "\n",
    "# Train the model on the training data and validate on the validation data\n",
    "history = model.fit(X_train, y_train, epochs=50, batch_size=16, validation_data=(X_val, y_val))\n",
    "\n",
    "# Test the model on the test data\n",
    "test_loss, test_accuracy = model.evaluate(X_test, y_test)\n",
    "print(f'Test loss: {test_loss}, Test accuracy: {test_accuracy}')"
   ]
  },
  {
   "cell_type": "code",
   "execution_count": 10,
   "metadata": {},
   "outputs": [
    {
     "name": "stdout",
     "output_type": "stream",
     "text": [
      "5/5 [==============================] - 1s 10ms/step\n"
     ]
    },
    {
     "data": {
      "image/png": "[encoded data removed]",
      "text/plain": [
       "<Figure size 1000x700 with 2 Axes>"
      ]
     },
     "metadata": {},
     "output_type": "display_data"
    }
   ],
   "source": [
    "# predict the values from the test dataset\n",
    "y_pred = model.predict(X_test)\n",
    "y_pred = [1 if y >= 0.5 else 0 for y in y_pred]  # transform probabilities into binary outputs\n",
    "\n",
    "# Compute the confusion matrix\n",
    "conf_mat = confusion_matrix(y_test, y_pred)\n",
    "\n",
    "# Plot the confusion matrix\n",
    "plt.figure(figsize=(10, 7))\n",
    "sns.heatmap(conf_mat, annot=True, fmt='d', cmap=\"Blues\")\n",
    "plt.title('Confusion matrix')\n",
    "plt.xlabel('Predicted Voluntary Blinking')\n",
    "plt.ylabel('True Voluntary Blinking')\n",
    "plt.show()"
   ]
  },
  {
   "cell_type": "code",
   "execution_count": 11,
   "metadata": {},
   "outputs": [
    {
     "name": "stdout",
     "output_type": "stream",
     "text": [
      "              precision    recall  f1-score   support\n",
      "\n",
      "         0.0       0.71      0.82      0.76        66\n",
      "         1.0       0.80      0.69      0.74        70\n",
      "\n",
      "    accuracy                           0.75       136\n",
      "   macro avg       0.76      0.75      0.75       136\n",
      "weighted avg       0.76      0.75      0.75       136\n",
      "\n"
     ]
    }
   ],
   "source": [
    "# Generate the classification report\n",
    "report = classification_report(y_test, y_pred)\n",
    "\n",
    "print(report)"
   ]
  }
 ],
 "metadata": {
  "colab": {
   "collapsed_sections": [
    "4e5eiVLOYTp5"
   ],
   "provenance": []
  },
  "kernelspec": {
   "display_name": "Python 3 (ipykernel)",
   "language": "python",
   "name": "python3"
  },
  "language_info": {
   "codemirror_mode": {
    "name": "ipython",
    "version": 3
   },
   "file_extension": ".py",
   "mimetype": "text/x-python",
   "name": "python",
   "nbconvert_exporter": "python",
   "pygments_lexer": "ipython3",
   "version": "3.9.6"
  },
  "varInspector": {
   "cols": {
    "lenName": 16,
    "lenType": 16,
    "lenVar": 40
   },
   "kernels_config": {
    "python": {
     "delete_cmd_postfix": "",
     "delete_cmd_prefix": "del ",
     "library": "var_list.py",
     "varRefreshCmd": "print(var_dic_list())"
    },
    "r": {
     "delete_cmd_postfix": ") ",
     "delete_cmd_prefix": "rm(",
     "library": "var_list.r",
     "varRefreshCmd": "cat(var_dic_list()) "
    }
   },
   "oldHeight": 594.85,
   "position": {
    "height": "40px",
    "left": "723px",
    "right": "20px",
    "top": "80px",
    "width": "250px"
   },
   "types_to_exclude": [
    "module",
    "function",
    "builtin_function_or_method",
    "instance",
    "_Feature"
   ],
   "varInspector_section_display": "none",
   "window_display": true
  }
 },
 "nbformat": 4,
 "nbformat_minor": 1
}
