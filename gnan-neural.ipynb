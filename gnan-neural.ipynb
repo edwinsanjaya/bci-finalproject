{
 "cells": [
  {
   "cell_type": "markdown",
   "metadata": {
    "id": "uuutyCx4YTpX"
   },
   "source": [
    "# RNN applied to the GNAN Dataset \n"
   ]
  },
  {
   "cell_type": "code",
   "execution_count": 1,
   "metadata": {
    "id": "anfjcPSSYTpX"
   },
   "outputs": [],
   "source": [
    "import scipy.io\n",
    "import pandas as pd\n",
    "import numpy as np\n",
    "from keras.models import Sequential\n",
    "from keras.layers import LSTM, Dense\n",
    "\n",
    "# Load the .mat files\n",
    "mat_invol = scipy.io.loadmat('dataset/epochs_blinks_ASR_invol.mat')\n",
    "mat_vol = scipy.io.loadmat('dataset/epochs_blinks_ASR_vol.mat')\n",
    "\n",
    "# Extract the data from the .mat files\n",
    "data_invol = mat_invol['epochs_blinks_ASR_invol']\n",
    "data_vol = mat_vol['epochs_blinks_ASR_vol']\n",
    "\n",
    "# Number of features ('FP1' and 'FP2'), time steps and samples\n",
    "n_features = data_invol.shape[0]\n",
    "n_timesteps = data_invol.shape[1]\n",
    "n_samples_invol = data_invol.shape[2]\n",
    "n_samples_vol = data_vol.shape[2]\n",
    "\n",
    "# Reshape the data to be of size (samples, timesteps, features)\n",
    "data_invol = np.transpose(data_invol, (2, 1, 0))\n",
    "data_vol = np.transpose(data_vol, (2, 1, 0))\n",
    "\n",
    "# Create labels for the involuntary (0) and voluntary (1) data\n",
    "labels_invol = np.zeros((n_samples_invol, 1))\n",
    "labels_vol = np.ones((n_samples_vol, 1))\n",
    "\n",
    "# Combine the involuntary and voluntary data and labels\n",
    "X = np.concatenate((data_invol, data_vol), axis=0)\n",
    "y = np.concatenate((labels_invol, labels_vol), axis=0)\n"
   ]
  },
  {
   "cell_type": "code",
   "execution_count": 2,
   "metadata": {
    "id": "yVc2T5MIYTpX"
   },
   "outputs": [],
   "source": [
    "from keras.models import Sequential\n",
    "from keras.layers import LSTM, Dense, Conv1D, Bidirectional\n",
    "from keras.layers import MaxPooling1D, Dropout, BatchNormalization\n",
    "from sklearn.model_selection import train_test_split\n",
    "\n",
    "# Split the data into training and temporary sets (70% training, 30% temporary)\n",
    "X_temp, X_train, y_temp, y_train = train_test_split(X, y, test_size=0.7, random_state=42, shuffle=True)\n",
    "\n",
    "# Split the temporary set into validation and test sets (50% validation, 50% test)\n",
    "X_val, X_test, y_val, y_test = train_test_split(X_temp, y_temp, test_size=0.5, random_state=42, shuffle=True)\n"
   ]
  },
  {
   "cell_type": "code",
   "execution_count": 26,
   "metadata": {
    "colab": {
     "base_uri": "https://localhost:8080/",
     "height": 206
    },
    "id": "Kw8bGMv7YTpX",
    "outputId": "9f6f7052-302e-4794-ef69-b84450b61b36"
   },
   "outputs": [
    {
     "name": "stdout",
     "output_type": "stream",
     "text": [
      "Epoch 1/50\n",
      "40/40 [==============================] - 8s 87ms/step - loss: 0.6810 - accuracy: 0.5528 - val_loss: 0.6862 - val_accuracy: 0.5441\n",
      "Epoch 2/50\n",
      "40/40 [==============================] - 2s 53ms/step - loss: 0.6852 - accuracy: 0.5339 - val_loss: 0.7158 - val_accuracy: 0.5221\n",
      "Epoch 3/50\n",
      "40/40 [==============================] - 2s 52ms/step - loss: 0.6614 - accuracy: 0.5795 - val_loss: 0.7132 - val_accuracy: 0.5294\n",
      "Epoch 4/50\n",
      "40/40 [==============================] - 2s 52ms/step - loss: 0.6602 - accuracy: 0.5827 - val_loss: 0.6886 - val_accuracy: 0.5074\n",
      "Epoch 5/50\n",
      "40/40 [==============================] - 2s 53ms/step - loss: 0.6622 - accuracy: 0.6031 - val_loss: 0.6996 - val_accuracy: 0.5662\n",
      "Epoch 6/50\n",
      "40/40 [==============================] - 2s 52ms/step - loss: 0.6515 - accuracy: 0.6173 - val_loss: 0.6814 - val_accuracy: 0.5147\n",
      "Epoch 7/50\n",
      "40/40 [==============================] - 2s 53ms/step - loss: 0.6356 - accuracy: 0.6331 - val_loss: 0.6706 - val_accuracy: 0.5809\n",
      "Epoch 8/50\n",
      "40/40 [==============================] - 2s 52ms/step - loss: 0.6254 - accuracy: 0.6551 - val_loss: 0.7359 - val_accuracy: 0.5147\n",
      "Epoch 9/50\n",
      "40/40 [==============================] - 2s 53ms/step - loss: 0.6455 - accuracy: 0.6157 - val_loss: 0.6838 - val_accuracy: 0.5735\n",
      "Epoch 10/50\n",
      "40/40 [==============================] - 2s 54ms/step - loss: 0.6185 - accuracy: 0.6646 - val_loss: 0.7327 - val_accuracy: 0.4853\n",
      "Epoch 11/50\n",
      "40/40 [==============================] - 2s 58ms/step - loss: 0.6522 - accuracy: 0.6031 - val_loss: 0.6728 - val_accuracy: 0.6029\n",
      "Epoch 12/50\n",
      "40/40 [==============================] - 2s 56ms/step - loss: 0.6075 - accuracy: 0.6772 - val_loss: 0.6671 - val_accuracy: 0.6029\n",
      "Epoch 13/50\n",
      "40/40 [==============================] - 2s 56ms/step - loss: 0.6006 - accuracy: 0.6913 - val_loss: 0.6637 - val_accuracy: 0.5882\n",
      "Epoch 14/50\n",
      "40/40 [==============================] - 2s 56ms/step - loss: 0.6050 - accuracy: 0.6787 - val_loss: 0.6258 - val_accuracy: 0.6324\n",
      "Epoch 15/50\n",
      "40/40 [==============================] - 2s 56ms/step - loss: 0.6102 - accuracy: 0.6646 - val_loss: 0.6654 - val_accuracy: 0.5882\n",
      "Epoch 16/50\n",
      "40/40 [==============================] - 2s 57ms/step - loss: 0.5847 - accuracy: 0.7008 - val_loss: 0.6439 - val_accuracy: 0.6471\n",
      "Epoch 17/50\n",
      "40/40 [==============================] - 2s 57ms/step - loss: 0.6291 - accuracy: 0.6504 - val_loss: 0.7050 - val_accuracy: 0.5294\n",
      "Epoch 18/50\n",
      "40/40 [==============================] - 2s 55ms/step - loss: 0.5828 - accuracy: 0.6929 - val_loss: 0.7292 - val_accuracy: 0.5588\n",
      "Epoch 19/50\n",
      "40/40 [==============================] - 2s 57ms/step - loss: 0.5759 - accuracy: 0.6929 - val_loss: 0.6130 - val_accuracy: 0.6250\n",
      "Epoch 20/50\n",
      "40/40 [==============================] - 2s 55ms/step - loss: 0.5545 - accuracy: 0.7181 - val_loss: 0.6085 - val_accuracy: 0.6765\n",
      "Epoch 21/50\n",
      "40/40 [==============================] - 2s 55ms/step - loss: 0.5384 - accuracy: 0.7165 - val_loss: 0.6330 - val_accuracy: 0.6691\n",
      "Epoch 22/50\n",
      "40/40 [==============================] - 2s 55ms/step - loss: 0.5697 - accuracy: 0.7087 - val_loss: 0.6698 - val_accuracy: 0.6103\n",
      "Epoch 23/50\n",
      "40/40 [==============================] - 2s 55ms/step - loss: 0.5624 - accuracy: 0.6945 - val_loss: 0.6899 - val_accuracy: 0.5956\n",
      "Epoch 24/50\n",
      "40/40 [==============================] - 2s 54ms/step - loss: 0.5558 - accuracy: 0.7087 - val_loss: 0.6379 - val_accuracy: 0.6471\n",
      "Epoch 25/50\n",
      "40/40 [==============================] - 2s 54ms/step - loss: 0.5443 - accuracy: 0.7071 - val_loss: 0.7483 - val_accuracy: 0.5809\n",
      "Epoch 26/50\n",
      "40/40 [==============================] - 2s 53ms/step - loss: 0.5732 - accuracy: 0.7071 - val_loss: 0.6542 - val_accuracy: 0.6176\n",
      "Epoch 27/50\n",
      "40/40 [==============================] - 2s 54ms/step - loss: 0.5561 - accuracy: 0.7055 - val_loss: 0.6513 - val_accuracy: 0.6765\n",
      "Epoch 28/50\n",
      "40/40 [==============================] - 2s 53ms/step - loss: 0.5777 - accuracy: 0.6850 - val_loss: 0.6893 - val_accuracy: 0.6765\n",
      "Epoch 29/50\n",
      "40/40 [==============================] - 2s 56ms/step - loss: 0.5342 - accuracy: 0.7370 - val_loss: 0.6475 - val_accuracy: 0.6765\n",
      "Epoch 30/50\n",
      "40/40 [==============================] - 2s 58ms/step - loss: 0.5418 - accuracy: 0.7339 - val_loss: 0.6448 - val_accuracy: 0.6103\n",
      "Epoch 31/50\n",
      "40/40 [==============================] - 2s 56ms/step - loss: 0.5427 - accuracy: 0.7134 - val_loss: 0.6868 - val_accuracy: 0.6324\n",
      "Epoch 32/50\n",
      "40/40 [==============================] - 2s 54ms/step - loss: 0.5229 - accuracy: 0.7528 - val_loss: 0.7098 - val_accuracy: 0.6250\n",
      "Epoch 33/50\n",
      "40/40 [==============================] - 2s 53ms/step - loss: 0.5211 - accuracy: 0.7480 - val_loss: 0.7494 - val_accuracy: 0.6250\n",
      "Epoch 34/50\n",
      "40/40 [==============================] - 2s 53ms/step - loss: 0.5137 - accuracy: 0.7543 - val_loss: 0.6689 - val_accuracy: 0.6397\n",
      "Epoch 35/50\n",
      "40/40 [==============================] - 2s 54ms/step - loss: 0.5292 - accuracy: 0.7528 - val_loss: 0.7523 - val_accuracy: 0.5956\n",
      "Epoch 36/50\n",
      "40/40 [==============================] - 2s 54ms/step - loss: 0.5326 - accuracy: 0.7496 - val_loss: 0.6240 - val_accuracy: 0.6691\n",
      "Epoch 37/50\n",
      "40/40 [==============================] - 2s 53ms/step - loss: 0.5091 - accuracy: 0.7354 - val_loss: 0.7373 - val_accuracy: 0.6176\n",
      "Epoch 38/50\n",
      "40/40 [==============================] - 2s 54ms/step - loss: 0.5201 - accuracy: 0.7244 - val_loss: 0.6333 - val_accuracy: 0.6765\n",
      "Epoch 39/50\n",
      "40/40 [==============================] - 2s 57ms/step - loss: 0.4913 - accuracy: 0.7654 - val_loss: 0.7292 - val_accuracy: 0.6103\n",
      "Epoch 40/50\n",
      "40/40 [==============================] - 2s 60ms/step - loss: 0.4698 - accuracy: 0.7795 - val_loss: 0.6793 - val_accuracy: 0.6618\n",
      "Epoch 41/50\n",
      "40/40 [==============================] - 2s 54ms/step - loss: 0.5035 - accuracy: 0.7528 - val_loss: 0.6631 - val_accuracy: 0.6397\n",
      "Epoch 42/50\n",
      "40/40 [==============================] - 2s 53ms/step - loss: 0.4532 - accuracy: 0.7953 - val_loss: 0.6222 - val_accuracy: 0.6691\n",
      "Epoch 43/50\n",
      "40/40 [==============================] - 2s 55ms/step - loss: 0.4794 - accuracy: 0.7591 - val_loss: 0.6813 - val_accuracy: 0.6691\n",
      "Epoch 44/50\n",
      "40/40 [==============================] - 2s 54ms/step - loss: 0.4721 - accuracy: 0.7921 - val_loss: 0.5899 - val_accuracy: 0.6838\n",
      "Epoch 45/50\n",
      "40/40 [==============================] - 2s 53ms/step - loss: 0.4711 - accuracy: 0.7843 - val_loss: 0.6410 - val_accuracy: 0.6691\n",
      "Epoch 46/50\n",
      "40/40 [==============================] - 2s 53ms/step - loss: 0.4587 - accuracy: 0.7764 - val_loss: 0.6365 - val_accuracy: 0.6912\n",
      "Epoch 47/50\n",
      "40/40 [==============================] - 2s 53ms/step - loss: 0.4923 - accuracy: 0.7748 - val_loss: 0.6378 - val_accuracy: 0.6838\n",
      "Epoch 48/50\n",
      "40/40 [==============================] - 2s 55ms/step - loss: 0.4661 - accuracy: 0.7921 - val_loss: 0.6345 - val_accuracy: 0.6985\n",
      "Epoch 49/50\n",
      "40/40 [==============================] - 2s 54ms/step - loss: 0.4548 - accuracy: 0.7969 - val_loss: 0.6892 - val_accuracy: 0.6471\n",
      "Epoch 50/50\n",
      "40/40 [==============================] - 2s 55ms/step - loss: 0.4398 - accuracy: 0.8047 - val_loss: 0.9021 - val_accuracy: 0.5956\n",
      "5/5 [==============================] - 0s 19ms/step - loss: 0.5892 - accuracy: 0.7353\n",
      "Test loss: 0.5891848802566528, Test accuracy: 0.7352941036224365\n"
     ]
    }
   ],
   "source": [
    "from keras.optimizers import Adam\n",
    "# Define the model\n",
    "model = Sequential()\n",
    "\n",
    "# Convolutional layer\n",
    "model.add(Conv1D(128, 3, activation='relu', input_shape=(n_timesteps, n_features)))\n",
    "model.add(MaxPooling1D(3))\n",
    "\n",
    "# Batch normalization layer\n",
    "model.add(BatchNormalization())\n",
    "\n",
    "# LSTM layer\n",
    "model.add(Bidirectional(LSTM(25, return_sequences=True)))  # Bidirectional LSTM layer with 50 units\n",
    "\n",
    "# Dropout for regularization\n",
    "model.add(Dropout(0.5))\n",
    "\n",
    "# LSTM layer\n",
    "model.add(Bidirectional(LSTM(75)))  # Another Bidirectional LSTM layer with 50 units\n",
    "\n",
    "# Output layer for binary classification\n",
    "model.add(Dense(1, activation='sigmoid'))  \n",
    "\n",
    "learning_rate = 0.005  # Set the learning rate\n",
    "optimizer = Adam(learning_rate=learning_rate)\n",
    "model.compile(loss='binary_crossentropy', optimizer=optimizer, metrics=['accuracy'])\n",
    "\n",
    "# Train the model on the training data and validate on the validation data\n",
    "history = model.fit(X_train, y_train, epochs=50, batch_size=16, validation_data=(X_val, y_val))\n",
    "\n",
    "# Test the model on the test data\n",
    "test_loss, test_accuracy = model.evaluate(X_test, y_test)\n",
    "print(f'Test loss: {test_loss}, Test accuracy: {test_accuracy}')"
   ]
  },
  {
   "cell_type": "code",
   "execution_count": 27,
   "metadata": {
    "id": "HBHwcL8sYTpX"
   },
   "outputs": [
    {
     "name": "stdout",
     "output_type": "stream",
     "text": [
      "5/5 [==============================] - 1s 19ms/step\n"
     ]
    },
    {
     "data": {
      "image/png": "[encoded data removed]",
      "text/plain": [
       "<Figure size 1000x700 with 2 Axes>"
      ]
     },
     "metadata": {},
     "output_type": "display_data"
    }
   ],
   "source": [
    "from sklearn.metrics import confusion_matrix\n",
    "import seaborn as sns\n",
    "import matplotlib.pyplot as plt\n",
    "from numpy import argmax\n",
    "\n",
    "# predict the values from the test dataset\n",
    "y_pred = model.predict(X_test)\n",
    "y_pred = [1 if y >= 0.5 else 0 for y in y_pred]  # transform probabilities into binary outputs\n",
    "\n",
    "# Compute the confusion matrix\n",
    "conf_mat = confusion_matrix(y_test, y_pred)\n",
    "\n",
    "# Plot the confusion matrix\n",
    "plt.figure(figsize=(10, 7))\n",
    "sns.heatmap(conf_mat, annot=True, fmt='d', cmap=\"Blues\")\n",
    "plt.title('Confusion matrix')\n",
    "plt.xlabel('Predicted Voluntary Blinking')\n",
    "plt.ylabel('True Voluntary Blinking')\n",
    "plt.show()"
   ]
  },
  {
   "cell_type": "code",
   "execution_count": 28,
   "metadata": {
    "colab": {
     "base_uri": "https://localhost:8080/"
    },
    "id": "9w_cDUwCYTpX",
    "outputId": "3582ac44-1f5f-4cb2-b833-d477f152461a",
    "scrolled": true
   },
   "outputs": [
    {
     "name": "stdout",
     "output_type": "stream",
     "text": [
      "              precision    recall  f1-score   support\n",
      "\n",
      "         0.0       0.70      0.80      0.75        66\n",
      "         1.0       0.78      0.67      0.72        70\n",
      "\n",
      "    accuracy                           0.74       136\n",
      "   macro avg       0.74      0.74      0.73       136\n",
      "weighted avg       0.74      0.74      0.73       136\n",
      "\n"
     ]
    }
   ],
   "source": [
    "from sklearn.metrics import classification_report\n",
    "\n",
    "# Generate the classification report\n",
    "report = classification_report(y_test, y_pred)\n",
    "\n",
    "print(report)"
   ]
  },
  {
   "cell_type": "code",
   "execution_count": 29,
   "metadata": {},
   "outputs": [],
   "source": [
    "import numpy as np\n",
    "from scipy import signal\n",
    "\n",
    "def calculate_psd(data, Fs):\n",
    "    \"\"\"\n",
    "    Calculate the power spectral density (PSD) for EEG data.\n",
    "\n",
    "    Parameters:\n",
    "    - data: array-like, EEG data with shape (channels, points, trials)\n",
    "    - Fs: int, the sampling frequency\n",
    "\n",
    "    Returns:\n",
    "    - psds: array-like, PSDs with shape (channels, frequencies, trials)\n",
    "    - freqs: array-like, frequencies for which the PSDs were computed\n",
    "    \"\"\"\n",
    "    # Initialize array to store the PSDs\n",
    "    psds = []\n",
    "\n",
    "    # Loop over the channels\n",
    "    for channel_data in data:\n",
    "        # Loop over the trials\n",
    "        channel_psds = []\n",
    "        for trial_data in channel_data.T:\n",
    "            # Calculate the PSD using Welch's method\n",
    "            freqs, psd = signal.welch(trial_data, Fs)\n",
    "            channel_psds.append(psd)\n",
    "        psds.append(channel_psds)\n",
    "    \n",
    "    return np.array(psds), freqs"
   ]
  },
  {
   "cell_type": "code",
   "execution_count": 30,
   "metadata": {},
   "outputs": [],
   "source": [
    "# Extract the data from the .mat files\n",
    "data_invol = mat_invol['epochs_blinks_ASR_invol']\n",
    "data_vol = mat_vol['epochs_blinks_ASR_vol']\n",
    "\n",
    "Fs=250; #sample frequency\n",
    "# Calculate the PSDs of the GNAN data\n",
    "psds_invol, freqs = calculate_psd(data_invol, Fs)\n",
    "psds_vol, _ = calculate_psd(data_vol, Fs)\n",
    "\n",
    "# Number of features ('FP1' and 'FP2'), time steps and samples\n",
    "n_features = psds_invol.shape[0]\n",
    "n_timesteps = psds_invol.shape[2]\n",
    "n_samples_invol = psds_invol.shape[1]\n",
    "n_samples_vol = psds_vol.shape[1]\n",
    "\n",
    "# Reshape the data to be of size (samples, timesteps, features)\n",
    "psds_invol = np.transpose(psds_invol, (1, 2, 0))\n",
    "psds_vol = np.transpose(psds_vol, (1, 2, 0))\n",
    "\n",
    "# Create labels for the involuntary (0) and voluntary (1) data\n",
    "labels_invol = np.zeros((n_samples_invol, 1))\n",
    "labels_vol = np.ones((n_samples_vol, 1))\n",
    "\n",
    "# Combine the involuntary and voluntary data and labels\n",
    "X = np.concatenate((psds_invol, psds_vol), axis=0)\n",
    "y = np.concatenate((labels_invol, labels_vol), axis=0)"
   ]
  },
  {
   "cell_type": "code",
   "execution_count": 31,
   "metadata": {},
   "outputs": [],
   "source": [
    "# Split the data into training and temporary sets (70% training, 30% temporary)\n",
    "X_temp, X_train, y_temp, y_train = train_test_split(X, y, test_size=0.7, random_state=42, shuffle=True)\n",
    "\n",
    "# Split the temporary set into validation and test sets (50% validation, 50% test)\n",
    "X_val, X_test, y_val, y_test = train_test_split(X_temp, y_temp, test_size=0.5, random_state=42, shuffle=True)"
   ]
  },
  {
   "cell_type": "code",
   "execution_count": 39,
   "metadata": {},
   "outputs": [
    {
     "name": "stdout",
     "output_type": "stream",
     "text": [
      "Epoch 1/50\n",
      "40/40 [==============================] - 13s 182ms/step - loss: 0.6773 - accuracy: 0.5496 - val_loss: 0.6826 - val_accuracy: 0.4853\n",
      "Epoch 2/50\n",
      "40/40 [==============================] - 6s 140ms/step - loss: 0.6644 - accuracy: 0.6016 - val_loss: 0.7126 - val_accuracy: 0.5147\n",
      "Epoch 3/50\n",
      "40/40 [==============================] - 5s 137ms/step - loss: 0.6648 - accuracy: 0.5795 - val_loss: 0.6962 - val_accuracy: 0.5294\n",
      "Epoch 4/50\n",
      "40/40 [==============================] - 4s 110ms/step - loss: 0.6555 - accuracy: 0.6252 - val_loss: 0.6955 - val_accuracy: 0.5441\n",
      "Epoch 5/50\n",
      "40/40 [==============================] - 4s 105ms/step - loss: 0.6535 - accuracy: 0.6047 - val_loss: 0.7673 - val_accuracy: 0.5368\n",
      "Epoch 6/50\n",
      "40/40 [==============================] - 4s 106ms/step - loss: 0.6430 - accuracy: 0.6378 - val_loss: 0.7478 - val_accuracy: 0.5294\n",
      "Epoch 7/50\n",
      "40/40 [==============================] - 4s 105ms/step - loss: 0.6402 - accuracy: 0.6299 - val_loss: 0.6997 - val_accuracy: 0.5588\n",
      "Epoch 8/50\n",
      "40/40 [==============================] - 4s 100ms/step - loss: 0.6252 - accuracy: 0.6535 - val_loss: 0.7366 - val_accuracy: 0.5147\n",
      "Epoch 9/50\n",
      "40/40 [==============================] - 4s 99ms/step - loss: 0.6245 - accuracy: 0.6661 - val_loss: 0.6956 - val_accuracy: 0.5735\n",
      "Epoch 10/50\n",
      "40/40 [==============================] - 4s 107ms/step - loss: 0.6141 - accuracy: 0.6630 - val_loss: 0.6891 - val_accuracy: 0.5735\n",
      "Epoch 11/50\n",
      "40/40 [==============================] - 4s 101ms/step - loss: 0.6146 - accuracy: 0.6567 - val_loss: 0.6718 - val_accuracy: 0.5662\n",
      "Epoch 12/50\n",
      "40/40 [==============================] - 4s 105ms/step - loss: 0.6008 - accuracy: 0.6866 - val_loss: 0.6883 - val_accuracy: 0.5515\n",
      "Epoch 13/50\n",
      "40/40 [==============================] - 4s 102ms/step - loss: 0.5677 - accuracy: 0.7071 - val_loss: 0.6871 - val_accuracy: 0.5368\n",
      "Epoch 14/50\n",
      "40/40 [==============================] - 4s 112ms/step - loss: 0.5643 - accuracy: 0.7197 - val_loss: 0.6870 - val_accuracy: 0.5809\n",
      "Epoch 15/50\n",
      "40/40 [==============================] - 4s 105ms/step - loss: 0.5624 - accuracy: 0.7244 - val_loss: 0.7380 - val_accuracy: 0.5662\n",
      "Epoch 16/50\n",
      "40/40 [==============================] - 4s 100ms/step - loss: 0.5475 - accuracy: 0.7213 - val_loss: 0.6689 - val_accuracy: 0.6324\n",
      "Epoch 17/50\n",
      "40/40 [==============================] - 4s 99ms/step - loss: 0.5589 - accuracy: 0.6992 - val_loss: 0.6907 - val_accuracy: 0.5882\n",
      "Epoch 18/50\n",
      "40/40 [==============================] - 4s 99ms/step - loss: 0.5495 - accuracy: 0.7276 - val_loss: 0.6429 - val_accuracy: 0.6324\n",
      "Epoch 19/50\n",
      "40/40 [==============================] - 4s 100ms/step - loss: 0.5372 - accuracy: 0.7386 - val_loss: 0.6403 - val_accuracy: 0.6544\n",
      "Epoch 20/50\n",
      "40/40 [==============================] - 4s 103ms/step - loss: 0.5288 - accuracy: 0.7449 - val_loss: 0.6522 - val_accuracy: 0.6397\n",
      "Epoch 21/50\n",
      "40/40 [==============================] - 5s 125ms/step - loss: 0.5171 - accuracy: 0.7559 - val_loss: 0.6983 - val_accuracy: 0.6029\n",
      "Epoch 22/50\n",
      "40/40 [==============================] - 6s 142ms/step - loss: 0.5125 - accuracy: 0.7417 - val_loss: 0.7309 - val_accuracy: 0.6103\n",
      "Epoch 23/50\n",
      "40/40 [==============================] - 6s 140ms/step - loss: 0.5231 - accuracy: 0.7480 - val_loss: 0.6121 - val_accuracy: 0.6838\n",
      "Epoch 24/50\n",
      "40/40 [==============================] - 6s 149ms/step - loss: 0.5546 - accuracy: 0.7260 - val_loss: 0.6501 - val_accuracy: 0.6324\n",
      "Epoch 25/50\n",
      "40/40 [==============================] - 6s 144ms/step - loss: 0.5102 - accuracy: 0.7638 - val_loss: 0.6287 - val_accuracy: 0.6324\n",
      "Epoch 26/50\n",
      "40/40 [==============================] - 6s 151ms/step - loss: 0.4978 - accuracy: 0.7764 - val_loss: 0.7218 - val_accuracy: 0.5882\n",
      "Epoch 27/50\n",
      "40/40 [==============================] - 6s 149ms/step - loss: 0.4691 - accuracy: 0.7827 - val_loss: 0.6987 - val_accuracy: 0.6618\n",
      "Epoch 28/50\n",
      "40/40 [==============================] - 6s 147ms/step - loss: 0.5035 - accuracy: 0.7543 - val_loss: 0.6360 - val_accuracy: 0.6471\n",
      "Epoch 29/50\n",
      "40/40 [==============================] - 6s 143ms/step - loss: 0.4761 - accuracy: 0.7591 - val_loss: 0.6987 - val_accuracy: 0.6324\n",
      "Epoch 30/50\n",
      "40/40 [==============================] - 6s 145ms/step - loss: 0.4903 - accuracy: 0.7685 - val_loss: 0.7548 - val_accuracy: 0.5809\n",
      "Epoch 31/50\n",
      "40/40 [==============================] - 6s 144ms/step - loss: 0.4916 - accuracy: 0.7512 - val_loss: 0.7004 - val_accuracy: 0.6176\n",
      "Epoch 32/50\n",
      "40/40 [==============================] - 6s 143ms/step - loss: 0.4512 - accuracy: 0.7937 - val_loss: 0.7575 - val_accuracy: 0.6029\n",
      "Epoch 33/50\n",
      "40/40 [==============================] - 6s 146ms/step - loss: 0.4646 - accuracy: 0.7654 - val_loss: 0.6328 - val_accuracy: 0.6912\n",
      "Epoch 34/50\n",
      "40/40 [==============================] - 6s 155ms/step - loss: 0.4657 - accuracy: 0.7717 - val_loss: 0.6439 - val_accuracy: 0.6838\n",
      "Epoch 35/50\n",
      "40/40 [==============================] - 6s 158ms/step - loss: 0.4587 - accuracy: 0.8047 - val_loss: 0.7139 - val_accuracy: 0.6471\n",
      "Epoch 36/50\n",
      "40/40 [==============================] - 7s 164ms/step - loss: 0.4331 - accuracy: 0.8016 - val_loss: 0.9442 - val_accuracy: 0.5809\n",
      "Epoch 37/50\n",
      "40/40 [==============================] - 6s 158ms/step - loss: 0.4842 - accuracy: 0.7874 - val_loss: 0.6602 - val_accuracy: 0.6691\n",
      "Epoch 38/50\n",
      "40/40 [==============================] - 6s 152ms/step - loss: 0.4507 - accuracy: 0.7984 - val_loss: 0.6444 - val_accuracy: 0.6912\n",
      "Epoch 39/50\n",
      "40/40 [==============================] - 6s 153ms/step - loss: 0.4515 - accuracy: 0.7984 - val_loss: 0.6377 - val_accuracy: 0.7132\n",
      "Epoch 40/50\n",
      "40/40 [==============================] - 6s 147ms/step - loss: 0.4191 - accuracy: 0.8094 - val_loss: 0.6880 - val_accuracy: 0.7132\n",
      "Epoch 41/50\n",
      "40/40 [==============================] - 6s 148ms/step - loss: 0.4082 - accuracy: 0.8283 - val_loss: 0.7891 - val_accuracy: 0.6029\n",
      "Epoch 42/50\n",
      "40/40 [==============================] - 6s 152ms/step - loss: 0.4113 - accuracy: 0.8362 - val_loss: 0.7251 - val_accuracy: 0.6618\n",
      "Epoch 43/50\n",
      "40/40 [==============================] - 6s 146ms/step - loss: 0.4123 - accuracy: 0.8000 - val_loss: 0.6519 - val_accuracy: 0.6765\n",
      "Epoch 44/50\n",
      "40/40 [==============================] - 6s 149ms/step - loss: 0.4276 - accuracy: 0.7984 - val_loss: 0.7617 - val_accuracy: 0.6397\n",
      "Epoch 45/50\n",
      "40/40 [==============================] - 5s 136ms/step - loss: 0.4106 - accuracy: 0.8094 - val_loss: 0.6912 - val_accuracy: 0.6250\n",
      "Epoch 46/50\n",
      "40/40 [==============================] - 4s 105ms/step - loss: 0.3947 - accuracy: 0.8315 - val_loss: 0.6437 - val_accuracy: 0.6838\n",
      "Epoch 47/50\n",
      "40/40 [==============================] - 4s 99ms/step - loss: 0.3850 - accuracy: 0.8409 - val_loss: 0.7569 - val_accuracy: 0.6691\n",
      "Epoch 48/50\n",
      "40/40 [==============================] - 4s 102ms/step - loss: 0.3579 - accuracy: 0.8583 - val_loss: 0.8310 - val_accuracy: 0.6324\n",
      "Epoch 49/50\n",
      "40/40 [==============================] - 4s 98ms/step - loss: 0.4330 - accuracy: 0.8126 - val_loss: 0.6203 - val_accuracy: 0.6985\n",
      "Epoch 50/50\n",
      "40/40 [==============================] - 4s 105ms/step - loss: 0.3711 - accuracy: 0.8488 - val_loss: 0.6771 - val_accuracy: 0.6838\n",
      "5/5 [==============================] - 0s 37ms/step - loss: 0.5309 - accuracy: 0.7721\n",
      "Test loss: 0.5309160351753235, Test accuracy: 0.7720588445663452\n"
     ]
    }
   ],
   "source": [
    "# Define the model\n",
    "model = Sequential()\n",
    "\n",
    "# Convolutional layer\n",
    "model.add(Conv1D(128, 3, activation='relu', input_shape=(n_timesteps, n_features)))\n",
    "model.add(MaxPooling1D(3))\n",
    "\n",
    "# Batch normalization layer\n",
    "model.add(BatchNormalization())\n",
    "\n",
    "# LSTM layer\n",
    "model.add(Bidirectional(LSTM(25, return_sequences=True)))  # Bidirectional LSTM layer with 50 units\n",
    "\n",
    "# Dropout for regularization\n",
    "model.add(Dropout(0.4))\n",
    "\n",
    "# LSTM layer\n",
    "model.add(Bidirectional(LSTM(75)))  # Another Bidirectional LSTM layer with 50 units\n",
    "\n",
    "# Output layer for binary classification\n",
    "model.add(Dense(1, activation='sigmoid'))  \n",
    "\n",
    "learning_rate = 0.0025999  # Set the learning rate\n",
    "optimizer = Adam(learning_rate=learning_rate)\n",
    "model.compile(loss='binary_crossentropy', optimizer=optimizer, metrics=['accuracy'])\n",
    "\n",
    "# Train the model on the training data and validate on the validation data\n",
    "history = model.fit(X_train, y_train, epochs=50, batch_size=16, validation_data=(X_val, y_val))\n",
    "\n",
    "# Test the model on the test data\n",
    "test_loss, test_accuracy = model.evaluate(X_test, y_test)\n",
    "print(f'Test loss: {test_loss}, Test accuracy: {test_accuracy}')"
   ]
  },
  {
   "cell_type": "code",
   "execution_count": 40,
   "metadata": {},
   "outputs": [
    {
     "name": "stdout",
     "output_type": "stream",
     "text": [
      "5/5 [==============================] - 1s 45ms/step\n"
     ]
    },
    {
     "data": {
      "image/png": "[encoded data removed]",
      "text/plain": [
       "<Figure size 1000x700 with 2 Axes>"
      ]
     },
     "metadata": {},
     "output_type": "display_data"
    }
   ],
   "source": [
    "# predict the values from the test dataset\n",
    "y_pred = model.predict(X_test)\n",
    "y_pred = [1 if y >= 0.5 else 0 for y in y_pred]  # transform probabilities into binary outputs\n",
    "\n",
    "# Compute the confusion matrix\n",
    "conf_mat = confusion_matrix(y_test, y_pred)\n",
    "\n",
    "# Plot the confusion matrix\n",
    "plt.figure(figsize=(10, 7))\n",
    "sns.heatmap(conf_mat, annot=True, fmt='d', cmap=\"Blues\")\n",
    "plt.title('Confusion matrix')\n",
    "plt.xlabel('Predicted Voluntary Blinking')\n",
    "plt.ylabel('True Voluntary Blinking')\n",
    "plt.show()"
   ]
  },
  {
   "cell_type": "code",
   "execution_count": 41,
   "metadata": {},
   "outputs": [
    {
     "name": "stdout",
     "output_type": "stream",
     "text": [
      "              precision    recall  f1-score   support\n",
      "\n",
      "         0.0       0.73      0.85      0.78        66\n",
      "         1.0       0.83      0.70      0.76        70\n",
      "\n",
      "    accuracy                           0.77       136\n",
      "   macro avg       0.78      0.77      0.77       136\n",
      "weighted avg       0.78      0.77      0.77       136\n",
      "\n"
     ]
    }
   ],
   "source": [
    "# Generate the classification report\n",
    "report = classification_report(y_test, y_pred)\n",
    "\n",
    "print(report)"
   ]
  }
 ],
 "metadata": {
  "colab": {
   "collapsed_sections": [
    "4e5eiVLOYTp5"
   ],
   "provenance": []
  },
  "kernelspec": {
   "display_name": "Python 3 (ipykernel)",
   "language": "python",
   "name": "python3"
  },
  "language_info": {
   "codemirror_mode": {
    "name": "ipython",
    "version": 3
   },
   "file_extension": ".py",
   "mimetype": "text/x-python",
   "name": "python",
   "nbconvert_exporter": "python",
   "pygments_lexer": "ipython3",
   "version": "3.9.6"
  },
  "varInspector": {
   "cols": {
    "lenName": 16,
    "lenType": 16,
    "lenVar": 40
   },
   "kernels_config": {
    "python": {
     "delete_cmd_postfix": "",
     "delete_cmd_prefix": "del ",
     "library": "var_list.py",
     "varRefreshCmd": "print(var_dic_list())"
    },
    "r": {
     "delete_cmd_postfix": ") ",
     "delete_cmd_prefix": "rm(",
     "library": "var_list.r",
     "varRefreshCmd": "cat(var_dic_list()) "
    }
   },
   "oldHeight": 594.85,
   "position": {
    "height": "40px",
    "left": "723px",
    "right": "20px",
    "top": "80px",
    "width": "250px"
   },
   "types_to_exclude": [
    "module",
    "function",
    "builtin_function_or_method",
    "instance",
    "_Feature"
   ],
   "varInspector_section_display": "none",
   "window_display": true
  }
 },
 "nbformat": 4,
 "nbformat_minor": 1
}
